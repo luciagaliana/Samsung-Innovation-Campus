{
 "cells": [
  {
   "cell_type": "markdown",
   "id": "ba79cfe8-2c4b-406b-8fb5-c9aacdd85dd4",
   "metadata": {
    "jp-MarkdownHeadingCollapsed": true
   },
   "source": [
    "### Chapter 3, Unit 17, Paper coding Q1"
   ]
  },
  {
   "cell_type": "code",
   "execution_count": 13,
   "id": "ac8519d5-c0fa-4269-83bb-0322f48a28df",
   "metadata": {},
   "outputs": [
    {
     "name": "stdout",
     "output_type": "stream",
     "text": [
      "Welcome.\n",
      "Welcome.\n"
     ]
    }
   ],
   "source": [
    "def my_greet():\n",
    "    print(\"Welcome.\")\n",
    "my_greet()\n",
    "my_greet()"
   ]
  },
  {
   "cell_type": "markdown",
   "id": "c55a101e-9629-4c29-87f6-ff3fc826cae4",
   "metadata": {
    "jp-MarkdownHeadingCollapsed": true
   },
   "source": [
    "### Chapter 3, Unit 17, Paper coding Q2"
   ]
  },
  {
   "cell_type": "code",
   "execution_count": 14,
   "id": "74bcf3db-cd16-4b8f-a69c-4b499b2d9070",
   "metadata": {},
   "outputs": [
    {
     "name": "stdout",
     "output_type": "stream",
     "text": [
      "200\n",
      "100\n"
     ]
    }
   ],
   "source": [
    "def max2(m,n):\n",
    "    if m>n: print(m)\n",
    "    elif n>m: print(n)\n",
    "    else: print(\"Los valores son iguales\")\n",
    "\n",
    "def min2(m,n):\n",
    "    if m<n: print(m)\n",
    "    elif n<m: print(n)\n",
    "    else: print(\"Los valores son iguales\")\n",
    "\n",
    "max2(100,200)\n",
    "min2(100,200)\n",
    "\n",
    "    "
   ]
  },
  {
   "cell_type": "markdown",
   "id": "0195ad25-2315-4be6-b4b4-439b8a732222",
   "metadata": {
    "jp-MarkdownHeadingCollapsed": true
   },
   "source": [
    "### Chapter 3, Unit 17, Paper coding Q3"
   ]
  },
  {
   "cell_type": "code",
   "execution_count": 26,
   "id": "e27289e7-837f-479b-97fe-b83cab88b439",
   "metadata": {},
   "outputs": [
    {
     "name": "stdout",
     "output_type": "stream",
     "text": [
      "1 mile = 1.61 kilometers\n",
      "2 mile = 3.22 kilometers\n",
      "3 mile = 4.83 kilometers\n",
      "4 mile = 6.44 kilometers\n",
      "5 mile = 8.05 kilometers\n"
     ]
    }
   ],
   "source": [
    "def mile2km(n):\n",
    "    print(f\"{i} mile = {i*1.61} kilometers\")\n",
    "\n",
    "for i in range(1,6):\n",
    "    mile2km(i)"
   ]
  },
  {
   "cell_type": "markdown",
   "id": "aa772645-7420-44d8-8874-4f8abb929e0d",
   "metadata": {},
   "source": [
    "### Chapter 3, Unit 17, Paper coding Q4"
   ]
  },
  {
   "cell_type": "code",
   "execution_count": 25,
   "id": "8cf5c376-44d1-46f6-8c72-f35da3e8e041",
   "metadata": {},
   "outputs": [
    {
     "name": "stdout",
     "output_type": "stream",
     "text": [
      "10 degrees Celsius = 50.0 degrees Fahrenheit.\n",
      "20 degrees Celsius = 68.0 degrees Fahrenheit.\n",
      "30 degrees Celsius = 86.0 degrees Fahrenheit.\n",
      "40 degrees Celsius = 104.0 degrees Fahrenheit.\n",
      "50 degrees Celsius = 122.0 degrees Fahrenheit.\n"
     ]
    }
   ],
   "source": [
    "def cel2fah(cel):\n",
    "    print(f\"{cel} degrees Celsius = {cel*9/5+32} degrees Fahrenheit.\")\n",
    "    \n",
    "for j in range(10,60,10):\n",
    "    cel2fah(j)"
   ]
  },
  {
   "cell_type": "markdown",
   "id": "5508931a-0f2a-4e88-96dc-634d2de38b41",
   "metadata": {
    "jp-MarkdownHeadingCollapsed": true
   },
   "source": [
    "### Chapter 3, Unit 17, Pair programming Q1"
   ]
  },
  {
   "cell_type": "code",
   "execution_count": null,
   "id": "2895a87a-6b76-4316-912f-b81c168851cf",
   "metadata": {},
   "outputs": [],
   "source": [
    "n1, n2, n3 = map(int,input(\"Enter three numbers\").split(\" \"))\n",
    "\n",
    "print(n1,n2,n3)\n",
    "\n",
    "def mean3(a,b,c):\n",
    "    res=(a+b+c)/3\n",
    "    print(\"La media de los valores es\", res)\n",
    "\n",
    "def max3(a,b,c):\n",
    "    res=max(a,b,c)\n",
    "    print(\"El mayor valor es\",res)\n",
    "\n",
    "def min3(a,b,c):\n",
    "    res=min(a,b,c)\n",
    "    print(\"El menor valor es\",res)\n",
    "\n",
    "mean3(n1,n2,n3)\n",
    "max3(n1,n2,n3)\n",
    "min3(n1,n2,n3)\n",
    "\n"
   ]
  },
  {
   "cell_type": "markdown",
   "id": "339659bc-fe00-4895-b668-c51afc09dca1",
   "metadata": {
    "jp-MarkdownHeadingCollapsed": true
   },
   "source": [
    "### Chapter 3, Unit 17, Pair programming Q1, Versión profesor"
   ]
  },
  {
   "cell_type": "code",
   "execution_count": null,
   "id": "be8cf632-e4b3-4a9d-b994-f3c9198438f6",
   "metadata": {},
   "outputs": [],
   "source": [
    "entrada = input(\"Introduce 3 valores (separados por espacios)\")\n",
    "lista_numeros=entrada.split()\n",
    "print(lista_numeros)\n",
    "if len(lista_numeros) !=3:\n",
    "    print(\"No se han introducido el número de valores correcto.\")\n",
    "else:\n",
    "    a,b,c =int(lista_numeros[0]), int(lista_numeros[1]), int(lista_numeros[2])\n",
    "\n",
    "def mean3(a,b,c):\n",
    "    res=(a+b+c)/3\n",
    "    print(\"La media de los valores es\", res)\n",
    "\n",
    "def max3(a,b,c):\n",
    "    res=max(a,b,c)\n",
    "    print(\"El mayor valor es\",res)\n",
    "\n",
    "def min3(a,b,c):\n",
    "    res=min(a,b,c)\n",
    "    print(\"El menor valor es\",res)\n",
    "\n",
    "mean3(a,b,c)\n",
    "max3(a,b,c)\n",
    "min3(a,b,c)"
   ]
  },
  {
   "cell_type": "markdown",
   "id": "478cdfa0-89cf-4936-bfe5-3eb544cd5bab",
   "metadata": {
    "jp-MarkdownHeadingCollapsed": true
   },
   "source": [
    "### Ejercicios clase: Factorial (Recursividad)"
   ]
  },
  {
   "cell_type": "code",
   "execution_count": 14,
   "id": "35f650d1-66ce-48d4-84aa-d0b8d580bcf6",
   "metadata": {},
   "outputs": [
    {
     "name": "stdin",
     "output_type": "stream",
     "text": [
      "Introduce un número entero. 5\n"
     ]
    },
    {
     "name": "stdout",
     "output_type": "stream",
     "text": [
      "El factorial de 5 es 120.\n"
     ]
    }
   ],
   "source": [
    "n = int(input(\"Introduce un número entero.\"))\n",
    "\n",
    "def factorial(n):\n",
    "    if n<=1:\n",
    "        return 1\n",
    "    else:\n",
    "        return n * factorial(n-1)\n",
    "\n",
    "print(f\"El factorial de {n}! es {factorial(n)}.\")\n",
    "\n",
    "\n",
    "# Si hacemos %%timeit te saca la media de lo que ejecutes\n",
    "%%timeit\n",
    "factorial(n)\n",
    "\n",
    "\n",
    "# Si hacemos %%time te mide cuánto tarda en hacer una ejecucción\n",
    "%%time\n",
    "factorial(n)"
   ]
  },
  {
   "cell_type": "markdown",
   "id": "5f942c51-0150-4a5a-9b27-1b43f9c323ab",
   "metadata": {
    "jp-MarkdownHeadingCollapsed": true
   },
   "source": [
    "### Ejercicios clase: Fibonacci (Recursividad)"
   ]
  },
  {
   "cell_type": "code",
   "execution_count": null,
   "id": "a180745b-0da1-4ecd-a8c5-9dffcc3e4244",
   "metadata": {},
   "outputs": [],
   "source": [
    "def fibonacci(n):\n",
    "    if n == 0:\n",
    "        return 0\n",
    "    elif n == 1:\n",
    "        return 1\n",
    "    else:\n",
    "        return fibonacci(n-1) + fibonacci(n-2)\n",
    "\n",
    "print(fibonacci(10))\n"
   ]
  },
  {
   "cell_type": "markdown",
   "id": "4dfec024-12e8-4adc-a081-4888fd42e524",
   "metadata": {
    "jp-MarkdownHeadingCollapsed": true
   },
   "source": [
    "### Ejercicios clase: Fibonacci con memoria (Recursividad con Diccionarios)"
   ]
  },
  {
   "cell_type": "code",
   "execution_count": null,
   "id": "da87a7d4-5568-4167-a55e-2453e2a3cfe2",
   "metadata": {},
   "outputs": [],
   "source": [
    "memoria = {0:0,1:1}\n",
    "def fibonacci_(n):\n",
    "\tif n in memoria:\n",
    "\t\treturn memoria[n]\n",
    "\telse:\n",
    "\tmemoria[n]=fibonacci_m(n-1)+fibonacci_m(n-2)\n",
    "\treturn memoria[n]"
   ]
  },
  {
   "cell_type": "markdown",
   "id": "7a04daf1-08e0-41d6-ae0a-1c9397271945",
   "metadata": {
    "jp-MarkdownHeadingCollapsed": true
   },
   "source": [
    "### Chapter 3, Unit 18, Paper coding Q1"
   ]
  },
  {
   "cell_type": "code",
   "execution_count": 16,
   "id": "b068c726-4ad4-4558-865b-385c40a7ce0f",
   "metadata": {},
   "outputs": [
    {
     "name": "stdin",
     "output_type": "stream",
     "text": [
      "Enter a number 10\n"
     ]
    },
    {
     "data": {
      "text/plain": [
       "55"
      ]
     },
     "execution_count": 16,
     "metadata": {},
     "output_type": "execute_result"
    }
   ],
   "source": [
    "n = int(input(\"Enter a number\"))\n",
    "\n",
    "def sum(n):\n",
    "    if n==1:\n",
    "        return 1\n",
    "    else:\n",
    "        return n + sum(n-1)\n",
    "sum(n)"
   ]
  },
  {
   "cell_type": "markdown",
   "id": "46cdc46f-2ca8-4372-b16e-70f8ed0bd3cf",
   "metadata": {
    "jp-MarkdownHeadingCollapsed": true
   },
   "source": [
    "### Chapter 3, Unit 18, Paper coding Q1 (Con memoria)"
   ]
  },
  {
   "cell_type": "code",
   "execution_count": null,
   "id": "00382b18-2278-41a4-bbc6-86147e64bcf3",
   "metadata": {},
   "outputs": [],
   "source": [
    "memoria = {0:0,1:1}\n",
    "n = int(input(\"Enter a number\"))\n",
    "\n",
    "def sum(n):\n",
    "    if n in memoria:\n",
    "        return memoria[n]\n",
    "    else:\n",
    "        memoria[n] = n + suma(n-1)\n",
    "        return memoria[n]\n",
    "sum(n)"
   ]
  },
  {
   "cell_type": "markdown",
   "id": "3188e97f-83b3-403a-81ea-55164f2e5562",
   "metadata": {
    "jp-MarkdownHeadingCollapsed": true
   },
   "source": [
    "### Chapter 3, Unit 18, Paper coding Q2"
   ]
  },
  {
   "cell_type": "code",
   "execution_count": 18,
   "id": "8d6070cb-9ac1-471d-bc87-a5e54ca1df44",
   "metadata": {},
   "outputs": [
    {
     "name": "stdin",
     "output_type": "stream",
     "text": [
      "Enter a number x 2\n",
      "Enter a number n 10\n"
     ]
    },
    {
     "data": {
      "text/plain": [
       "1024"
      ]
     },
     "execution_count": 18,
     "metadata": {},
     "output_type": "execute_result"
    }
   ],
   "source": [
    "x = int(input(\"Enter a number x\"))\n",
    "n = int(input(\"Enter a number n\"))\n",
    "\n",
    "\n",
    "def cuadrado(x,n):\n",
    "    if n == 1:\n",
    "        return x\n",
    "    elif x == 0:\n",
    "        return 0\n",
    "    else:\n",
    "        return x*cuadrado(x,n-1)\n",
    "cuadrado(x,n)\n",
    "        "
   ]
  },
  {
   "cell_type": "markdown",
   "id": "41336ceb-4273-4779-969d-847540ae38da",
   "metadata": {
    "jp-MarkdownHeadingCollapsed": true
   },
   "source": [
    "### Chapter 3, Unit 18, Paper coding Q2 (Con memoria)"
   ]
  },
  {
   "cell_type": "code",
   "execution_count": 19,
   "id": "60a05e20-829a-441a-9415-0a866875ef2f",
   "metadata": {},
   "outputs": [
    {
     "name": "stdin",
     "output_type": "stream",
     "text": [
      "Enter a number x 2\n",
      "Enter a number n 10\n"
     ]
    },
    {
     "data": {
      "text/plain": [
       "1024"
      ]
     },
     "execution_count": 19,
     "metadata": {},
     "output_type": "execute_result"
    }
   ],
   "source": [
    "x = int(input(\"Enter a number x\"))\n",
    "n = int(input(\"Enter a number n\"))\n",
    "\n",
    "memoria = {}\n",
    "\n",
    "def cuadrado(x,n):\n",
    "    if n == 1:\n",
    "        return x\n",
    "    else:\n",
    "        return x*cuadrado(x,n-1)\n",
    "        \n",
    "cuadrado(x,n)"
   ]
  },
  {
   "cell_type": "markdown",
   "id": "c98404db-8ace-4a27-9516-961a69a6ea62",
   "metadata": {
    "jp-MarkdownHeadingCollapsed": true
   },
   "source": [
    "### Chapter 3, Unit 18, Pair programming Q1"
   ]
  },
  {
   "cell_type": "code",
   "execution_count": 24,
   "id": "e2526b63-fa6d-400b-8122-cab029b35d0b",
   "metadata": {},
   "outputs": [
    {
     "name": "stdin",
     "output_type": "stream",
     "text": [
      "Enter a number n 20\n"
     ]
    },
    {
     "data": {
      "text/plain": [
       "2.7182818284590455"
      ]
     },
     "execution_count": 24,
     "metadata": {},
     "output_type": "execute_result"
    }
   ],
   "source": [
    "n = int(input(\"Enter a number n\"))\n",
    "\n",
    "def euler(n):\n",
    "    if n == 0:\n",
    "        return 1\n",
    "    else:\n",
    "        return 1/factorial(n) + euler(n-1)\n",
    "\n",
    "\n",
    "def factorial(n):\n",
    "    if n<=1:\n",
    "        return 1\n",
    "    else:\n",
    "        return n * factorial(n-1)\n",
    "\n",
    "\n",
    "euler(n)\n"
   ]
  },
  {
   "cell_type": "markdown",
   "id": "8a964b44-2831-44c5-919b-aaefadf5e67a",
   "metadata": {
    "jp-MarkdownHeadingCollapsed": true
   },
   "source": [
    "### Ejercicios clase usando Filter"
   ]
  },
  {
   "cell_type": "code",
   "execution_count": 3,
   "id": "28688ea1-a99e-4fd1-894a-ebebdeb3e91e",
   "metadata": {},
   "outputs": [
    {
     "name": "stdout",
     "output_type": "stream",
     "text": [
      "[12, 6, 4]\n"
     ]
    }
   ],
   "source": [
    "valores = [12,5,3,6,7,29,55,4,1]\n",
    "res = []\n",
    "\n",
    "def pares(n):\n",
    "    if n%2==0:\n",
    "        return True\n",
    "    else:\n",
    "        return False\n",
    "\n",
    "for a in filter(pares, valores):\n",
    "    res.append(a)\n",
    "\n",
    "print(res)\n",
    "\n"
   ]
  },
  {
   "cell_type": "markdown",
   "id": "94b93a69-4df9-4050-934a-3b5fb7d733b3",
   "metadata": {},
   "source": [
    "### Ejercicios clase: usando Filter y Lambda"
   ]
  },
  {
   "cell_type": "code",
   "execution_count": 2,
   "id": "6410e894-e20e-48b8-9114-3236eb0488ad",
   "metadata": {},
   "outputs": [
    {
     "name": "stdout",
     "output_type": "stream",
     "text": [
      "[12, 6, 4]\n"
     ]
    }
   ],
   "source": [
    "valores = [12, 5, 3, 6, 7, 29, 55, 4, 1]\n",
    "pares = lambda n: n % 2 == 0\n",
    "\n",
    "print(list(filter(pares, valores)))"
   ]
  },
  {
   "cell_type": "markdown",
   "id": "9ae4b4d7-698f-4105-a0e3-7c37a7e22b76",
   "metadata": {},
   "source": [
    "### Chapter 3, Unit 19, Paper coding Q1"
   ]
  },
  {
   "cell_type": "code",
   "execution_count": 6,
   "id": "50722415-be37-4301-b46e-d618c0422eff",
   "metadata": {},
   "outputs": [
    {
     "name": "stdout",
     "output_type": "stream",
     "text": [
      "[2, 4, 6, 8, 10]\n"
     ]
    }
   ],
   "source": [
    "n_list = [1,2,3,4,5,6,7,8,9,10]\n",
    "resultado=[]\n",
    "\n",
    "for i in filter(lambda x: x % 2 == 0, valores)\n",
    "    resultado.append(i)\n",
    "print(resultado)"
   ]
  },
  {
   "cell_type": "markdown",
   "id": "b7870e11-c561-4eca-8b7f-8058049fb824",
   "metadata": {},
   "source": [
    "### Chapter 3, Unit 19, Paper coding Q2"
   ]
  },
  {
   "cell_type": "code",
   "execution_count": null,
   "id": "72b5de2f-8d55-4c82-8597-21a92124efc0",
   "metadata": {},
   "outputs": [],
   "source": [
    "n_list = [1,2,3,4,5,6,7,8,9,10]\n",
    "impares = lambda x: x%2==0\n",
    "even_list = list(filter(impares,n_list))\n",
    "\n",
    "print(even_list)"
   ]
  },
  {
   "cell_type": "markdown",
   "id": "edea84a8-a42a-4395-bc6c-1a5f2ae7aa7d",
   "metadata": {},
   "source": [
    "### Chapter 3, Unit 19, Paper coding Q3"
   ]
  },
  {
   "cell_type": "code",
   "execution_count": 9,
   "id": "8e559eee-7e14-49e9-9661-2de9a3fc3521",
   "metadata": {},
   "outputs": [
    {
     "name": "stdout",
     "output_type": "stream",
     "text": [
      "['A', 'B', 'C', 'D']\n"
     ]
    }
   ],
   "source": [
    "a_list=['a','b','c','d']\n",
    "\n",
    "def toUpper(c):\n",
    "    return c.upper()\n",
    "upper_list = list(map(toUpper,a_list))\n",
    "print(upper_list)"
   ]
  },
  {
   "cell_type": "markdown",
   "id": "c20705f8-4d96-4b57-8704-00f5074fe9dc",
   "metadata": {},
   "source": [
    "### Chapter 3, Unit 19, Paper coding Q4"
   ]
  },
  {
   "cell_type": "code",
   "execution_count": 13,
   "id": "51ed5491-d7d5-4897-a750-4b6655ab1856",
   "metadata": {},
   "outputs": [
    {
     "name": "stdout",
     "output_type": "stream",
     "text": [
      "5050\n"
     ]
    }
   ],
   "source": [
    "from functools import reduce\n",
    "suma = reduce(lambda x,y:x+y,range(1,101))\n",
    "print(suma)"
   ]
  },
  {
   "cell_type": "markdown",
   "id": "0093c8c7-5ea6-4331-ae1d-ccf676882c53",
   "metadata": {},
   "source": [
    "### Chapter 3, Unit 19, Pair programming Q1"
   ]
  },
  {
   "cell_type": "code",
   "execution_count": 51,
   "id": "e30ff377-89b9-4753-95e1-e4aee43ca1db",
   "metadata": {},
   "outputs": [
    {
     "name": "stdout",
     "output_type": "stream",
     "text": [
      "[[100, 90, 95], [90, 80, 70], [100, 75, 20], [30, 50, 90]]\n"
     ]
    }
   ],
   "source": [
    "scores = [100,90,95,90,80,70,0,80,90,90,0,90,100,75,20,30,50,90]\n",
    "notasAlumno = []\n",
    "notasAlumnos = []\n",
    "cont=0\n",
    "\n",
    "def notasValidas(l):\n",
    "    if 0 in l:\n",
    "        return False\n",
    "    else:\n",
    "        return True\n",
    "\n",
    "for n in scores:\n",
    "    cont+=1\n",
    "    notasAlumno.append(n)\n",
    "    if cont==3:\n",
    "        if notasValidas(notasAlumno):\n",
    "            notasAlumnos.append(notasAlumno)\n",
    "        cont=0\n",
    "        notasAlumno=[]\n",
    "print(\"El número de estudiantes es:\",len(scores)//3)\n",
    "print(\"El número de estudiantes con notas válidas es:\",len(notasVallidas)//3)\n",
    "print(notasAlumnos)\n"
   ]
  },
  {
   "cell_type": "markdown",
   "id": "1b83dd3b-e717-4ea0-9d12-9b9da85247b5",
   "metadata": {},
   "source": [
    "## IMPORTANTE"
   ]
  },
  {
   "cell_type": "markdown",
   "id": "f108c5f1-b750-4dbd-8b16-238d17fdd5b0",
   "metadata": {
    "jp-MarkdownHeadingCollapsed": true
   },
   "source": [
    "### Chapter 3, Unit 19, Pair programming Q1, Versión 2, listas por comprensión y lambda"
   ]
  },
  {
   "cell_type": "code",
   "execution_count": null,
   "id": "74d79947-78cb-49cb-9c5d-ec5564aef490",
   "metadata": {},
   "outputs": [],
   "source": [
    "scores = [100,90,95,90,80,70,0,80,90,90,0,90,100,75,20,30,50,90]\n",
    "\n",
    "# Crear los grupos de 3 usando comprensión de listas\n",
    "# Recordemos que esto scores[i:i + 3] es el slicing y lo que estamos diciendod es que vaya \n",
    "# de i que empieza en 0 hasta i+3 que en este caso sería 2. \n",
    "listFinal = [scores[i:i + 3] for i in range(0, len(scores), 3)]\n",
    "\n",
    "# Filtrar los grupos que contienen el valor 0\n",
    "lista_final_filtrada = [n for n in listFinal if 0 not in n]\n",
    "\n",
    "# Filtrar los grupos que contienen el valor 0 usando filter y lamda\n",
    "lista_final_filtrada_lambda = list(filter(lambda x: 0 not in x, listFinal))\n",
    "\n",
    "print(\"El número de estudiantes es:\",len(scores)//3)\n",
    "print(\"El número de estudiantes con notas válidas es:\",len(lista_final_filtrada)//3)\n",
    "print(lista_final_filtrada)"
   ]
  },
  {
   "cell_type": "markdown",
   "id": "893e8d3d-fa86-405d-bf04-e4c635569a1a",
   "metadata": {
    "jp-MarkdownHeadingCollapsed": true
   },
   "source": [
    "### Chapter 3, Unit 19, Pair programming Q1, Versión 3, con Reduce "
   ]
  },
  {
   "cell_type": "code",
   "execution_count": null,
   "id": "f328d69a-0b72-4267-965f-2ad2565f7911",
   "metadata": {},
   "outputs": [],
   "source": [
    "from functools import reduce\n",
    "\n",
    "def f_reduce(acc,item):\n",
    "    # En cualquiera de estos casos tengo que crear una lista, porque a lo mejor la lista está vacía o estoy en el item \n",
    "    if acc==[] or len(acc[-1]) == 3:\n",
    "        acc.append([])\n",
    "    acc[-1].append(item)\n",
    "    return acc\n",
    "\n",
    "# Reduce admite un tercer parámetro que es cómo se inicializa la variable acumuladora que en nuestro caso es una lista vacía\n",
    "list(reduce(f_red,scores,[]))    "
   ]
  },
  {
   "cell_type": "markdown",
   "id": "99a061a9-1bdd-469d-9a41-7a802809c10d",
   "metadata": {
    "jp-MarkdownHeadingCollapsed": true
   },
   "source": [
    "### Chapter 3, Unit 21, Paper coding Q1"
   ]
  },
  {
   "cell_type": "code",
   "execution_count": 3,
   "id": "de711791-cb77-476e-b6ac-b0cfd761566c",
   "metadata": {},
   "outputs": [
    {
     "name": "stdout",
     "output_type": "stream",
     "text": [
      "woof woof\n"
     ]
    }
   ],
   "source": [
    "class Dog:\n",
    "    def bark(self):\n",
    "        print(\"woof woof\")\n",
    "\n",
    "my_dog=Dog()\n",
    "my_dog.bark()"
   ]
  },
  {
   "cell_type": "markdown",
   "id": "e75340df-e5da-403f-8afb-d318d7298520",
   "metadata": {
    "jp-MarkdownHeadingCollapsed": true
   },
   "source": [
    "### Chapter 3, Unit 21, Paper coding Q2"
   ]
  },
  {
   "cell_type": "code",
   "execution_count": 6,
   "id": "d601eee7-7780-4c0f-bd85-9f39446dcb2e",
   "metadata": {},
   "outputs": [
    {
     "name": "stdout",
     "output_type": "stream",
     "text": [
      "Bingo : woof woof\n"
     ]
    }
   ],
   "source": [
    "class Dog:\n",
    "    def __init__(self,name):\n",
    "        self.name=name\n",
    "        \n",
    "    def bark(self):\n",
    "        print(self.name, \": woof woof\")\n",
    "\n",
    "my_dog=Dog(\"Bingo\")\n",
    "my_dog.bark()"
   ]
  },
  {
   "cell_type": "markdown",
   "id": "2535258c-41b9-4522-8008-d290d3ebc860",
   "metadata": {},
   "source": [
    "### Chapter 3, Unit 21, Paper coding Q2"
   ]
  },
  {
   "cell_type": "code",
   "execution_count": 12,
   "id": "2205d922-706b-4464-b017-4ec079a44231",
   "metadata": {},
   "outputs": [
    {
     "name": "stdin",
     "output_type": "stream",
     "text": [
      "Introduce el id del estudiante: 1\n",
      "Introduce el nombre del estudiante: Lucia\n",
      "Introduce las notas de Inglés del estudiante: 1\n",
      "Introduce las notas de Mates del estudiante: 1\n",
      "Introduce las notas de Mates del estudiante: 1\n"
     ]
    },
    {
     "name": "stdout",
     "output_type": "stream",
     "text": [
      "Name: Lucia, ID: 1\n",
      "English quiz score 1\n",
      "Mathematics quiz score 1\n",
      "Science quiz score 1\n",
      "Total 3\n",
      "Average <bound method Student.get_average of <__main__.Student object at 0x0000021DF45C2190>>\n",
      "\n"
     ]
    }
   ],
   "source": [
    "class Student:\n",
    "    def __init__(self,student_id,name):\n",
    "        self.student_id = student_id\n",
    "        self.name = name\n",
    "       \n",
    "\n",
    "    def __str__(self):\n",
    "        nameID = f\"Name: {self.name}, ID: {self.student_id}\\n\"\n",
    "        score_eng = f\"English quiz score {self.get_eng_quiz()}\\n\"\n",
    "        score_math = f\"Mathematics quiz score {self.get_math_quiz()}\\n\"\n",
    "        score_science = f\"Science quiz score {self.get_science_quiz()}\\n\"\n",
    "        total = f\"Total {self.get_total_score()}\\n\"\n",
    "        average = f\"Average {self.get_average()}\\n\"\n",
    "\n",
    "        return nameID + score_eng + score_math + score_science + total + average\n",
    "        #return nameID + score_eng + score_math + score_science \n",
    "\n",
    "        \n",
    "    def set_eng_quiz(self, eng_quiz):\n",
    "        self.__eng_quiz = int(eng_quiz)\n",
    "    \n",
    "    def set_math_quiz(self, math_quiz):\n",
    "        self.__math_quiz = int(math_quiz)\n",
    "    \n",
    "    def set_science_quiz(self, science_quiz):\n",
    "        self.__science_quiz = int(science_quiz)\n",
    "    \n",
    "    def get_name(self):\n",
    "        return self.__name\n",
    "\n",
    "    def get_student_id(self):\n",
    "        return self.__student_id\n",
    "\n",
    "    def get_eng_quiz(self):\n",
    "        return self.__eng_quiz\n",
    "\n",
    "    def get_math_quiz(self):\n",
    "        return self.__math_quiz\n",
    "\n",
    "    def get_science_quiz(self):\n",
    "        return self.__science_quiz\n",
    "\n",
    "    def get_total_score(self):\n",
    "        total = self.__eng_quiz + self.__math_quiz+ self.__science_quiz\n",
    "        return total\n",
    "        \n",
    "    def get_average(self):\n",
    "        average = get_total_score() / 3\n",
    "        return average\n",
    "\n",
    "\n",
    "\n",
    "def crearEstudiante():\n",
    "    id = int(input(\"Introduce el id del estudiante:\"))\n",
    "    nombre = input(\"Introduce el nombre del estudiante:\")\n",
    "    notas_ing = input(\"Introduce las notas de Inglés del estudiante:\")\n",
    "    notas_mates = input(\"Introduce las notas de Mates del estudiante:\")\n",
    "    notas_ciencias = input(\"Introduce las notas de Mates del estudiante:\")\n",
    "\n",
    "    estudiante1 = Student(id,nombre)\n",
    "    estudiante1.set_eng_quiz(notas_ing)\n",
    "    estudiante1.set_math_quiz(notas_mates)\n",
    "    estudiante1.set_science_quiz(notas_ciencias)\n",
    "    \n",
    "\n",
    "    print(estudiante1)\n",
    "\n",
    "crearEstudiante()"
   ]
  },
  {
   "cell_type": "markdown",
   "id": "92e5d318-9d9d-434c-ba1c-6af331411e65",
   "metadata": {},
   "source": [
    "### Chapter 3, Unit 21, Paper coding Q3"
   ]
  },
  {
   "cell_type": "code",
   "execution_count": null,
   "id": "57abf717-b871-4536-84b7-9539e82b5bd8",
   "metadata": {},
   "outputs": [],
   "source": [
    "class Student:\n",
    "    def __ini__(self,name,student_id):\n",
    "        self.name = str(name)\n",
    "        self.studen_id = int(student_id)\n",
    "        self.eng_quiz=[]\n",
    "        self.math_quiz=[]\n",
    "        self.science_quiz=[]\n",
    "\n",
    "    def __str__(self):\n",
    "        return f\"\"\"Nombre: {self.name}\\\\t ID: {self.studen_id}\n",
    "        Eng: {self.eng_quiz}\n",
    "        Math: {self.math_quiz}\n",
    "        Science:{self.science}\n",
    "        \"\"\"\n",
    "\n",
    "    def set_eng_quiz(self, nota):\n",
    "        self.eng_quiz.append(nota)\n",
    "    def set_math_quiz(self,nota):\n",
    "        self.math_quiz.append(nota)\n",
    "    def set_science_quiz(self,nota):\n",
    "        self.science_quiz.append(nota)\n",
    "\n",
    "    def get_total_score(self):\n",
    "        total = self.eng_quiz[-1]+self.math_quiz[-1]+elf.science_quiz[-1]\n",
    "        return total\n",
    "\n",
    "    def get_average\n",
    "\n"
   ]
  },
  {
   "cell_type": "markdown",
   "id": "2589cd21-249d-48f8-a74f-1ac933696133",
   "metadata": {},
   "source": [
    "### Chapter 3, Unit 20, Let's code Turtle graphics"
   ]
  },
  {
   "cell_type": "code",
   "execution_count": 2,
   "id": "0658de44-55f2-4e89-b6d0-35d4f2d7584f",
   "metadata": {},
   "outputs": [
    {
     "ename": "Terminator",
     "evalue": "",
     "output_type": "error",
     "traceback": [
      "\u001b[1;31m---------------------------------------------------------------------------\u001b[0m",
      "\u001b[1;31mTerminator\u001b[0m                                Traceback (most recent call last)",
      "Cell \u001b[1;32mIn[2], line 6\u001b[0m\n\u001b[0;32m      4\u001b[0m \u001b[38;5;28;01mfor\u001b[39;00m i \u001b[38;5;129;01min\u001b[39;00m \u001b[38;5;28mrange\u001b[39m(\u001b[38;5;241m200\u001b[39m):\n\u001b[0;32m      5\u001b[0m     t\u001b[38;5;241m.\u001b[39mforward(\u001b[38;5;241m1\u001b[39m)\n\u001b[1;32m----> 6\u001b[0m     t\u001b[38;5;241m.\u001b[39mleft(\u001b[38;5;241m93\u001b[39m)\n\u001b[0;32m      7\u001b[0m t\u001b[38;5;241m.\u001b[39mdone()\n",
      "File \u001b[1;32m<string>:8\u001b[0m, in \u001b[0;36mleft\u001b[1;34m(angle)\u001b[0m\n",
      "File \u001b[1;32m~\\anaconda3\\Lib\\turtle.py:1700\u001b[0m, in \u001b[0;36mTNavigator.left\u001b[1;34m(self, angle)\u001b[0m\n\u001b[0;32m   1681\u001b[0m \u001b[38;5;28;01mdef\u001b[39;00m \u001b[38;5;21mleft\u001b[39m(\u001b[38;5;28mself\u001b[39m, angle):\n\u001b[0;32m   1682\u001b[0m \u001b[38;5;250m    \u001b[39m\u001b[38;5;124;03m\"\"\"Turn turtle left by angle units.\u001b[39;00m\n\u001b[0;32m   1683\u001b[0m \n\u001b[0;32m   1684\u001b[0m \u001b[38;5;124;03m    Aliases: left | lt\u001b[39;00m\n\u001b[1;32m   (...)\u001b[0m\n\u001b[0;32m   1698\u001b[0m \u001b[38;5;124;03m    67.0\u001b[39;00m\n\u001b[0;32m   1699\u001b[0m \u001b[38;5;124;03m    \"\"\"\u001b[39;00m\n\u001b[1;32m-> 1700\u001b[0m     \u001b[38;5;28mself\u001b[39m\u001b[38;5;241m.\u001b[39m_rotate(angle)\n",
      "File \u001b[1;32m~\\anaconda3\\Lib\\turtle.py:3293\u001b[0m, in \u001b[0;36mRawTurtle._rotate\u001b[1;34m(self, angle)\u001b[0m\n\u001b[0;32m   3291\u001b[0m     \u001b[38;5;28;01mfor\u001b[39;00m _ \u001b[38;5;129;01min\u001b[39;00m \u001b[38;5;28mrange\u001b[39m(steps):\n\u001b[0;32m   3292\u001b[0m         \u001b[38;5;28mself\u001b[39m\u001b[38;5;241m.\u001b[39m_orient \u001b[38;5;241m=\u001b[39m \u001b[38;5;28mself\u001b[39m\u001b[38;5;241m.\u001b[39m_orient\u001b[38;5;241m.\u001b[39mrotate(delta)\n\u001b[1;32m-> 3293\u001b[0m         \u001b[38;5;28mself\u001b[39m\u001b[38;5;241m.\u001b[39m_update()\n\u001b[0;32m   3294\u001b[0m \u001b[38;5;28mself\u001b[39m\u001b[38;5;241m.\u001b[39m_orient \u001b[38;5;241m=\u001b[39m neworient\n\u001b[0;32m   3295\u001b[0m \u001b[38;5;28mself\u001b[39m\u001b[38;5;241m.\u001b[39m_update()\n",
      "File \u001b[1;32m~\\anaconda3\\Lib\\turtle.py:2661\u001b[0m, in \u001b[0;36mRawTurtle._update\u001b[1;34m(self)\u001b[0m\n\u001b[0;32m   2659\u001b[0m     \u001b[38;5;28;01mreturn\u001b[39;00m\n\u001b[0;32m   2660\u001b[0m \u001b[38;5;28;01melif\u001b[39;00m screen\u001b[38;5;241m.\u001b[39m_tracing \u001b[38;5;241m==\u001b[39m \u001b[38;5;241m1\u001b[39m:\n\u001b[1;32m-> 2661\u001b[0m     \u001b[38;5;28mself\u001b[39m\u001b[38;5;241m.\u001b[39m_update_data()\n\u001b[0;32m   2662\u001b[0m     \u001b[38;5;28mself\u001b[39m\u001b[38;5;241m.\u001b[39m_drawturtle()\n\u001b[0;32m   2663\u001b[0m     screen\u001b[38;5;241m.\u001b[39m_update()                  \u001b[38;5;66;03m# TurtleScreenBase\u001b[39;00m\n",
      "File \u001b[1;32m~\\anaconda3\\Lib\\turtle.py:2647\u001b[0m, in \u001b[0;36mRawTurtle._update_data\u001b[1;34m(self)\u001b[0m\n\u001b[0;32m   2646\u001b[0m \u001b[38;5;28;01mdef\u001b[39;00m \u001b[38;5;21m_update_data\u001b[39m(\u001b[38;5;28mself\u001b[39m):\n\u001b[1;32m-> 2647\u001b[0m     \u001b[38;5;28mself\u001b[39m\u001b[38;5;241m.\u001b[39mscreen\u001b[38;5;241m.\u001b[39m_incrementudc()\n\u001b[0;32m   2648\u001b[0m     \u001b[38;5;28;01mif\u001b[39;00m \u001b[38;5;28mself\u001b[39m\u001b[38;5;241m.\u001b[39mscreen\u001b[38;5;241m.\u001b[39m_updatecounter \u001b[38;5;241m!=\u001b[39m \u001b[38;5;241m0\u001b[39m:\n\u001b[0;32m   2649\u001b[0m         \u001b[38;5;28;01mreturn\u001b[39;00m\n",
      "File \u001b[1;32m~\\anaconda3\\Lib\\turtle.py:1293\u001b[0m, in \u001b[0;36mTurtleScreen._incrementudc\u001b[1;34m(self)\u001b[0m\n\u001b[0;32m   1291\u001b[0m \u001b[38;5;28;01mif\u001b[39;00m \u001b[38;5;129;01mnot\u001b[39;00m TurtleScreen\u001b[38;5;241m.\u001b[39m_RUNNING:\n\u001b[0;32m   1292\u001b[0m     TurtleScreen\u001b[38;5;241m.\u001b[39m_RUNNING \u001b[38;5;241m=\u001b[39m \u001b[38;5;28;01mTrue\u001b[39;00m\n\u001b[1;32m-> 1293\u001b[0m     \u001b[38;5;28;01mraise\u001b[39;00m Terminator\n\u001b[0;32m   1294\u001b[0m \u001b[38;5;28;01mif\u001b[39;00m \u001b[38;5;28mself\u001b[39m\u001b[38;5;241m.\u001b[39m_tracing \u001b[38;5;241m>\u001b[39m \u001b[38;5;241m0\u001b[39m:\n\u001b[0;32m   1295\u001b[0m     \u001b[38;5;28mself\u001b[39m\u001b[38;5;241m.\u001b[39m_updatecounter \u001b[38;5;241m+\u001b[39m\u001b[38;5;241m=\u001b[39m \u001b[38;5;241m1\u001b[39m\n",
      "\u001b[1;31mTerminator\u001b[0m: "
     ]
    }
   ],
   "source": [
    "import turtle as t\n",
    "\n",
    "t.setup(width = 400, height = 400)\n",
    "for i in range(200):\n",
    "    t.forward(1)\n",
    "    t.left(93)\n",
    "t.done()"
   ]
  },
  {
   "cell_type": "code",
   "execution_count": 4,
   "id": "b0503cb1-eb27-42b5-a59a-6485b3f60bf7",
   "metadata": {},
   "outputs": [],
   "source": [
    "import turtle as t\n",
    "\n",
    "\n",
    "\n",
    "t.setup(width = 400, height = 400)\n",
    "\n",
    "t.penup()\n",
    "t.forward(20)\n",
    "t.pendown()\n",
    "\n",
    "for _ in range(4):\n",
    "    t.forward(100)  \n",
    "    t.right(90)  \n",
    "t.penup()\n",
    "t.rigth(180)\n",
    "t.forward(80)\n",
    "t.pendown()\n",
    "\n",
    "t.circle(50)\n",
    "\n"
   ]
  },
  {
   "cell_type": "code",
   "execution_count": 3,
   "id": "7dc45a0f-2fd8-4a72-a7bc-43e4afdff43c",
   "metadata": {},
   "outputs": [],
   "source": [
    "import turtle as t\n",
    "\n",
    "t.reset()"
   ]
  },
  {
   "cell_type": "code",
   "execution_count": null,
   "id": "a3d9807e-c889-4663-8cd0-8644fcd85188",
   "metadata": {},
   "outputs": [],
   "source": []
  }
 ],
 "metadata": {
  "kernelspec": {
   "display_name": "Python 3 (ipykernel)",
   "language": "python",
   "name": "python3"
  },
  "language_info": {
   "codemirror_mode": {
    "name": "ipython",
    "version": 3
   },
   "file_extension": ".py",
   "mimetype": "text/x-python",
   "name": "python",
   "nbconvert_exporter": "python",
   "pygments_lexer": "ipython3",
   "version": "3.11.7"
  }
 },
 "nbformat": 4,
 "nbformat_minor": 5
}
