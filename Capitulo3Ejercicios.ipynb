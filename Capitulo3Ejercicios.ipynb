{
 "cells": [
  {
   "cell_type": "markdown",
   "id": "ba79cfe8-2c4b-406b-8fb5-c9aacdd85dd4",
   "metadata": {},
   "source": [
    "### Chapter 3, Unit 17, Paper coding Q1"
   ]
  },
  {
   "cell_type": "code",
   "execution_count": 13,
   "id": "ac8519d5-c0fa-4269-83bb-0322f48a28df",
   "metadata": {},
   "outputs": [
    {
     "name": "stdout",
     "output_type": "stream",
     "text": [
      "Welcome.\n",
      "Welcome.\n"
     ]
    }
   ],
   "source": [
    "def my_greet():\n",
    "    print(\"Welcome.\")\n",
    "my_greet()\n",
    "my_greet()"
   ]
  },
  {
   "cell_type": "markdown",
   "id": "c55a101e-9629-4c29-87f6-ff3fc826cae4",
   "metadata": {},
   "source": [
    "### Chapter 3, Unit 17, Paper coding Q2"
   ]
  },
  {
   "cell_type": "code",
   "execution_count": 14,
   "id": "74bcf3db-cd16-4b8f-a69c-4b499b2d9070",
   "metadata": {},
   "outputs": [
    {
     "name": "stdout",
     "output_type": "stream",
     "text": [
      "200\n",
      "100\n"
     ]
    }
   ],
   "source": [
    "def max2(m,n):\n",
    "    if m>n: print(m)\n",
    "    elif n>m: print(n)\n",
    "    else: print(\"Los valores son iguales\")\n",
    "\n",
    "def min2(m,n):\n",
    "    if m<n: print(m)\n",
    "    elif n<m: print(n)\n",
    "    else: print(\"Los valores son iguales\")\n",
    "\n",
    "max2(100,200)\n",
    "min2(100,200)\n",
    "\n",
    "    "
   ]
  },
  {
   "cell_type": "markdown",
   "id": "0195ad25-2315-4be6-b4b4-439b8a732222",
   "metadata": {},
   "source": [
    "### Chapter 3, Unit 17, Paper coding Q2"
   ]
  },
  {
   "cell_type": "code",
   "execution_count": 26,
   "id": "e27289e7-837f-479b-97fe-b83cab88b439",
   "metadata": {},
   "outputs": [
    {
     "name": "stdout",
     "output_type": "stream",
     "text": [
      "1 mile = 1.61 kilometers\n",
      "2 mile = 3.22 kilometers\n",
      "3 mile = 4.83 kilometers\n",
      "4 mile = 6.44 kilometers\n",
      "5 mile = 8.05 kilometers\n"
     ]
    }
   ],
   "source": [
    "def mile2km(n):\n",
    "    print(f\"{i} mile = {i*1.61} kilometers\")\n",
    "\n",
    "for i in range(1,6):\n",
    "    mile2km(i)"
   ]
  },
  {
   "cell_type": "markdown",
   "id": "aa772645-7420-44d8-8874-4f8abb929e0d",
   "metadata": {},
   "source": [
    "### Chapter 3, Unit 17, Paper coding Q2"
   ]
  },
  {
   "cell_type": "code",
   "execution_count": 25,
   "id": "8cf5c376-44d1-46f6-8c72-f35da3e8e041",
   "metadata": {},
   "outputs": [
    {
     "name": "stdout",
     "output_type": "stream",
     "text": [
      "10 degrees Celsius = 50.0 degrees Fahrenheit.\n",
      "20 degrees Celsius = 68.0 degrees Fahrenheit.\n",
      "30 degrees Celsius = 86.0 degrees Fahrenheit.\n",
      "40 degrees Celsius = 104.0 degrees Fahrenheit.\n",
      "50 degrees Celsius = 122.0 degrees Fahrenheit.\n"
     ]
    }
   ],
   "source": [
    "def cel2fah(cel):\n",
    "    print(f\"{cel} degrees Celsius = {cel*9/5+32} degrees Fahrenheit.\")\n",
    "    \n",
    "for j in range(10,60,10):\n",
    "    cel2fah(j)"
   ]
  },
  {
   "cell_type": "code",
   "execution_count": 28,
   "id": "7d02f500-fd5c-4b3b-973d-b8e7625dcfc6",
   "metadata": {},
   "outputs": [
    {
     "name": "stdout",
     "output_type": "stream",
     "text": [
      "print_sum() inside : the sum of 10 and 20 is 30\n"
     ]
    }
   ],
   "source": [
    "def print_sum():\n",
    "    #a = 100\n",
    "    #b = 200\n",
    "    result = a + b\n",
    "    print('print_sum() inside : the sum of', a, 'and', b, 'is', result)\n",
    "\n",
    "a = 10\n",
    "b = 20\n",
    "print_sum()"
   ]
  },
  {
   "cell_type": "code",
   "execution_count": null,
   "id": "d1b3cc94-0055-415d-b24c-21466600e779",
   "metadata": {},
   "outputs": [],
   "source": []
  }
 ],
 "metadata": {
  "kernelspec": {
   "display_name": "Python 3 (ipykernel)",
   "language": "python",
   "name": "python3"
  },
  "language_info": {
   "codemirror_mode": {
    "name": "ipython",
    "version": 3
   },
   "file_extension": ".py",
   "mimetype": "text/x-python",
   "name": "python",
   "nbconvert_exporter": "python",
   "pygments_lexer": "ipython3",
   "version": "3.11.7"
  }
 },
 "nbformat": 4,
 "nbformat_minor": 5
}
