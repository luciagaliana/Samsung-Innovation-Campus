{
 "cells": [
  {
   "cell_type": "code",
   "execution_count": 2,
   "id": "000fcd8a-ebed-4c19-ba99-0cb0187a58d7",
   "metadata": {},
   "outputs": [
    {
     "name": "stdout",
     "output_type": "stream",
     "text": [
      "5050\n",
      "100\n"
     ]
    }
   ],
   "source": [
    "\n",
    "a =\"50\"\n",
    "b = 50\n",
    "print(a + str(b))\n",
    "print(int(a) + b)"
   ]
  },
  {
   "cell_type": "code",
   "execution_count": 7,
   "id": "cddb9425-70a7-49b3-b4f8-9407363b5bf6",
   "metadata": {},
   "outputs": [
    {
     "name": "stdout",
     "output_type": "stream",
     "text": [
      "1000\n"
     ]
    }
   ],
   "source": [
    "a = '1'\n",
    "b = '0'\n",
    "c = '0'\n",
    "d = '0'\n",
    "\n",
    "e=int(a + b + c + d)\n",
    "print(e)"
   ]
  },
  {
   "cell_type": "code",
   "execution_count": 19,
   "id": "8b29fa2a-5b95-45ad-87b7-d430b7e78ba2",
   "metadata": {},
   "outputs": [
    {
     "name": "stdout",
     "output_type": "stream",
     "text": [
      "hola\n"
     ]
    },
    {
     "data": {
      "text/plain": [
       "1"
      ]
     },
     "execution_count": 19,
     "metadata": {},
     "output_type": "execute_result"
    }
   ],
   "source": [
    "# Ejercicio de factorial\n",
    "a = 5\n",
    "b = 10\n",
    "sum = 0\n",
    "\n",
    "def factorial (num): \n",
    "    if num <= 1:\n",
    "        return num\n",
    "    else: \n",
    "        sum = num * factorial (num-1)\n",
    "    return sum    \n",
    "factorial(1)"
   ]
  },
  {
   "cell_type": "code",
   "execution_count": 20,
   "id": "47011df3-b9c5-44a9-9935-9cc3251a0f56",
   "metadata": {},
   "outputs": [
    {
     "name": "stdout",
     "output_type": "stream",
     "text": [
      "100\n",
      "200\n"
     ]
    }
   ],
   "source": [
    "x , y = 100, 200\n",
    "print(x)\n",
    "print(y)"
   ]
  },
  {
   "cell_type": "code",
   "execution_count": 22,
   "id": "a46c0d7e-334a-408f-92cb-fb3d29d4d49d",
   "metadata": {},
   "outputs": [
    {
     "name": "stdout",
     "output_type": "stream",
     "text": [
      "Dinero: hola\n"
     ]
    },
    {
     "ename": "ValueError",
     "evalue": "invalid literal for int() with base 10: 'hola'",
     "output_type": "error",
     "traceback": [
      "\u001b[1;31m---------------------------------------------------------------------------\u001b[0m",
      "\u001b[1;31mValueError\u001b[0m                                Traceback (most recent call last)",
      "Cell \u001b[1;32mIn[22], line 1\u001b[0m\n\u001b[1;32m----> 1\u001b[0m \u001b[38;5;28;43mint\u001b[39;49m\u001b[43m(\u001b[49m\u001b[38;5;28;43minput\u001b[39;49m\u001b[43m(\u001b[49m\u001b[38;5;124;43m\"\u001b[39;49m\u001b[38;5;124;43mDinero:\u001b[39;49m\u001b[38;5;124;43m\"\u001b[39;49m\u001b[43m)\u001b[49m\u001b[43m)\u001b[49m\n",
      "\u001b[1;31mValueError\u001b[0m: invalid literal for int() with base 10: 'hola'"
     ]
    }
   ],
   "source": [
    "int(input(\"Dinero:\"))"
   ]
  },
  {
   "cell_type": "code",
   "execution_count": 28,
   "id": "f3d63964-a6e6-40b3-8895-4f8c8a0d935b",
   "metadata": {},
   "outputs": [
    {
     "data": {
      "text/plain": [
       "1800"
      ]
     },
     "execution_count": 28,
     "metadata": {},
     "output_type": "execute_result"
    }
   ],
   "source": [
    "width = 30 \n",
    "heigth = 60 \n",
    "def areaRectangulo(width,heigth):\n",
    "    area = width * heigth\n",
    "    return area\n",
    "areaRectangulo(width,heigth)"
   ]
  },
  {
   "cell_type": "code",
   "execution_count": 34,
   "id": "751633ef-9915-45b2-ac5e-fa6591ad9c8d",
   "metadata": {},
   "outputs": [
    {
     "name": "stdout",
     "output_type": "stream",
     "text": [
      "Base:  10\n",
      "Altura:  7\n"
     ]
    },
    {
     "data": {
      "text/plain": [
       "12.206555615733702"
      ]
     },
     "execution_count": 34,
     "metadata": {},
     "output_type": "execute_result"
    }
   ],
   "source": [
    "base=int(input(\"Base: \")) #10\n",
    "altura=int(input(\"Altura: \")) #7\n",
    "\n",
    "def pitagoras(base,altura):\n",
    "    hiportenusaElevada = base**2 + altura**2\n",
    "    hiportenusa = hiportenusaElevada ** 0.5\n",
    "    return hiportenusa\n",
    "\n",
    "pitagoras(base,altura)"
   ]
  },
  {
   "cell_type": "code",
   "execution_count": 29,
   "id": "99ffeb0b-b0c6-4ec4-9492-5a87259181b8",
   "metadata": {},
   "outputs": [
    {
     "ename": "IndentationError",
     "evalue": "unindent does not match any outer indentation level (<tokenize>, line 4)",
     "output_type": "error",
     "traceback": [
      "\u001b[1;36m  File \u001b[1;32m<tokenize>:4\u001b[1;36m\u001b[0m\n\u001b[1;33m    while a <= 6:\u001b[0m\n\u001b[1;37m    ^\u001b[0m\n\u001b[1;31mIndentationError\u001b[0m\u001b[1;31m:\u001b[0m unindent does not match any outer indentation level\n"
     ]
    }
   ],
   "source": [
    "# Charpter 1, Unit 4, Pair Programming Q2\n",
    "def cuadradoNum(a,n):\n",
    "    print(\"a\", \"n\", \"a**n\", sep=\"\\t\")\n",
    "    while a <= 6:\n",
    "        print(a, n, a**n, sep=\"\\t\")\n",
    "        a += 1\n",
    "\n",
    "cuadradoNum(2,2)\n",
    "\n"
   ]
  },
  {
   "cell_type": "code",
   "execution_count": 9,
   "id": "1a749af4-f18e-41c6-9fbe-b9731d5e07b9",
   "metadata": {},
   "outputs": [
    {
     "name": "stdout",
     "output_type": "stream",
     "text": [
      "a\tn\ta**n\n",
      "2\t2\t4\n",
      "3\t2\t9\n",
      "4\t2\t16\n",
      "5\t2\t25\n",
      "6\t2\t36\n"
     ]
    }
   ],
   "source": [
    "# Chapter 1, Unit 4, Pair Programming Q2\n",
    "def cuadradoNum(a, n):\n",
    "    print(\"a\", \"n\", \"a**n\", sep=\"\\t\")\n",
    "    while a <= 6:\n",
    "        print(a, n, a**n, sep=\"\\t\")\n",
    "        a += 1\n",
    "\n",
    "cuadradoNum(2, 2)"
   ]
  },
  {
   "cell_type": "code",
   "execution_count": 33,
   "id": "2e21540a-52ed-4069-b081-bf5a28fbd193",
   "metadata": {},
   "outputs": [
    {
     "name": "stdout",
     "output_type": "stream",
     "text": [
      "Introduce el valor de n:  21\n"
     ]
    },
    {
     "name": "stdout",
     "output_type": "stream",
     "text": [
      "Is the integer odd?:\n"
     ]
    },
    {
     "data": {
      "text/plain": [
       "True"
      ]
     },
     "execution_count": 33,
     "metadata": {},
     "output_type": "execute_result"
    }
   ],
   "source": [
    "# Charpter 1, Unit 5, Paper coding Q1\n",
    "n = int(input(\"Introduce el valor de n: \"))\n",
    "\n",
    "def odd(n):\n",
    "    if (n==20 or n==21):\n",
    "        print(\"Is the integer odd?:\")\n",
    "    \n",
    "    if(n%2==0): return False\n",
    "    else: return True\n",
    "        \n",
    "odd(n)\n"
   ]
  },
  {
   "cell_type": "code",
   "execution_count": 36,
   "id": "15c15eac-2524-48e8-bd0a-02784fbe9269",
   "metadata": {},
   "outputs": [
    {
     "name": "stdout",
     "output_type": "stream",
     "text": [
      "Enter an integer:  35\n"
     ]
    },
    {
     "name": "stdout",
     "output_type": "stream",
     "text": [
      "Is teh input value integer between 0 and 100? \n"
     ]
    },
    {
     "data": {
      "text/plain": [
       "True"
      ]
     },
     "execution_count": 36,
     "metadata": {},
     "output_type": "execute_result"
    }
   ],
   "source": [
    "# Charpter 1, Unit 5, Paper coding Q2\n",
    "n = int(input(\"Enter an integer: \"))\n",
    "\n",
    "def odd(n):\n",
    "    print(\"Is teh input value integer between 0 and 100? \")\n",
    "    if (n>=0 and n<=100):\n",
    "       if(n%2!=0): return True\n",
    "       else: return False \n",
    "    else: return False   \n",
    "           \n",
    "odd(n)\n"
   ]
  },
  {
   "cell_type": "code",
   "execution_count": 41,
   "id": "3a13fe2d-7c34-4f60-9871-35c961517b49",
   "metadata": {},
   "outputs": [
    {
     "name": "stdout",
     "output_type": "stream",
     "text": [
      "Enter an integer:  345\n"
     ]
    },
    {
     "name": "stdout",
     "output_type": "stream",
     "text": [
      "The number is 345\n"
     ]
    },
    {
     "data": {
      "text/plain": [
       "True"
      ]
     },
     "execution_count": 41,
     "metadata": {},
     "output_type": "execute_result"
    }
   ],
   "source": [
    "# Charpter 1, Unit 5, Pair programming Q1\n",
    "n = int(input(\"Enter an integer: \"))\n",
    "\n",
    "def thridDigit(n):\n",
    "    if(n // 100 == 3):\n",
    "        print(\"The number is\", n)\n",
    "        return True\n",
    "    else: \n",
    "        print(\"The digit is not correct.\") \n",
    "        return False\n",
    "\n",
    "thridDigit(n)"
   ]
  },
  {
   "cell_type": "code",
   "execution_count": 45,
   "id": "64c92d7b-2efa-472c-be92-5d219394e100",
   "metadata": {},
   "outputs": [
    {
     "name": "stdout",
     "output_type": "stream",
     "text": [
      "Enter an integer:  3\n"
     ]
    },
    {
     "data": {
      "text/plain": [
       "False"
      ]
     },
     "execution_count": 45,
     "metadata": {},
     "output_type": "execute_result"
    }
   ],
   "source": [
    "# Charpter 1, Unit 5, Pair programming Q2\n",
    "n = int(input(\"Enter an integer: \"))\n",
    "\n",
    "def num5(n):\n",
    "    if(n%5==0): return True\n",
    "    else: return False\n",
    "\n",
    "num5(n)\n"
   ]
  },
  {
   "cell_type": "code",
   "execution_count": 2,
   "id": "558b51b2-db1f-4433-8d16-66b5b9d6812e",
   "metadata": {},
   "outputs": [
    {
     "name": "stdout",
     "output_type": "stream",
     "text": [
      "Enter an integer:  2000\n"
     ]
    },
    {
     "name": "stdout",
     "output_type": "stream",
     "text": [
      "game_score = 2000\n"
     ]
    }
   ],
   "source": [
    "# Charpter 1, Unit 6, Paper coding Q1\n",
    "\n",
    "score = int(input(\"Enter an integer: \"))\n",
    "\n",
    "def gameScore(s):\n",
    "    print(\"game_score =\", s)\n",
    "    if(s>=1500): \n",
    "        print(\"You are a monster\")\n",
    "gameScore(score)"
   ]
  },
  {
   "cell_type": "code",
   "execution_count": 5,
   "id": "7ce5c1e9-ea20-43d2-87fc-47c6ae662066",
   "metadata": {},
   "outputs": [
    {
     "name": "stdout",
     "output_type": "stream",
     "text": [
      "Enter an integer:  0\n"
     ]
    },
    {
     "name": "stdout",
     "output_type": "stream",
     "text": [
      "The number is: 0\n",
      "Is a natural number\n"
     ]
    }
   ],
   "source": [
    "# Charpter 1, Unit 6, Paper coding Q2\n",
    "\n",
    "num = int(input(\"Enter an integer: \"))\n",
    "\n",
    "def numNatural(num):   \n",
    "    if(num>=-100 or num<=100):\n",
    "        print(\"The number is:\",num)\n",
    "        if(num>0):\n",
    "            # Number cero is not a natural number.\n",
    "            print(\"Is a natural number\")\n",
    "    else:\n",
    "        print(\"The number\",num, \"is not correct\")\n",
    "\n",
    "numNatural(num)"
   ]
  },
  {
   "cell_type": "code",
   "execution_count": null,
   "id": "2c331039",
   "metadata": {},
   "outputs": [],
   "source": [
    "# Charpter 1, Unit 6, Pair programming Q1.\n",
    "\n",
    "age = int(input(\"Enter your age:\"))\n",
    "\n",
    "def checkAge(age):\n",
    "    if age >= 20: print(\"Adult\")\n",
    "    else:\n",
    "        if age>=10: print(\"Youth\")\n",
    "        else: print(\"kid\")\n",
    "\n",
    "checkAge(age)"
   ]
  },
  {
   "cell_type": "code",
   "execution_count": 3,
   "id": "b759fbe7",
   "metadata": {},
   "outputs": [
    {
     "name": "stdout",
     "output_type": "stream",
     "text": [
      "o Is a vocal\n"
     ]
    },
    {
     "data": {
      "text/plain": [
       "'o'"
      ]
     },
     "execution_count": 3,
     "metadata": {},
     "output_type": "execute_result"
    }
   ],
   "source": [
    "# Charpter 1, Unit 7, Paper coding Q1\n",
    "\n",
    "letter = input(\"Enter a letter:\")\n",
    "\n",
    "def letters(l):\n",
    "    if l in [\"a\",\"e\",\"i\",\"o\",\"u\"]: \n",
    "        print(l,\"Is a vocal\")\n",
    "        return l\n",
    "    else: \n",
    "        print(l,\"Is a consonant.\")\n",
    "        return l\n",
    "\n",
    "letters(letter)"
   ]
  },
  {
   "cell_type": "code",
   "execution_count": 5,
   "id": "9fecc8c5",
   "metadata": {},
   "outputs": [
    {
     "name": "stdout",
     "output_type": "stream",
     "text": [
      "15 is a multiple of b 5\n"
     ]
    }
   ],
   "source": [
    "# Charpter 1, Unit 7, Paper coding Q2\n",
    "\n",
    "a = int(input(\"Enter the first number:\"))\n",
    "b = int(input(\"Enter the second number:\"))\n",
    "\n",
    "\n",
    "def multiple(a,b):\n",
    "    if(a%b==0): print(a, \"is a multiple of b\", b)\n",
    "\n",
    "multiple(a,b)"
   ]
  },
  {
   "cell_type": "code",
   "execution_count": 1,
   "id": "4ffea46d",
   "metadata": {},
   "outputs": [
    {
     "ename": "TypeError",
     "evalue": "unsupported operand type(s) for +: 'int' and 'str'",
     "output_type": "error",
     "traceback": [
      "\u001b[1;31m---------------------------------------------------------------------------\u001b[0m",
      "\u001b[1;31mTypeError\u001b[0m                                 Traceback (most recent call last)",
      "Cell \u001b[1;32mIn[1], line 15\u001b[0m\n\u001b[0;32m     11\u001b[0m     \u001b[38;5;28;01melif\u001b[39;00m op\u001b[38;5;241m==\u001b[39m\u001b[38;5;241m3\u001b[39m: \u001b[38;5;28;01mreturn\u001b[39;00m num1 \u001b[38;5;241m*\u001b[39m num2\n\u001b[0;32m     12\u001b[0m     \u001b[38;5;28;01melse\u001b[39;00m: \u001b[38;5;28;01mreturn\u001b[39;00m num1\u001b[38;5;241m/\u001b[39mnum2\n\u001b[1;32m---> 15\u001b[0m calculator(op,num1,num2)\n",
      "Cell \u001b[1;32mIn[1], line 9\u001b[0m, in \u001b[0;36mcalculator\u001b[1;34m(op, num1, num2)\u001b[0m\n\u001b[0;32m      8\u001b[0m \u001b[38;5;28;01mdef\u001b[39;00m \u001b[38;5;21mcalculator\u001b[39m(op,num1,num2):\n\u001b[1;32m----> 9\u001b[0m     \u001b[38;5;28;01mif\u001b[39;00m op\u001b[38;5;241m==\u001b[39m\u001b[38;5;241m1\u001b[39m: \u001b[38;5;28;01mreturn\u001b[39;00m num1 \u001b[38;5;241m+\u001b[39m \u001b[38;5;124m\"\u001b[39m\u001b[38;5;124m+\u001b[39m\u001b[38;5;124m\"\u001b[39m \u001b[38;5;241m+\u001b[39m \u001b[38;5;124m\"\u001b[39m\u001b[38;5;124m=\u001b[39m\u001b[38;5;124m\"\u001b[39m\u001b[38;5;241m+\u001b[39m num1 \u001b[38;5;241m+\u001b[39m num2\n\u001b[0;32m     10\u001b[0m     \u001b[38;5;28;01melif\u001b[39;00m op\u001b[38;5;241m==\u001b[39m\u001b[38;5;241m2\u001b[39m: \u001b[38;5;28;01mreturn\u001b[39;00m num1 \u001b[38;5;241m-\u001b[39m num2\n\u001b[0;32m     11\u001b[0m     \u001b[38;5;28;01melif\u001b[39;00m op\u001b[38;5;241m==\u001b[39m\u001b[38;5;241m3\u001b[39m: \u001b[38;5;28;01mreturn\u001b[39;00m num1 \u001b[38;5;241m*\u001b[39m num2\n",
      "\u001b[1;31mTypeError\u001b[0m: unsupported operand type(s) for +: 'int' and 'str'"
     ]
    }
   ],
   "source": [
    "# Charpter 1, Unit 7, Pair programming Q1\n",
    "\n",
    "op = int(input(\"Enter the desired number of operation:\"))\n",
    "num1 = int(input(\"Enter the first number:\"))\n",
    "num2 = int(input(\"Enter the second number:\"))\n",
    "\n",
    "\n",
    "def calculator(op,num1,num2):\n",
    "    if op==1: return num1 + num2\n",
    "    elif op==2: return num1 - num2\n",
    "    elif op==3: return num1 * num2\n",
    "    else: return num1/num2\n",
    "\n",
    "\n",
    "calculator(op,num1,num2)\n"
   ]
  }
 ],
 "metadata": {
  "kernelspec": {
   "display_name": "Python 3 (ipykernel)",
   "language": "python",
   "name": "python3"
  },
  "language_info": {
   "codemirror_mode": {
    "name": "ipython",
    "version": 3
   },
   "file_extension": ".py",
   "mimetype": "text/x-python",
   "name": "python",
   "nbconvert_exporter": "python",
   "pygments_lexer": "ipython3",
   "version": "3.11.7"
  }
 },
 "nbformat": 4,
 "nbformat_minor": 5
}
