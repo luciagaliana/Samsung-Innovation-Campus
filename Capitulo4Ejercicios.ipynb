{
 "cells": [
  {
   "cell_type": "markdown",
   "id": "6dc04ab9-02d3-4af0-817b-79cf97e54054",
   "metadata": {},
   "source": [
    "### Ejercicios clase Stack"
   ]
  },
  {
   "cell_type": "code",
   "execution_count": null,
   "id": "4f4e3e2f-212a-4fe8-a302-b738aefa5146",
   "metadata": {},
   "outputs": [],
   "source": [
    "class Stack:\n",
    "    def __init__(self):\n",
    "        self.stack = []\n",
    "\n",
    "    def is_empty(self):\n",
    "        return True if len(self.stack) == 0 else False\n",
    "\n",
    "    def push(self, item):\n",
    "        self.stack.append(item)\n",
    "\n",
    "    def pop(self):\n",
    "        return None if self.is_empty() else self.stack.pop()"
   ]
  },
  {
   "cell_type": "markdown",
   "id": "813b7344-1b5d-44fe-83a8-157dfc90f8d4",
   "metadata": {},
   "source": [
    "### Función que comprueba si están bien los paréntesis"
   ]
  },
  {
   "cell_type": "code",
   "execution_count": 1,
   "id": "ea382850-304d-45a3-99c5-fbeb784ff588",
   "metadata": {},
   "outputs": [],
   "source": [
    "class Stack:\n",
    "    def __init__(self):\n",
    "        self.stack = []\n",
    "\n",
    "    def is_empty(self):\n",
    "        return True if len(self.stack) == 0 else False\n",
    "\n",
    "    def push(self, item):\n",
    "        self.stack.append(item)\n",
    "\n",
    "    def pop(self):\n",
    "        return None if self.is_empty() else self.stack.pop()\n",
    "\n",
    "    def __str__(self):\n",
    "        return \"Stack: {}\".format(self.stack)\n",
    "\n",
    "def check_parentheses(expr):\n",
    "    p_abiertos = \"([{\"\n",
    "    p_cerrados = \")]}\"\n",
    "    pila = Stack()\n",
    "    for c in expr:\n",
    "        if c in p_abiertos:\n",
    "            pila.push(c)\n",
    "        else:\n",
    "            if pila.is_empty():\n",
    "                return False\n",
    "            x = pila.pop()\n",
    "            if p_abiertos.index(x) != p_cerrados.index(c):\n",
    "                return False\n",
    "    # Si la pila está vacía indica que no hay paréntesis desparejados es decir que no hay paréntesis que se abrieron y no se cerraron\n",
    "    return pila.is_empty()\n",
    "                \n",
    "\n",
    "cadena_parentesis = input(\"Introduce la secuencia de paréntesis: \")\n",
    "\n",
    "if comprobar_parentesis(cadena_parentesis):\n",
    "    print(\"La seucencia es correcta\")\n",
    "else:\n",
    "    print(\"La secuencia NO es correcta\")"
   ]
  },
  {
   "cell_type": "markdown",
   "id": "c6b6b420-a580-4746-af74-5b6d91b05c47",
   "metadata": {},
   "source": [
    "### Chapter 4, Unit 22, Pair Programming Q1"
   ]
  },
  {
   "cell_type": "code",
   "execution_count": 18,
   "id": "5a2b6a31-0c9c-41ef-bb2c-e5ddf76ea055",
   "metadata": {},
   "outputs": [
    {
     "name": "stdout",
     "output_type": "stream",
     "text": [
      "Elemento e <html>\n",
      "Pila Stack: ['<html>']\n",
      "Elemento e <body>\n",
      "Pila Stack: ['<html>', '<body>']\n",
      "Elemento e <h1>\n",
      "Pila Stack: ['<html>', '<body>', '<h1>']\n",
      "Elemento e </h1>\n",
      "Abierto h1\n",
      "Cerrado h1\n",
      "False 3: False\n",
      "Elemento e </body>\n",
      "Abierto body\n",
      "Cerrado body\n",
      "False 3: False\n",
      "Elemento e </html>\n",
      "Abierto html\n",
      "Cerrado html\n",
      "False 3: True\n"
     ]
    },
    {
     "data": {
      "text/plain": [
       "True"
      ]
     },
     "execution_count": 18,
     "metadata": {},
     "output_type": "execute_result"
    }
   ],
   "source": [
    "cadena = \"<html><body><h1>Hello World</h1></body></html>\"\n",
    "\n",
    "\n",
    "class Stack:\n",
    "    def __init__(self):\n",
    "        self.stack = []\n",
    "\n",
    "    def is_empty(self):\n",
    "        return True if len(self.stack) == 0 else False\n",
    "\n",
    "    def push(self, item):\n",
    "        self.stack.append(item)\n",
    "\n",
    "    def pop(self):\n",
    "        return None if self.is_empty() else self.stack.pop()\n",
    "\n",
    "    def __str__(self):\n",
    "        return \"Stack: {}\".format(self.stack)\n",
    "\n",
    "\n",
    "\n",
    "def extraer_tags(cadena):\n",
    "    lista = [] \n",
    "    start = cadena.find(\"<\")\n",
    "    while start != -1:\n",
    "        end = cadena.find('>', start + 1)\n",
    "        tag = cadena[start:end + 1]\n",
    "        lista.append(tag)\n",
    "        #print(tag, end = \"\")\n",
    "        start = cadena.find('<', end + 1)\n",
    "    return lista\n",
    "\n",
    "extraer_tags(cadena)\n",
    "\n",
    "def matching_tags(cadena):\n",
    "    pila = Stack()\n",
    "    etiquetas = extraer_tags(cadena)\n",
    "    \n",
    "    if etiquetas != []:\n",
    "        for e in etiquetas:\n",
    "            if e.find(\"/\")==-1: \n",
    "                pila.push(e)\n",
    "            else:\n",
    "                if pila.is_empty():\n",
    "                    return False\n",
    "                else:\n",
    "                    x = pila.pop()\n",
    "                    abierto = x[1:-1]\n",
    "                    cerrado = e[2:-1]\n",
    "                    if abierto != cerrado :\n",
    "                        return False\n",
    "                \n",
    "        return pila.is_empty()\n",
    "    else:\n",
    "        return False        \n",
    "\n",
    "\n",
    "matching_tags(cadena)"
   ]
  },
  {
   "cell_type": "markdown",
   "id": "16452a15-8bd9-46f8-a781-5facb8e35191",
   "metadata": {},
   "source": [
    "### Chapter 4, Unit 23, Ejercicios clase"
   ]
  },
  {
   "cell_type": "code",
   "execution_count": null,
   "id": "f8ef8700-246e-4907-bbe3-451ae37c08b6",
   "metadata": {},
   "outputs": [],
   "source": [
    "\n",
    "class Queue:\n",
    "    def __init__(self):\n",
    "        self.queue = []\n",
    "\n",
    "    def is_empty(self):\n",
    "        return len(sel.queue) == 0\n",
    "\n",
    "    def enqueue(self, item):\n",
    "        self.queue.append(item)\n",
    "\n",
    "    def dequeue(self):\n",
    "        return None if self.is_empty() else self.queue.pop(0)\n",
    "\n",
    "    def size(self):\n",
    "        return len(sel.queue)\n",
    "\n",
    "def josephus_sequence(N,k):\n",
    "    secuencia = []\n",
    "    cola = Queue()\n",
    "    for i in range(1,N+1):\n",
    "        cola.enqueue(i)\n",
    "    \n",
    "    contador = 0\n",
    "    while not cola.is_empty():\n",
    "        elemento = cola.dequeue()\n",
    "        j = j + 1\n",
    "        if j % k == 0:\n",
    "            secuencia.append(elemento)\n",
    "        else:\n",
    "            cola.enqueue(elemento)\n",
    "    return secuencia\n",
    "\n",
    "def josephus_sequence(N,k):\n",
    "    secuencia = []\n",
    "    cola = Queue()\n",
    "    for i in range(1,N+1):\n",
    "        cola.enqueue(i)\n",
    "    while not cola.is_empty():\n",
    "        for i in range(1,k-1)\n",
    "            elemento = cola.dequeue()\n",
    "            cola.enqueue(elemento)\n",
    "        secuencia.append(cola.dequeue())\n",
    "    return secuencia\n",
    "\n",
    "\n",
    "\n",
    "N = int(input(\"Introduce el número de personas:\"))\n",
    "k = int(input(\"Introduce el valor a saltar:\"))\n",
    "print(josephus_sequence(N,k))\n",
    "\n",
    "print(josephus_sequence(N,k))"
   ]
  },
  {
   "cell_type": "markdown",
   "id": "685a0661-f184-4ab2-aaa0-8c0adbacfc45",
   "metadata": {},
   "source": [
    "### Chapter 4, Unit 23, Ejercicios clase"
   ]
  },
  {
   "cell_type": "code",
   "execution_count": null,
   "id": "3d7f60c2-03ed-46a5-9252-46d3059f8e6c",
   "metadata": {},
   "outputs": [],
   "source": [
    "class Deque:\n",
    "    def __init__(self):\n",
    "        self.queue = []\n",
    "\n",
    "    def is_empty(self):\n",
    "        return len(self.queue) == 0 \n",
    "\n",
    "    def insert_first(self,item):\n",
    "        return queue.insert(0,item)\n",
    "\n",
    "    def insert_last(self,item):\n",
    "        self.queue.append(item)\n",
    "\n",
    "    def remove_first(self,item):\n",
    "        return None if len(self.queue) == 0 else self.queue.pop(0)\n",
    "\n",
    "    def remove_last(self,item):\n",
    "        return None if self.is_empty() else self.queue.pop()\n",
    "\n"
   ]
  },
  {
   "cell_type": "markdown",
   "id": "9f99e6c7-8216-45a3-a6e9-786ce3f61a5d",
   "metadata": {},
   "source": [
    "### Chapter 4, Unit 24, Sequential Search"
   ]
  },
  {
   "cell_type": "code",
   "execution_count": null,
   "id": "235a8b4e-9eeb-4638-ba5b-8bcf98191d55",
   "metadata": {},
   "outputs": [],
   "source": [
    "def secuential_search(S,x)\n",
    "    for i in range(0,len(S)):\n",
    "        if S[i] == x:\n",
    "            return i\n",
    "    return -1\n",
    "\n",
    "\n",
    "S = [11,37,45,26,59,28,17,53]\n",
    "x = int(input(\"Introduce en número a buscar\"))\n",
    "\n",
    "\n",
    "pos = sequential_search(S,x)\n",
    "\n",
    "if pos==-1:\n",
    "    print(f\"El elemento {x} no se encuentra en S\")\n",
    "else:\n",
    "    print(f\"El elemento {x} se encuentra en la posición {x}\")\n"
   ]
  },
  {
   "cell_type": "code",
   "execution_count": 19,
   "id": "6a317cdb-87c1-4a8f-9ca0-d62c310d9c60",
   "metadata": {},
   "outputs": [
    {
     "name": "stdout",
     "output_type": "stream",
     "text": [
      "59 11\n"
     ]
    }
   ],
   "source": [
    "def find_two(nums):\n",
    "    x = y = 0\n",
    "    for i in range(1, len(nums)):\n",
    "        if nums[x] < nums[i]:\n",
    "            x = i\n",
    "        elif nums[y] > nums[i]:\n",
    "            y = i\n",
    "    return x, y\n",
    "\n",
    "nums = [11, 37, 45, 26, 59, 28, 17, 53]\n",
    "i, j = find_two(nums)\n",
    "print(nums[i], nums[j])\n"
   ]
  },
  {
   "cell_type": "markdown",
   "id": "a5142f19-c959-405b-898b-2d390e32e1f2",
   "metadata": {},
   "source": [
    "### Chapter 4, Unit 24, Pair programming Q1"
   ]
  },
  {
   "cell_type": "code",
   "execution_count": 20,
   "id": "aa66e996-19d9-4143-b53e-e59305a15ed6",
   "metadata": {},
   "outputs": [
    {
     "name": "stdin",
     "output_type": "stream",
     "text": [
      "Input a sentence Hola caracola Hola\n",
      "Input a word to search: Hola\n"
     ]
    },
    {
     "name": "stdout",
     "output_type": "stream",
     "text": [
      "In S, Hola is appeared in 2 times. \n"
     ]
    }
   ],
   "source": [
    "S  = input(\"Input a sentence\").split()\n",
    "x = input(\"Input a word to search:\")\n",
    "\n",
    "def word_count(S,x):\n",
    "    cont = 0\n",
    "    for p in S:\n",
    "        if p == x:\n",
    "            cont+=1\n",
    "    return cont\n",
    "\n",
    "count = word_count(S,x)\n",
    "\n",
    "\n",
    "print(f\"In S, {x} is appeared in {count} times. \")"
   ]
  },
  {
   "cell_type": "markdown",
   "id": "e27b4760-75ad-489e-be36-52b4d461be85",
   "metadata": {},
   "source": [
    "### Chapter 4, Unit 25, Binary Search"
   ]
  },
  {
   "cell_type": "code",
   "execution_count": null,
   "id": "3270f829-930c-47d0-9001-37c19cd872c1",
   "metadata": {},
   "outputs": [],
   "source": [
    "def bin_search(llista,elemento):\n",
    "    low = 0 \n",
    "    high = len(lista-1)\n",
    "\n",
    "    while low < high:\n",
    "        mid = (high + low ) // 2\n",
    "        if lista[mid] == elemento:\n",
    "            # Mid es el elemento que queremos\n",
    "            return mid\n",
    "        elif lista[mid] < elemento:\n",
    "            # Hacemos mid +1 porque el mid ya hemos visito que no es elemento que queremos\n",
    "            low = mid + 1 \n",
    "        else:\n",
    "            # Hacemos mid +1 porque el mid ya hemos visito que no es elemento que queremos\n",
    "            high = mid - 1\n",
    "\n",
    "        \n",
    "\n",
    "S = [11, 17, 26, 28, 37, 45, 53, 59]\n",
    "x = int(input(\"Número: \"))\n",
    "\n",
    "pos = bin_search\n"
   ]
  },
  {
   "cell_type": "markdown",
   "id": "1d258be5-afe7-4b86-8830-c8e1ec91d6c0",
   "metadata": {},
   "source": [
    "### Chapter 4, Unit 25, Binary Search, Problema de las plantas y el huevo"
   ]
  },
  {
   "cell_type": "code",
   "execution_count": null,
   "id": "3f3bfa94-7bf6-4cf3-ba35-7f95e33f3b0c",
   "metadata": {},
   "outputs": [],
   "source": [
    "height = int(input(\"Input the number of floors:\"))\n",
    "breaking = int(input(\"Input the first breaking floor: \"))\n",
    "\n",
    "\n",
    "def do_experiment(floor,breaking):\n",
    "    return floor >= breaking\n",
    "\n",
    "def find_highest_safe_floor2(height, breaking):\n",
    "    low, high = 1, height\n",
    "    while low < high:\n",
    "        mid = (low + high) // 2\n",
    "        if do_experiment(mid,breaking):\n",
    "            high=mid\n",
    "        else:\n",
    "            low = mid + 1\n",
    "    return low - 1\n",
    "\n",
    "\n",
    "floor =  find_highest_safe_floor2(height, breaking)\n",
    "print(f\"Your egg will safe till the floor {floor}-th floor\")"
   ]
  },
  {
   "cell_type": "markdown",
   "id": "c4eccf9c-132d-4320-ae0b-93f397832cd1",
   "metadata": {},
   "source": [
    "### Chapter 4, Unit 25, Pair programing Q1"
   ]
  },
  {
   "cell_type": "code",
   "execution_count": null,
   "id": "c10b8472-7803-413c-97e6-3443172c56a9",
   "metadata": {},
   "outputs": [],
   "source": [
    "nums = [10,20,40,50,60,80]\n",
    "x = int(input(\"Input a number to insert:\"))\n",
    "\n",
    "\n",
    "def search_insert_position(nums,x):\n",
    "    low = 0\n",
    "    high = len(nums)-1,\n",
    "    while low < high:\n",
    "        mid = (low + high) // 2\n",
    "        if nums[mid] \n",
    "\n",
    "\n",
    "pos = search_insert_position(num,x)\n",
    "print(f\"{x} should be inserted at position {pos}.\")\n",
    "nums.insert(pos,x)\n",
    "print(nums)"
   ]
  }
 ],
 "metadata": {
  "kernelspec": {
   "display_name": "Python 3 (ipykernel)",
   "language": "python",
   "name": "python3"
  },
  "language_info": {
   "codemirror_mode": {
    "name": "ipython",
    "version": 3
   },
   "file_extension": ".py",
   "mimetype": "text/x-python",
   "name": "python",
   "nbconvert_exporter": "python",
   "pygments_lexer": "ipython3",
   "version": "3.11.7"
  }
 },
 "nbformat": 4,
 "nbformat_minor": 5
}
