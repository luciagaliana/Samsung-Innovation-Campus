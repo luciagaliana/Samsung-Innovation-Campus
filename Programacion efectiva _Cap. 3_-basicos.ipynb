{
 "cells": [
  {
   "cell_type": "markdown",
   "metadata": {},
   "source": [
    "# Programación efectiva (Capítulo 3) - Ejercicios sencillos"
   ]
  },
  {
   "cell_type": "markdown",
   "metadata": {},
   "source": [
    "## Sección 1: Funciones"
   ]
  },
  {
   "cell_type": "markdown",
   "metadata": {},
   "source": [
    "**Ejercicio 1:**\n",
    "Escribe una función llamada `saludo` que reciba un nombre y devuelva un saludo en forma de cadena.\n",
    "\n",
    "Casos de prueba:\n",
    "```python\n",
    "print(saludo(\"Juan\"))  ==> Hola, Juan!\n",
    "```"
   ]
  },
  {
   "cell_type": "code",
   "execution_count": 1,
   "metadata": {},
   "outputs": [
    {
     "name": "stdout",
     "output_type": "stream",
     "text": [
      "Hola Lucía\n"
     ]
    }
   ],
   "source": [
    "def saludo(nombre):\n",
    "    print(\"Hola\", nombre, \"!\")\n",
    "\n",
    "saludo(\"Lucía\")"
   ]
  },
  {
   "cell_type": "markdown",
   "metadata": {},
   "source": [
    "**Ejercicio 2:**\n",
    "Escribe una función llamada `es_par` que reciba un número entero y devuelva `True` si el número es par y `False` si es impar.\n",
    "\n",
    "Casos de prueba:\n",
    "```python\n",
    "print(es_par(4))  ==> True\n",
    "print(es_par(7))  ==> False\n",
    "```"
   ]
  },
  {
   "cell_type": "code",
   "execution_count": 2,
   "metadata": {},
   "outputs": [
    {
     "data": {
      "text/plain": [
       "False"
      ]
     },
     "execution_count": 2,
     "metadata": {},
     "output_type": "execute_result"
    }
   ],
   "source": [
    "def es_par(n):\n",
    "    if n%2==0: return True\n",
    "    else: return False\n",
    "es_par(7)"
   ]
  },
  {
   "cell_type": "markdown",
   "metadata": {},
   "source": [
    "**Ejercicio 3:**\n",
    "Escribe una función llamada `suma_lista` que reciba una lista de números y devuelva la suma de todos los elementos de la lista.\n",
    "\n",
    "Casos de prueba:\n",
    "```python\n",
    "print(suma_lista([1, 2, 3, 4]))  ==> 10\n",
    "print(suma_lista([]))            ==> 0\n",
    "\n",
    "```\n"
   ]
  },
  {
   "cell_type": "code",
   "execution_count": 3,
   "metadata": {},
   "outputs": [
    {
     "data": {
      "text/plain": [
       "6"
      ]
     },
     "execution_count": 3,
     "metadata": {},
     "output_type": "execute_result"
    }
   ],
   "source": [
    "def suma_lista(lista):\n",
    "    return sum(lista)\n",
    "suma_lista([1,2,3])"
   ]
  },
  {
   "cell_type": "markdown",
   "metadata": {},
   "source": [
    "**Ejercicio 4:**\n",
    "Escribe una función llamada `es_palindromo` que reciba una cadena y devuelva `True` si la cadena es un palíndromo y `False` si no lo es.\n",
    "\n",
    "Casos de prueba:\n",
    "```python\n",
    "print(es_palindromo(\"radar\"))   ==> True\n",
    "print(es_palindromo(\"python\"))  ==> False\n",
    "print(es_palindromo(\"a\"))       ==> True\n",
    "```"
   ]
  },
  {
   "cell_type": "code",
   "execution_count": 9,
   "metadata": {},
   "outputs": [
    {
     "name": "stdout",
     "output_type": "stream",
     "text": [
      "radar\n"
     ]
    },
    {
     "data": {
      "text/plain": [
       "True"
      ]
     },
     "execution_count": 9,
     "metadata": {},
     "output_type": "execute_result"
    }
   ],
   "source": [
    "def es_palindromo(pal):\n",
    "    if pal == pal[::-1]: return True\n",
    "    else: return False\n",
    "\n",
    "es_palindromo(\"radar\")"
   ]
  },
  {
   "cell_type": "markdown",
   "metadata": {},
   "source": [
    "**Ejercicio 5:**\n",
    "Escribe una función llamada `factorial` que reciba un número entero positivo y devuelva su factorial. Usa un bucle para resolverlo.\n",
    "\n",
    "Casos de prueba:\n",
    "```python\n",
    "print(factorial(5))  ==> 120\n",
    "print(factorial(1))  ==> 1\n",
    "```"
   ]
  },
  {
   "cell_type": "code",
   "execution_count": 10,
   "metadata": {},
   "outputs": [
    {
     "data": {
      "text/plain": [
       "120"
      ]
     },
     "execution_count": 10,
     "metadata": {},
     "output_type": "execute_result"
    }
   ],
   "source": [
    "def factorial(n):\n",
    "    if n<=1: return 1\n",
    "    else: return n*factorial(n-1)\n",
    "factorial(5)\n",
    "        "
   ]
  },
  {
   "cell_type": "markdown",
   "metadata": {},
   "source": [
    "## Sección 2: Funciones Recursivas"
   ]
  },
  {
   "cell_type": "markdown",
   "metadata": {},
   "source": [
    "**Ejercicio 6:**\n",
    "Escribe una función recursiva llamada `sumar_lista_recursiva` que reciba una lista de números y devuelva la suma de todos los elementos de la lista.\n",
    "\n",
    "Casos de prueba:\n",
    "```python\n",
    "print(sumar_lista_recursiva([1, 2, 3, 4])) ==> 10\n",
    "print(sumar_lista_recursiva([5]))          ==> 5\n",
    "print(sumar_lista_recursiva([]))           ==> 0\n",
    "```"
   ]
  },
  {
   "cell_type": "code",
   "execution_count": 17,
   "metadata": {},
   "outputs": [
    {
     "data": {
      "text/plain": [
       "10"
      ]
     },
     "execution_count": 17,
     "metadata": {},
     "output_type": "execute_result"
    }
   ],
   "source": [
    "from functools import reduce \n",
    "\n",
    "def sumar_lista_reduce(lista):\n",
    "    resultado = reduce(lambda x,y:x+y,lista)\n",
    "    return resultado\n",
    "#sumar_lista_reduce([1,2,3,4])\n",
    "\n",
    "\n",
    "def sumar_lista_recursiva(lista):\n",
    "    if lista == []: \n",
    "        return 0\n",
    "    else: \n",
    "     return lista[-1] + sumar_lista_recursiva(lista[:-1])\n",
    "        \n",
    "sumar_lista_recursiva([1,2,3,4])"
   ]
  },
  {
   "cell_type": "markdown",
   "metadata": {},
   "source": [
    "**Ejercicio 7:**\n",
    "Escribe una función recursiva llamada `contar_digitos` que reciba un número entero y devuelva el número de dígitos que tiene.\n",
    "\n",
    "Casos de prueba:\n",
    "```python\n",
    "print(contar_digitos(12345))  ==> 5\n",
    "print(contar_digitos(5))      ==> 1\n",
    "print(contar_digitos(0))      ==> 1\n",
    "```\n"
   ]
  },
  {
   "cell_type": "code",
   "execution_count": 27,
   "metadata": {},
   "outputs": [
    {
     "data": {
      "text/plain": [
       "1"
      ]
     },
     "execution_count": 27,
     "metadata": {},
     "output_type": "execute_result"
    }
   ],
   "source": [
    "def contar_digitos(n):\n",
    "    cont = 1\n",
    "    if len(str(n)) <= 1: return cont\n",
    "    else:\n",
    "        return cont + contar_digitos(n//10)\n",
    "\n",
    "contar_digitos(7)\n",
    "\n",
    "\n",
    "\n",
    "def contar_digitos_2(n):\n",
    "    \n",
    "\n",
    "    "
   ]
  },
  {
   "cell_type": "markdown",
   "metadata": {},
   "source": [
    "**Ejercicio 8:**\n",
    "Escribe una función recursiva llamada `inversa` que reciba una cadena y devuelva la cadena invertida.\n",
    "\n",
    "Casos de prueba:\n",
    "```python\n",
    "print(inversa(\"hola\"))   ==> \"aloh\"\n",
    "print(inversa(\"adios\"))  ==> \"soida\"\n",
    "print(inversa(\"a\"))      ==> \"a\"\n",
    "print(inversa(\"\"))       ==> \"\"\n",
    "```\n"
   ]
  },
  {
   "cell_type": "code",
   "execution_count": 23,
   "metadata": {},
   "outputs": [
    {
     "data": {
      "text/plain": [
       "''"
      ]
     },
     "execution_count": 23,
     "metadata": {},
     "output_type": "execute_result"
    }
   ],
   "source": [
    "def inversa(cadena):\n",
    "    if len(cadena)<=1: return cadena\n",
    "    else:\n",
    "        return cadena[-1] + inversa(cadena[:-1])\n",
    "inversa(\"\")"
   ]
  },
  {
   "cell_type": "markdown",
   "metadata": {},
   "source": [
    "## Sección 3: Funciones Lambda"
   ]
  },
  {
   "cell_type": "markdown",
   "metadata": {},
   "source": [
    "**Ejercicio 9:**\n",
    "Usa una función lambda para crear una lista que contenga los cuadrados de los números del 1 al 10.\n",
    "\n",
    "Casos de prueba:\n",
    "```python\n",
    "print(cuadrados)    ==> [1, 4, 9, 16, 25, 36, 49, 64, 81, 100]\n",
    "```\n"
   ]
  },
  {
   "cell_type": "code",
   "execution_count": 33,
   "metadata": {},
   "outputs": [
    {
     "name": "stdout",
     "output_type": "stream",
     "text": [
      "[4, 4, 4, 4]\n"
     ]
    }
   ],
   "source": [
    "lista = [2,2,2,2]\n",
    "resultado = list(map(lambda x: x**2, lista))\n",
    "print(resultado)"
   ]
  },
  {
   "cell_type": "markdown",
   "metadata": {},
   "source": [
    "**Ejercicio 10:**\n",
    "Usa una función lambda para filtrar una lista de números almacenada en la variable ```numeros``` y quedarte solo con los números pares.\n",
    "\n",
    "Casos de prueba:\n",
    "```python\n",
    "numeros = [1, 2, 3, 4, 5, 6, 7, 8, 9, 10] ==> [2, 4, 6, 8, 10]\n",
    "numeros = [23,12]                         ==> [12]\n",
    "numeros = [45]                            ==> []\n",
    "```\n"
   ]
  },
  {
   "cell_type": "code",
   "execution_count": 36,
   "metadata": {},
   "outputs": [
    {
     "name": "stdout",
     "output_type": "stream",
     "text": [
      "[2, 4, 6, 8]\n"
     ]
    }
   ],
   "source": [
    "numeros = [1,2,3,4,5,6,7,8,9]\n",
    "\n",
    "final = list(filter(lambda x: x%2==0, numeros))\n",
    "print(final)\n",
    "\n"
   ]
  },
  {
   "cell_type": "markdown",
   "metadata": {},
   "source": [
    "**Ejercicio 11:**\n",
    "Usa una función lambda para ordenar una lista de tuplas en base al segundo elemento de cada tupla.\n",
    "\n",
    "Casos de prueba:\n",
    "```python\n",
    "tuplas = [(1, 3), (4, 2), (5, 1)]          ==> [(5, 1), (4, 2), (1, 3)]\n",
    "tuplas = [(1, 'yb'), (4, 'af'), (2, 'md')] ==> [(4, 'af'), (2, 'md'), (1, 'yb')]\n",
    "tuplas = [(1, -1), (1, 4), (3, -2)]        ==> [(3, -2), (1, -1), (1, 4)]\n",
    "tuplas = [(2, 5)]                          ==> [(2, 5)]\n",
    "```\n"
   ]
  },
  {
   "cell_type": "code",
   "execution_count": 57,
   "metadata": {},
   "outputs": [
    {
     "name": "stdout",
     "output_type": "stream",
     "text": [
      "[(4, 'af'), (2, 'md'), (1, 'yb')]\n"
     ]
    }
   ],
   "source": [
    "tuplas = [(1, 'yb'), (4, 'af'), (2, 'md')] #Irá primero (4,2) y luego (1,3)\n",
    "\n",
    "tuplas.sort(key=lambda x: x[1])\n",
    "print(tuplas)\n"
   ]
  },
  {
   "cell_type": "markdown",
   "metadata": {},
   "source": [
    "**Ejercicio 12:**\n",
    "Usa una función lambda para encontrar el mayor número en una lista de números.\n",
    "\n",
    "Casos de prueba:\n",
    "```python\n",
    "numeros = [1, 2, 3, 4, 5]     ==> 5\n",
    "numeros = [-4, 1, 2, 3, -2]   ==> 3\n",
    "\n",
    "```\n"
   ]
  },
  {
   "cell_type": "code",
   "execution_count": 62,
   "metadata": {},
   "outputs": [
    {
     "name": "stdout",
     "output_type": "stream",
     "text": [
      "5\n"
     ]
    }
   ],
   "source": [
    "numeros = [1,2,3,4,5]\n",
    "\n",
    "final = lambda numeros: max(numeros)\n",
    "print(final(numeros))\n",
    "\n"
   ]
  },
  {
   "cell_type": "markdown",
   "metadata": {},
   "source": [
    "**Ejercicio 13:**\n",
    "Usa una función lambda para crear una función que sume tres números.\n",
    "\n",
    "Casos de prueba:\n",
    "```python\n",
    "print(suma_tres(1, 2, 3))   ==> 6\n",
    "```\n"
   ]
  },
  {
   "cell_type": "code",
   "execution_count": 63,
   "metadata": {},
   "outputs": [
    {
     "name": "stdout",
     "output_type": "stream",
     "text": [
      "6\n"
     ]
    }
   ],
   "source": [
    "suma = lambda x,y,z: x+y+z\n",
    "print(suma(1,2,3))"
   ]
  },
  {
   "cell_type": "markdown",
   "metadata": {},
   "source": [
    "## Sección 4: Clases y Objetos"
   ]
  },
  {
   "cell_type": "markdown",
   "metadata": {},
   "source": [
    "**Ejercicio 14:**\n",
    "Define una clase `Coche` con los atributos `marca`, `modelo` y `año`. Incluye un método que imprima la descripción del coche.\n",
    "\n",
    "Casos de prueba:\n",
    "```python\n",
    "mi_coche = Coche(\"Toyota\", \"Corolla\", 2020)\n",
    "print(mi_coche.descripcion())                ==> \"Toyota Corolla del año 2020\"\n",
    "```\n"
   ]
  },
  {
   "cell_type": "code",
   "execution_count": 68,
   "metadata": {},
   "outputs": [
    {
     "name": "stdout",
     "output_type": "stream",
     "text": [
      "Toyota Corolla del año 2020\n"
     ]
    }
   ],
   "source": [
    "class Coche:\n",
    "    def __init__(self,marca,modelo,anyo):\n",
    "        self.marca=marca\n",
    "        self.modelo=modelo\n",
    "        self.anyo=anyo\n",
    "\n",
    "    def descripcion(self):\n",
    "        return f\"{self.marca} {self.modelo} del año {self.anyo}\"\n",
    "\n",
    "\n",
    "mi_coche = Coche(\"Toyota\", \"Corolla\", 2020)\n",
    "print(mi_coche.descripcion()) "
   ]
  },
  {
   "cell_type": "markdown",
   "metadata": {},
   "source": [
    "**Ejercicio 15:**\n",
    "Define una clase `Rectangulo` con los atributos `base` y `altura`. Incluye un método que calcule y devuelva el área del rectángulo.\n",
    "\n",
    "Casos de prueba:\n",
    "```python\n",
    "mi_rectangulo = Rectangulo(4, 5)\n",
    "print(mi_rectangulo.area())        ==> 20\n",
    "```\n"
   ]
  },
  {
   "cell_type": "code",
   "execution_count": null,
   "metadata": {},
   "outputs": [],
   "source": [
    "class Rectangulo:\n",
    "    def "
   ]
  },
  {
   "cell_type": "markdown",
   "metadata": {},
   "source": [
    "**Ejercicio 16:**\n",
    "Define una clase `CuentaBancaria` con los atributos `titular` y `saldo`. Incluye métodos para depositar y retirar dinero, y para mostrar el saldo actual.\n",
    "\n",
    "Casos de prueba:\n",
    "```python\n",
    "mi_cuenta = CuentaBancaria(\"Ana\", 1000)\n",
    "mi_cuenta.depositar(500)\n",
    "mi_cuenta.retirar(200)\n",
    "print(mi_cuenta.mostrar_saldo())             ==> 1300\n",
    "```\n"
   ]
  },
  {
   "cell_type": "code",
   "execution_count": null,
   "metadata": {},
   "outputs": [],
   "source": []
  },
  {
   "cell_type": "markdown",
   "metadata": {},
   "source": [
    "**Ejercicio 17:**\n",
    "Define una clase `Libro` con los atributos `titulo`, `autor` y `numero_paginas`. Incluye un método que imprima la descripción del libro.\n",
    "\n",
    "Casos de prueba:\n",
    "```python\n",
    "mi_libro = Libro(\"1984\", \"George Orwell\", 328)\n",
    "print(mi_libro.descripcion())                    ==> \"1984 por George Orwell, 328 páginas\"\n",
    "```\n"
   ]
  },
  {
   "cell_type": "code",
   "execution_count": null,
   "metadata": {},
   "outputs": [],
   "source": []
  },
  {
   "cell_type": "markdown",
   "metadata": {},
   "source": [
    "**Ejercicio 18:**\n",
    "Define una clase `Punto` con los atributos `x` e `y`, de forma que dichos atributos representen las coordenadas de un punto en un plano. Incluye un método `distancia` que calcule la distancia entre dos puntos (objetos de dicha clase).\n",
    "\n",
    "**Nota:** la fórmula para calcular la distancia entre dos puntos (x1, y1) y (x2, y2) es: d = √((x2 - x1)² + (y2 - y1)²)\n",
    "\n",
    "Casos de prueba:\n",
    "```python\n",
    "punto1 = Punto(0, 0)\n",
    "punto2 = Punto(3, 4)\n",
    "print(punto1.distancia(punto2))   ==> 5.0\n",
    "```\n"
   ]
  },
  {
   "cell_type": "code",
   "execution_count": null,
   "metadata": {},
   "outputs": [],
   "source": []
  }
 ],
 "metadata": {
  "kernelspec": {
   "display_name": "Python 3 (ipykernel)",
   "language": "python",
   "name": "python3"
  },
  "language_info": {
   "codemirror_mode": {
    "name": "ipython",
    "version": 3
   },
   "file_extension": ".py",
   "mimetype": "text/x-python",
   "name": "python",
   "nbconvert_exporter": "python",
   "pygments_lexer": "ipython3",
   "version": "3.11.7"
  }
 },
 "nbformat": 4,
 "nbformat_minor": 4
}
