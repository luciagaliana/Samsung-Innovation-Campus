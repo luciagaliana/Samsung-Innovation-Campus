{
 "cells": [
  {
   "cell_type": "code",
   "execution_count": 2,
   "id": "147b6c07-132c-47cc-9f56-240276f495f9",
   "metadata": {},
   "outputs": [
    {
     "data": {
      "text/plain": [
       "2"
      ]
     },
     "execution_count": 2,
     "metadata": {},
     "output_type": "execute_result"
    }
   ],
   "source": [
    "# Chapter 2, Unit 10, Paper coding Q1\n",
    "\n",
    "prime = [2,3,5,7]\n",
    "\n",
    "prime[0]"
   ]
  },
  {
   "cell_type": "code",
   "execution_count": 4,
   "id": "1e0077e3-0837-49fa-9737-196650031b06",
   "metadata": {},
   "outputs": [
    {
     "name": "stdout",
     "output_type": "stream",
     "text": [
      "[2, 3, 5, 7, 11]\n"
     ]
    }
   ],
   "source": [
    "# Chapter 2, Unit 10, Paper coding Q2\n",
    "\n",
    "prime = [2,3,5,7]\n",
    "\n",
    "prime.append(11)\n",
    "print(prime)"
   ]
  },
  {
   "cell_type": "code",
   "execution_count": 6,
   "id": "70c27ddf-e3c7-4aa1-9b5e-72c00d7a7ee1",
   "metadata": {},
   "outputs": [
    {
     "name": "stdout",
     "output_type": "stream",
     "text": [
      "3 * 2 = 6\n",
      "3 * 3 = 9\n",
      "3 * 4 = 12\n",
      "3 * 5 = 15\n",
      "3 * 6 = 18\n",
      "5 * 2 = 10\n",
      "5 * 3 = 15\n",
      "5 * 4 = 20\n",
      "5 * 5 = 25\n",
      "5 * 6 = 30\n",
      "7 * 2 = 14\n",
      "7 * 3 = 21\n",
      "7 * 4 = 28\n",
      "7 * 5 = 35\n",
      "7 * 6 = 42\n"
     ]
    }
   ],
   "source": [
    "# Chapter 2, Unit 10, Paper coding Q3\n",
    "\n",
    "list1=[3,5,7]\n",
    "list2=[2,3,4,5,6]\n",
    "\n",
    "for n in list1:\n",
    "    for n2 in list2:\n",
    "        print(n, \"x\", n2, \"=\", n*n2)"
   ]
  },
  {
   "cell_type": "code",
   "execution_count": 8,
   "id": "a320dfe5-d611-488e-9cb7-24dbaa2e37c1",
   "metadata": {},
   "outputs": [
    {
     "name": "stdout",
     "output_type": "stream",
     "text": [
      "\n"
     ]
    }
   ],
   "source": [
    "# Chapter 2, Unit 10, Pair programming Q1\n",
    "\n",
    "a_list = ['abc', 'bcd', 'bcdefg', 'abba', 'cddc', 'opq']\n",
    "\n",
    "word = a_list[0]\n",
    "\n",
    "for w in a_list[0]:\n",
    "    if len(w) < len(word):\n",
    "        word=w\n",
    "print(word)\n"
   ]
  },
  {
   "cell_type": "code",
   "execution_count": 6,
   "id": "d47f939f-5a6e-4802-b47e-6b955789f033",
   "metadata": {},
   "outputs": [
    {
     "name": "stdout",
     "output_type": "stream",
     "text": [
      "bcdefg\n"
     ]
    }
   ],
   "source": [
    "# Chapter 2, Unit 10, Pair programming Q2\n",
    "\n",
    "a_list = ['abc', 'bcd', 'bcdefg', 'abba', 'cddc', 'opq']\n",
    "\n",
    "word = a_list[0]\n",
    "\n",
    "for w in a_list:\n",
    "    if len(w) > len(word):\n",
    "        word=w\n",
    "print(word)\n",
    "\n"
   ]
  },
  {
   "cell_type": "code",
   "execution_count": 15,
   "id": "5e24b79e-9042-442f-b9a9-4502a4ba073b",
   "metadata": {},
   "outputs": [
    {
     "name": "stdout",
     "output_type": "stream",
     "text": [
      "The shortest strings:  ['abc', 'abc', 'opq']\n"
     ]
    }
   ],
   "source": [
    "# Chapter 2, Unit 10, Pair programming Q2\n",
    "\n",
    "a_list = ['abc', 'bcd', 'bcdefg', 'abba', 'cddc', 'opq']\n",
    "\n",
    "b_list=[]\n",
    "\n",
    "\n",
    "for a in a_list:\n",
    "    if len(b_list) == 0: b_list.append(a)\n",
    "    else:\n",
    "        word = b_list.pop()\n",
    "        if len(a) < len(word): \n",
    "            b_list.append(a) \n",
    "        elif len(a) == len(word): \n",
    "            b_list.append(word)\n",
    "            b_list.append(a)\n",
    "        else:\n",
    "            b_list.append(word)\n",
    "\n",
    "print(\"The shortest strings: \", b_list)\n",
    "\n"
   ]
  },
  {
   "cell_type": "code",
   "execution_count": 1,
   "id": "f17fad5b-1c3d-429b-be85-7e6e0555315f",
   "metadata": {},
   "outputs": [
    {
     "data": {
      "text/plain": [
       "'Seoul'"
      ]
     },
     "execution_count": 1,
     "metadata": {},
     "output_type": "execute_result"
    }
   ],
   "source": [
    "# Chapter 2, Unit 11, Paper coding Q1\n",
    "\n",
    "capitales_dic = {\n",
    "    \"Korea\": \"Seoul\",\n",
    "    \"China\": \"Beijing\",\n",
    "    \"USA\": \"Washington DC\"\n",
    "}\n",
    "\n",
    "capitales_dic[\"Korea\"]"
   ]
  },
  {
   "cell_type": "code",
   "execution_count": 4,
   "id": "908d5f0f-6db9-4723-87d8-b50ddbe262f6",
   "metadata": {},
   "outputs": [
    {
     "name": "stdout",
     "output_type": "stream",
     "text": [
      "The price of a apple is 5000 KRW.\n",
      "The price of a banana is 4000 KRW.\n",
      "The price of a grape is 5300 KRW.\n",
      "The price of a melon is 6500 KRW.\n"
     ]
    }
   ],
   "source": [
    "# Chapter 2, Unit 11, Paper coding Q2\n",
    "\n",
    "fruits_dic = {\n",
    "    \"apple\": 5000,\n",
    "    \"banana\": 4000,\n",
    "    \"grape\": 5300,\n",
    "    \"melon\": 6500\n",
    "}\n",
    "\n",
    "\n",
    "for fruit, price in fruits_dic.items():\n",
    "    print(\"The price of a\", fruit, \"is\", price, \"KRW.\")"
   ]
  },
  {
   "cell_type": "code",
   "execution_count": 12,
   "id": "4f41122a-4b93-4e40-8c78-becc98406c67",
   "metadata": {},
   "outputs": [
    {
     "name": "stdout",
     "output_type": "stream",
     "text": [
      "['apple', 'melon', 'banana', 'orange']\n",
      "[6000, 3000, 5000, 4000]\n",
      "apple is in fruits_dic\n",
      "mango is not in fruits_dic\n"
     ]
    }
   ],
   "source": [
    "# Chapter 2, Unit 11, Pair programming Q1\n",
    "\n",
    "fruits_dic = {\n",
    "    \"apple\": 6000,\n",
    "    \"melon\": 3000,\n",
    "    \"banana\": 5000,\n",
    "    \"orange\": 4000\n",
    "}\n",
    "\n",
    "\n",
    "print(list(fruits_dic.keys()))\n",
    "print(list(fruits_dic.values()))\n",
    "print(list(fruits_dic.items()))\n",
    "\n",
    "if \"apple\" in fruits_dic: \n",
    "    print(\"apple is in fruits_dic\")\n",
    "else:\n",
    "    print(\"apple is not in fruits_dic\")\n",
    "\n",
    "\n",
    "if \"mango\" not in fruits_dic: \n",
    "    print(\"mango is not in fruits_dic\")\n",
    "else:\n",
    "    print(\"mango is in fruits_dic\")"
   ]
  },
  {
   "cell_type": "code",
   "execution_count": 1,
   "id": "1d6b71f1-3f08-4389-abee-432e8ca2e4f8",
   "metadata": {},
   "outputs": [
    {
     "name": "stdout",
     "output_type": "stream",
     "text": [
      "True\n",
      "False\n",
      "True\n",
      "('a', 'b', 'c', 'd', 'e')\n",
      "[('a', 'b', 'c', 'd', 'e')]\n",
      "('a', 'b', 'c')\n"
     ]
    }
   ],
   "source": [
    "# Chapter 2, Unit 12, Paper coding Q1\n",
    "\n",
    "t1= 'a','b','c'\n",
    "t2= ('a','b','c')\n",
    "t3= ('d','e')\n",
    "\n",
    "print(t1==t2) # True\n",
    "print(t1>t3) # False\n",
    "print(t1<t3) # True \n",
    "print(t2+t3) # ('a','b','c','d','e')\n",
    "print([t2+t3]) # [('a','b','c','d','e')]\n",
    "print(t1) # ('a','b','c')"
   ]
  },
  {
   "cell_type": "code",
   "execution_count": 4,
   "id": "da72eb30-63e1-4754-9502-b73fcb60ca78",
   "metadata": {},
   "outputs": [
    {
     "name": "stdout",
     "output_type": "stream",
     "text": [
      "In the past 10 days, 3 days had reduced sales compared to the previous days.\n"
     ]
    }
   ],
   "source": [
    "# Chapter 2, Unit 12, Paper coding Q2\n",
    "\n",
    "sales=(100,121,120,130,140,120,122,123,190,125)\n",
    "ayer=0\n",
    "cont=0\n",
    "\n",
    "for i in range(len(sales)):\n",
    "    if sales[i] < ayer: \n",
    "        cont+=1\n",
    "    ayer=sales[i]  \n",
    "print(\"In the past 10 days,\",cont ,\"days had reduced sales compared to the previous days.\")"
   ]
  },
  {
   "cell_type": "code",
   "execution_count": 20,
   "id": "5037c957-9514-49e8-b5b7-15a61c014c73",
   "metadata": {},
   "outputs": [
    {
     "name": "stdout",
     "output_type": "stream",
     "text": [
      "El número es el 9  y aparece 3 veces.\n",
      "{1: 2, 2: 2, 5: 1, 4: 2, 3: 3, 7: 2, 8: 1, 9: 3}\n",
      "El número es el 9 y se repite 3 veces.\n"
     ]
    }
   ],
   "source": [
    "# Chapter 2, Unit 12, Pair programming Q1\n",
    "\n",
    "tupla = (1,2,5,4,3,2,1,4,7,8,9,9,3,7,3,9)\n",
    "lista = list(tuple)\n",
    "\n",
    "cont=0\n",
    "num=0\n",
    "        \n",
    "for n in lista:\n",
    "    if lista.count(n) >= cont:\n",
    "        cont=lista.count(n)\n",
    "        num=n\n",
    "print(\"El número es el\", num, \" y aparece\", cont, \"veces.\")\n",
    "\n",
    "\n"
   ]
  },
  {
   "cell_type": "code",
   "execution_count": null,
   "id": "22102bdd-0eeb-49f4-976b-705a28dfecec",
   "metadata": {},
   "outputs": [],
   "source": [
    "# Chapter 2, Unit 12, Pair programming Q1, Versión 2 (Con diccionarios)\n",
    "\n",
    "tupla = (1,2,5,4,3,2,1,4,7,8,9,9,3,7,3,9)\n",
    "lista = list(tuple)\n",
    "\n",
    "dic = {}\n",
    "for n in lista:\n",
    "    if n not in dic:\n",
    "        dic[n]=1\n",
    "    else:\n",
    "        dic[n]+=1\n",
    "print(dic)\n",
    "\n",
    "veces=0\n",
    "numero=0\n",
    "for num,cont in dic.items():\n",
    "    if cont>=veces:\n",
    "        numero=num\n",
    "        veces=cont\n",
    "    else:\n",
    "        pass\n",
    "print(f\"El número es el {numero} y se repite {veces} veces.\")\n"
   ]
  },
  {
   "cell_type": "code",
   "execution_count": 16,
   "id": "eee7ee0f-c745-4f22-b573-6558f7ac3395",
   "metadata": {},
   "outputs": [
    {
     "name": "stdout",
     "output_type": "stream",
     "text": [
      "[(1,), 'abc', (1,), ('a',), ('a', 'b'), ((),)]\n"
     ]
    }
   ],
   "source": [
    "# Chapter 2, Unit 12, Pair programming Q2\n",
    "lista = [(), (1,), [], 'abc', (), (), (1,), ('a',), ('a', 'b'), ((),), '']\n",
    "\n",
    "res = []\n",
    "\n",
    "for v in lista:\n",
    "    temp = list(v)\n",
    "    if temp == []: \n",
    "        pass\n",
    "    else:\n",
    "        res.append(v)\n",
    "        \n",
    "print(res)\n",
    "\n",
    "#The most frequent element: [(1,), 'abc', (1,), ('a',), ('a', 'b'), ((),)]"
   ]
  },
  {
   "cell_type": "code",
   "execution_count": 1,
   "id": "56fd09c7-a26d-451a-854d-9a59150c07c6",
   "metadata": {},
   "outputs": [
    {
     "data": {
      "text/plain": [
       "30"
      ]
     },
     "execution_count": 1,
     "metadata": {},
     "output_type": "execute_result"
    }
   ],
   "source": [
    "# Chapter 2, Unit 13, Paper coding Q1\n",
    "\n",
    "list_array=[[10,20],[30,40],[50,60]]\n",
    "list_array[1][0]\n"
   ]
  },
  {
   "cell_type": "code",
   "execution_count": 29,
   "id": "9eb1673d-de71-46b5-9a9a-dac49237f904",
   "metadata": {},
   "outputs": [
    {
     "name": "stdout",
     "output_type": "stream",
     "text": [
      "[]\n",
      "[[1, 2, 3, 4], [5, 6, 7, 8], [9, 10, 11, 12], [13, 14, 15, 16]]\n",
      "[[1, 2, 3, 4], [5, 6, 7, 8], [9, 10, 11, 12], [13, 14, 15, 16]]\n",
      "[[1, 2, 3, 4], [5, 6, 7, 8], [9, 10, 11, 12], [13, 14, 15, 16]]\n"
     ]
    }
   ],
   "source": [
    "# Chapter 2, Unit 13, Paper coding Q2\n",
    "\n",
    "list_array=[]\n",
    "\n",
    "print(list_array)\n",
    "\n",
    "cont=1\n",
    "\n",
    "for i in range(4):\n",
    "    list=[]\n",
    "    for j in range(4):\n",
    "        list.append(cont)\n",
    "        cont+=1\n",
    "    list_array.append(list)\n",
    "\n",
    "print(list_array)    \n",
    "\n",
    "\n",
    "# Chapter 2, Unit 13, Paper coding Q2, Versión 2\n",
    "n=4\n",
    "matriz=[]\n",
    "for i in range(n):\n",
    "    fila=[]\n",
    "    for j in range(n):\n",
    "        fila.append(n*i+j+1)\n",
    "    matriz.append(fila)\n",
    "print(matriz)\n",
    "\n",
    "# Chapter 2, Unit 13, Paper coding Q2, Versión 3\n",
    "n=4\n",
    "list_array = [[n*i+j+1 for j in range(n)] for i in range(n)]\n",
    "print(list_array)"
   ]
  },
  {
   "cell_type": "code",
   "execution_count": 45,
   "id": "d501abb3-7aa3-4f5c-a877-75a4480fa8cd",
   "metadata": {},
   "outputs": [
    {
     "name": "stdin",
     "output_type": "stream",
     "text": [
      "Enter a number n: 5\n"
     ]
    },
    {
     "data": {
      "text/plain": [
       "[[1, 0, 1, 0, 1],\n",
       " [0, 1, 0, 1, 0],\n",
       " [1, 0, 1, 0, 1],\n",
       " [0, 1, 0, 1, 0],\n",
       " [1, 0, 1, 0, 1]]"
      ]
     },
     "execution_count": 45,
     "metadata": {},
     "output_type": "execute_result"
    }
   ],
   "source": [
    "# Chapter 2, Unit 13, Pair programming Q1\n",
    "\n",
    "n = int(input(\"Enter a number n:\"))\n",
    "\n",
    "# Creamos el array de ceros y unos\n",
    "list_array = [[1 if j % 2 == i%2 else 0 for j in range(n)] for i in range(n)]\n",
    "list_array\n",
    "\n",
    "# Imprimimos el array para que quedde como en ell ejercicio\n",
    "for filas in list_array:\n",
    "    for item in filas: \n",
    "        print(item, end=\" \")\n",
    "    prin()\n"
   ]
  },
  {
   "cell_type": "code",
   "execution_count": 48,
   "id": "cfa58202-9513-4cff-83bf-cf380973b395",
   "metadata": {},
   "outputs": [
    {
     "name": "stdin",
     "output_type": "stream",
     "text": [
      "Enter a number n: 5\n"
     ]
    },
    {
     "name": "stdout",
     "output_type": "stream",
     "text": [
      "1 0 1 0 1 \n",
      "0 1 0 1 0 \n",
      "1 0 1 0 1 \n",
      "0 1 0 1 0 \n",
      "1 0 1 0 1 \n"
     ]
    }
   ],
   "source": [
    "# Chapter 2, Unit 13, Pair programming Q1, Versión 2\n",
    "\n",
    "n = int(input(\"Enter a number n:\"))\n",
    "\n",
    "valor=1\n",
    "for i in range(n):\n",
    "    for j in range(n):\n",
    "        print(valor, end=\" \")\n",
    "        if valor==1: valor=0\n",
    "        else: valor=1\n",
    "    print()\n"
   ]
  },
  {
   "cell_type": "code",
   "execution_count": 50,
   "id": "903a359e-1bf8-4e9d-93f1-6ab85b8114bf",
   "metadata": {},
   "outputs": [
    {
     "name": "stdin",
     "output_type": "stream",
     "text": [
      "Enter a number n: 5\n"
     ]
    },
    {
     "name": "stdout",
     "output_type": "stream",
     "text": [
      "1 0 1 0 1 \n",
      "0 1 0 1 0 \n",
      "1 0 1 0 1 \n",
      "0 1 0 1 0 \n",
      "1 0 1 0 1 \n"
     ]
    }
   ],
   "source": [
    "# Chapter 2, Unit 13, Pair programming Q1, Versión 3\n",
    "\n",
    "n = int(input(\"Enter a number n:\"))\n",
    "\n",
    "valor=1\n",
    "for i in range(n):\n",
    "    for j in range(n):\n",
    "        print(valor, end=\" \")\n",
    "        valor = int(not valor) # Así el valor obtendrá el valor contrario del que tenía\n",
    "    print()\n"
   ]
  },
  {
   "cell_type": "code",
   "execution_count": 54,
   "id": "da77dadc-d2e4-4d31-a0d3-9b911b9a8155",
   "metadata": {},
   "outputs": [
    {
     "name": "stdout",
     "output_type": "stream",
     "text": [
      "Last Name : Doe\n",
      "First Name : David\n",
      "Company : Samsung\n"
     ]
    }
   ],
   "source": [
    "# Chapter 2, Unit 14, Paper coding Q1\n",
    "\n",
    "person_dic = {'Last Name': 'Doe', 'First Name': 'David', 'Company': 'Samsung'}\n",
    "\n",
    "\n",
    "for clave, valor in person_dic.items():\n",
    "    print(clave,\":\" ,valor)"
   ]
  },
  {
   "cell_type": "code",
   "execution_count": 55,
   "id": "6fa1d3a7-8d65-49ed-9a2e-7c60694e2c09",
   "metadata": {},
   "outputs": [
    {
     "name": "stdin",
     "output_type": "stream",
     "text": [
      "Enter the name of the item: Pen\n"
     ]
    },
    {
     "data": {
      "text/plain": [
       "3"
      ]
     },
     "execution_count": 55,
     "metadata": {},
     "output_type": "execute_result"
    }
   ],
   "source": [
    "# Chapter 2, Unit 14, Paper coding Q2\n",
    "\n",
    "items = {\"Coffee\": 7, \"Pen\":3, \"Paper cup\": 2, \"Milk\": 1, \"Coke\": 4, \"Book\":5}\n",
    "\n",
    "item = input(\"Enter the name of the item:\")\n",
    "\n",
    "if item in items:\n",
    "    print(items[item])\n",
    "else:\n",
    "    print(\"No tenemos ese item\")"
   ]
  },
  {
   "cell_type": "code",
   "execution_count": null,
   "id": "9ac52eb9-958f-4edc-8c00-4791691c2bee",
   "metadata": {},
   "outputs": [],
   "source": [
    "# Chapter 2, Unit 14, Paper coding Q2, Versión 2\n",
    "\n",
    "items = {\"Coffee\": 7, \"Pen\":3, \"Paper cup\": 2, \"Milk\": 1, \"Coke\": 4, \"Book\":5}\n",
    "\n",
    "item = input(\"Enter the name of the item:\")\n",
    "\n",
    "print(items.get(item)) # Con get no tenemos que hacer una ocmprobacion de si ese item \n",
    "# está en la lista, poruqe si no existe nos devuelve None. \n",
    "\n",
    "# Si queremos que nos ponga algo cuadno el valor no existe en vez de None tenemos que poner\n",
    "# un valor por defecto.\n",
    "\n",
    "print(items.get(item, \"No tenemos ese item\"))"
   ]
  },
  {
   "cell_type": "code",
   "execution_count": 70,
   "id": "d9dcd729-e653-41f3-bb66-82149f19a078",
   "metadata": {},
   "outputs": [
    {
     "name": "stdin",
     "output_type": "stream",
     "text": [
      "Select menu: \n",
      "    1) check stock \n",
      "    2) warehousing \n",
      "    3) release \n",
      "    4) exit \n",
      "\n",
      "    \n",
      "     1\n"
     ]
    },
    {
     "name": "stdout",
     "output_type": "stream",
     "text": [
      "{'Coffee': 7, 'Pen': 3, 'Paper cup': 2, 'Milk': 1, 'Coke': 4, 'Book': 5}\n",
      "\n"
     ]
    },
    {
     "name": "stdin",
     "output_type": "stream",
     "text": [
      "[check stock] Enter item: Pen\n"
     ]
    },
    {
     "name": "stdout",
     "output_type": "stream",
     "text": [
      "The item Pen has 3 units.\n",
      "\n"
     ]
    },
    {
     "name": "stdin",
     "output_type": "stream",
     "text": [
      "Select menu: \n",
      "    1) check stock \n",
      "    2) warehousing \n",
      "    3) release \n",
      "    4) exit \n",
      "\n",
      "    \n",
      "     2\n"
     ]
    },
    {
     "name": "stdout",
     "output_type": "stream",
     "text": [
      "{'Coffee': 7, 'Pen': 3, 'Paper cup': 2, 'Milk': 1, 'Coke': 4, 'Book': 5}\n",
      "\n"
     ]
    },
    {
     "name": "stdin",
     "output_type": "stream",
     "text": [
      "[Warehousing] Enter item and quantity separated by a space:  Pen 3\n"
     ]
    },
    {
     "name": "stdout",
     "output_type": "stream",
     "text": [
      "The stock of  Pen now has 6 units\n",
      "\n"
     ]
    },
    {
     "name": "stdin",
     "output_type": "stream",
     "text": [
      "Select menu: \n",
      "    1) check stock \n",
      "    2) warehousing \n",
      "    3) release \n",
      "    4) exit \n",
      "\n",
      "    \n",
      "     4\n"
     ]
    },
    {
     "name": "stdout",
     "output_type": "stream",
     "text": [
      "{'Coffee': 7, 'Pen': 6, 'Paper cup': 2, 'Milk': 1, 'Coke': 4, 'Book': 5}\n",
      "\n",
      "\n",
      "Program exited.\n"
     ]
    }
   ],
   "source": [
    "# Chapter 2, Unit 14, Pair programming Q1\n",
    "items = {\"Coffee\": 7, \"Pen\":3, \"Paper cup\": 2, \"Milk\": 1, \"Coke\": 4, \"Book\":5}\n",
    "\n",
    "menu = 0\n",
    "\n",
    "\n",
    "while(menu!=4):\n",
    "    menu = int(input(\"\"\"Select menu: \n",
    "    1) check stock \n",
    "    2) warehousing \n",
    "    3) release \n",
    "    4) exit \n",
    "\n",
    "    \n",
    "    \"\"\"))\n",
    "    print(items)\n",
    "    print()\n",
    "\n",
    "    if(menu==1):\n",
    "        # Check Stock\n",
    "        stock = input(\"[check stock] Enter item:\")\n",
    "        if stock in items:\n",
    "            print(\"The item\", stock, \"has\", items[stock], \"units.\")\n",
    "        else:\n",
    "            print(\"We do not have the item\", item)\n",
    "        \n",
    "    elif(menu==2):\n",
    "        # Warehousing\n",
    "        warehousing = input(\"[Warehousing] Enter item and quantity separated by a space: \")\n",
    "        item2, quantity2 = warehousing.split()\n",
    "        quantity2 = int(quantity2)\n",
    "        if item2 in items:\n",
    "            items[item2]+=quantity2\n",
    "            print(\"The stock of \", item2, \"now has\", items[item2], \"units\")\n",
    "        else:\n",
    "            print(\"We do not have the item\", item)\n",
    "    elif(menu==3):\n",
    "        # Release\n",
    "        release = input(\"[release] Enter item and quantity separated by a space: \")\n",
    "        item, quantity = release.split()\n",
    "        quantity = int(quantity)\n",
    "        if item in items:\n",
    "            if items[item]<quantity: \n",
    "                print(\"There is not enought quantity of the prododut\", item)\n",
    "            else:\n",
    "                items[item]-=quantity\n",
    "                print(\"The stock of \", item, \"now has\", items[item], \"units\")\n",
    "        else: \n",
    "            print(\"We do not have the item\", item)\n",
    "    elif(menu==4):\n",
    "        pass\n",
    "        \n",
    "    else:\n",
    "        print(\"Please select a correct option of the menu.\")\n",
    "    print()\n",
    "\n",
    "print(\"Program exited.\")\n"
   ]
  },
  {
   "cell_type": "code",
   "execution_count": 74,
   "id": "69070dd0-0d57-45ac-bc71-b714d58929af",
   "metadata": {},
   "outputs": [
    {
     "name": "stdout",
     "output_type": "stream",
     "text": [
      "{'a': 100, 'b': 200}\n",
      "defaultdict(<class 'int'>, {})\n"
     ]
    }
   ],
   "source": [
    "# Pruebas\n",
    "from collections import defaultdict\n",
    "\n",
    "d = {'a':100, 'b':200}\n",
    "print(d)\n",
    "d = defaultdict(int)\n",
    "print(d)"
   ]
  },
  {
   "cell_type": "code",
   "execution_count": 80,
   "id": "e843afea-3a36-447a-90f5-499bcaa117c2",
   "metadata": {},
   "outputs": [
    {
     "name": "stdout",
     "output_type": "stream",
     "text": [
      "('211101', 'David Doe', '010-1234-4500')\n",
      "('211102', 'John Smith', '010-2230-6540')\n",
      "('211103', 'Jane Carter', '010-3232-7788')\n",
      "['211101', '211102', '211103']\n",
      "{'211101': None, '211102': None, '211103': None}\n"
     ]
    }
   ],
   "source": [
    "# Chapter 2, Unit 15, Paper coding Q1, Versión Lucía sin terminar\n",
    "\n",
    "student_tup = (('211101', 'David Doe', '010-1234-4500'), ('211102', 'John Smith', '010-2230-6540'), ('211103', 'Jane Carter', '010-3232-7788'))\n",
    "diccionario = {}\n",
    "keys = []\n",
    "\n",
    "\n",
    "for dic in student_tup:\n",
    "    print(dic)\n",
    "    keys.append(dic[0])\n",
    "print(keys)\n",
    "\n",
    "diccionario=dict.fromkeys(keys)\n",
    "for dic in diccionario.items():\n",
    "    \n",
    "\n",
    "print(diccionario)\n"
   ]
  },
  {
   "cell_type": "code",
   "execution_count": 85,
   "id": "91658f0c-52da-4c63-8224-c5adb83c07cc",
   "metadata": {},
   "outputs": [
    {
     "name": "stdout",
     "output_type": "stream",
     "text": [
      "(('211101', 'David Doe', '010-1234-4500'), ('211102', 'John Smith', '010-2230-6540'), ('211103', 'Jane Carter', '010-3232-7788'))\n",
      "{'211101': ['David Doe', '010-1234-4500'], '211102': ['John Smith', '010-2230-6540'], '211103': ['Jane Carter', '010-3232-7788']}\n"
     ]
    },
    {
     "name": "stdin",
     "output_type": "stream",
     "text": [
      "Introduce un código de estudiante. 211101\n"
     ]
    },
    {
     "name": "stdout",
     "output_type": "stream",
     "text": [
      "Nombre: David Doe\n",
      "Tel: 010-1234-4500\n"
     ]
    }
   ],
   "source": [
    "# Chapter 2, Unit 15, Paper coding Q1, Versión profesor\n",
    "tupla_estudiantes = (('211101', 'David Doe', '010-1234-4500'), \n",
    "               ('211102', 'John Smith', '010-2230-6540'), \n",
    "               ('211103', 'Jane Carter', '010-3232-7788'))\n",
    "print(tupla_estudiantes)\n",
    "dic_estudiantes = {}\n",
    "for codigo,nombre,tel in tupla_estudiantes:\n",
    "    dic_estudiantes[codigo] = [nombre,tel]\n",
    "print(dic_estudiantes)\n",
    "\n",
    "# Chapter 2, Unit 15, Paper coding Q2, Versión profesor\n",
    "\n",
    "col_estudiante = input(\"Introduce un código de estudiante.\")\n",
    "info=dic_estudiantes[col_estudiante]\n",
    "print('Nombre:', info[0])\n",
    "print(\"Tel:\", info[1])\n",
    "\n",
    "# Ahora tenemos que hacer una modificación y en vez de que la info del estudiante sea una lista, sea a su vez un diccionario.\n",
    "if cod_estudiante in dic_estudiantes:\n",
    "    print(dic_estudiantes[cod_estudiante])\n",
    "    print(\"Nombre:\", dic_estudiantes[cod_estudiante]['nombre'])\n",
    "    print(\"Telef:\", dic_estudiantes[cod_estuadiante]['tel'])"
   ]
  },
  {
   "cell_type": "code",
   "execution_count": 88,
   "id": "76c42fb3-c8b9-466b-a06e-1c390c4ba211",
   "metadata": {},
   "outputs": [
    {
     "name": "stdout",
     "output_type": "stream",
     "text": [
      "{(3, 2), (1, 2), (3, 4), (1, 4)}\n"
     ]
    }
   ],
   "source": [
    "# Ejercicio profesor\n",
    "\n",
    "A = (1,3)\n",
    "B = (2,4)\n",
    "C = set()\n",
    "\n",
    "\n",
    "for i in A:\n",
    "    for j in B:\n",
    "        C.add((i,j))\n",
    "print(C)"
   ]
  },
  {
   "cell_type": "code",
   "execution_count": 89,
   "id": "bd0a533d-aa4f-40ab-97e3-ab4a0d626250",
   "metadata": {},
   "outputs": [
    {
     "name": "stdout",
     "output_type": "stream",
     "text": [
      "{'banana', 'apple', 'mango'}\n"
     ]
    }
   ],
   "source": [
    "# Chapter 2, Unit 16, Paper coding Q1\n",
    "lst = ['apple', 'mango', 'banana']  \n",
    "\n",
    "s1 = set(lst)\n",
    "print(s1)\n",
    "\n"
   ]
  },
  {
   "cell_type": "code",
   "execution_count": null,
   "id": "6ffed78d-9fe4-462b-985a-267233d80da4",
   "metadata": {},
   "outputs": [],
   "source": [
    "# Chapter 2, Unit 16, Paper coding Q2\n",
    "\n",
    "s1 = {10, 20, 30, 40}\n",
    "s2 = {30, 40, 50, 60, 70}\n",
    "\n",
    "# 1) Unión de s1 y s2\n",
    "union = s1 | s2\n",
    "print(\"Unión:\", union)  # {10, 20, 30, 40, 50, 60, 70}\n",
    "\n",
    "# 2) Intersección de s1 y s2\n",
    "interseccion = s1 & s2\n",
    "print(\"Intersección:\", interseccion)  # {30, 40}\n",
    "\n",
    "# 3) Diferencia de s1 y s2\n",
    "diferencia = s1 - s2\n",
    "print(\"Diferencia:\", diferencia)  # {10, 20}\n",
    "\n",
    "# 4) Diferencia simétrica de s1 y s2. Todos aquellos elementos que no tiene en comun\n",
    "diferencia_simetrica = s1 ^ s2\n",
    "print(\"Diferencia simétrica:\", diferencia_simetrica)  # {10, 20, 50, 60, 70}\n",
    "\n",
    "# 5) Comprobar si s1 es un subconjunto de s2\n",
    "es_subconjunto = s1.issubset(s2)\n",
    "print(\"s1 es subconjunto de s2:\", es_subconjunto)  # False\n",
    "\n",
    "# 6) Comprobar si s1 es un superconjunto de s2\n",
    "es_superconjunto = s1.issuperset(s2)\n",
    "print(\"s1 es superconjunto de s2:\", es_superconjunto)  # False\n",
    "\n",
    "# 7) Comprobar si s1 y s2 son conjuntos disjuntos\n",
    "son_disjuntos = s1.isdisjoint(s2)\n",
    "print(\"s1 y s2 son disjuntos:\", son_disjuntos)  # False\n"
   ]
  },
  {
   "cell_type": "code",
   "execution_count": 94,
   "id": "dd4bf21d-5693-4bce-b2bc-c89f1bf32716",
   "metadata": {},
   "outputs": [
    {
     "name": "stdin",
     "output_type": "stream",
     "text": [
      "Número 1 10\n",
      "Número 2 20\n"
     ]
    },
    {
     "name": "stdout",
     "output_type": "stream",
     "text": [
      "Divisores del primer número: {1, 4, 5}\n",
      "Divisores del segundo número: {1, 2, 4, 5, 10}\n",
      "El máximo común divisor de 10 y 20 es 5\n"
     ]
    }
   ],
   "source": [
    "# Ejercicio clase, sacar el máximo común divisor de dos números. \n",
    "\n",
    "n1 = int(input(\"Número 1\"))\n",
    "n2 = int(input(\"Número 2\"))\n",
    "d1 = set()\n",
    "d2 = set()\n",
    "\n",
    "# Sacar los divisores de cada número\n",
    "for i in range(1,n1+1):\n",
    "    if n1 & i == 0:\n",
    "        d1.add(i)\n",
    "for j in range(1,n2+1):\n",
    "    if n2 % j == 0:\n",
    "        d2.add(j)\n",
    "\n",
    "# Sacar el máximo común divisor\n",
    "print(\"Divisores del primer número:\",d1)\n",
    "print(\"Divisores del segundo número:\",d2)\n",
    "d3 = max(d1 & d2)\n",
    "print(\"El máximo común divisor de\",n1, \"y\", n2, \"es\", d3)"
   ]
  },
  {
   "cell_type": "code",
   "execution_count": null,
   "id": "db7cf2e0-3713-4b3b-83ae-5adab9633dbf",
   "metadata": {},
   "outputs": [],
   "source": [
    "# Ejercicio clase, sacar el máximo común divisor de dos números. \n",
    "\n",
    "n1 = int(input(\"Número 1\"))\n",
    "n2 = int(input(\"Número 2\"))\n",
    "d1 = {i for i in range(1,n1+1) if n1%1==0}\n",
    "d2 = {i for i in range(1,n2+1) if n2%1==0}\n",
    "\n",
    "nums_comunes = set_num1&set_num2\n",
    "greatest = max(nums_comunes)\n",
    "\n",
    "print(f\"El máximo común divisor es {greatest}\")"
   ]
  },
  {
   "cell_type": "code",
   "execution_count": 17,
   "id": "9f02509f-6b81-430e-b7ed-fc57eb5a6998",
   "metadata": {},
   "outputs": [
    {
     "name": "stdin",
     "output_type": "stream",
     "text": [
      "Enter two integers: 6 7\n"
     ]
    },
    {
     "name": "stdout",
     "output_type": "stream",
     "text": [
      "No está (6, 7) ni (7, 6)\n"
     ]
    }
   ],
   "source": [
    "# Chapter 2, Unit 16, Pair programming Q1\n",
    "mylist= [(1,2),(4,5),(4,2),(3,1),(9,4)]\n",
    "n1,n2 = input(\"Enter two integers:\").split(\" \")\n",
    "n1,n2 = int(n1),int(n2)\n",
    "\n",
    "if (n1,n2) in mylist:\n",
    "    pos = mylist.index((n1,n2))\n",
    "    print(\"El elemento\", (n1,n2), \"está en la posición\", pos+1)\n",
    "elif (n2,n1) in mylist:\n",
    "    pos = mylist.index((n2 , n1))\n",
    "    print(\"El elemento\", (n2,n1), \"está en la posición\", pos+1)\n",
    "else:\n",
    "    print(\"No está\", (n1,n2), \"ni\", (n2,n1))"
   ]
  },
  {
   "cell_type": "code",
   "execution_count": null,
   "id": "fd78c8ad-80f6-4a66-8a04-31228b1587a8",
   "metadata": {},
   "outputs": [],
   "source": []
  }
 ],
 "metadata": {
  "kernelspec": {
   "display_name": "Python 3 (ipykernel)",
   "language": "python",
   "name": "python3"
  },
  "language_info": {
   "codemirror_mode": {
    "name": "ipython",
    "version": 3
   },
   "file_extension": ".py",
   "mimetype": "text/x-python",
   "name": "python",
   "nbconvert_exporter": "python",
   "pygments_lexer": "ipython3",
   "version": "3.11.7"
  }
 },
 "nbformat": 4,
 "nbformat_minor": 5
}
