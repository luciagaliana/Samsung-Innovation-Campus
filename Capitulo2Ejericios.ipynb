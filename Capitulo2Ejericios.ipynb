{
 "cells": [
  {
   "cell_type": "code",
   "execution_count": 2,
   "id": "147b6c07-132c-47cc-9f56-240276f495f9",
   "metadata": {},
   "outputs": [
    {
     "data": {
      "text/plain": [
       "2"
      ]
     },
     "execution_count": 2,
     "metadata": {},
     "output_type": "execute_result"
    }
   ],
   "source": [
    "# Chapter 2, Unit 10, Paper coding Q1\n",
    "\n",
    "prime = [2,3,5,7]\n",
    "\n",
    "prime[0]"
   ]
  },
  {
   "cell_type": "code",
   "execution_count": 4,
   "id": "1e0077e3-0837-49fa-9737-196650031b06",
   "metadata": {},
   "outputs": [
    {
     "name": "stdout",
     "output_type": "stream",
     "text": [
      "[2, 3, 5, 7, 11]\n"
     ]
    }
   ],
   "source": [
    "# Chapter 2, Unit 10, Paper coding Q2\n",
    "\n",
    "prime = [2,3,5,7]\n",
    "\n",
    "prime.append(11)\n",
    "print(prime)"
   ]
  },
  {
   "cell_type": "code",
   "execution_count": 6,
   "id": "70c27ddf-e3c7-4aa1-9b5e-72c00d7a7ee1",
   "metadata": {},
   "outputs": [
    {
     "name": "stdout",
     "output_type": "stream",
     "text": [
      "3 * 2 = 6\n",
      "3 * 3 = 9\n",
      "3 * 4 = 12\n",
      "3 * 5 = 15\n",
      "3 * 6 = 18\n",
      "5 * 2 = 10\n",
      "5 * 3 = 15\n",
      "5 * 4 = 20\n",
      "5 * 5 = 25\n",
      "5 * 6 = 30\n",
      "7 * 2 = 14\n",
      "7 * 3 = 21\n",
      "7 * 4 = 28\n",
      "7 * 5 = 35\n",
      "7 * 6 = 42\n"
     ]
    }
   ],
   "source": [
    "# Chapter 2, Unit 10, Paper coding Q3\n",
    "\n",
    "list1=[3,5,7]\n",
    "list2=[2,3,4,5,6]\n",
    "\n",
    "for n in list1:\n",
    "    for n2 in list2:\n",
    "        print(n, \"x\", n2, \"=\", n*n2)"
   ]
  },
  {
   "cell_type": "code",
   "execution_count": 8,
   "id": "a320dfe5-d611-488e-9cb7-24dbaa2e37c1",
   "metadata": {},
   "outputs": [
    {
     "name": "stdout",
     "output_type": "stream",
     "text": [
      "\n"
     ]
    }
   ],
   "source": [
    "# Chapter 2, Unit 10, Pair programming Q1\n",
    "\n",
    "a_list = ['abc', 'bcd', 'bcdefg', 'abba', 'cddc', 'opq']\n",
    "\n",
    "word = a_list[0]\n",
    "\n",
    "for w in a_list[0]:\n",
    "    if len(w) < len(word):\n",
    "        word=w\n",
    "print(word)\n"
   ]
  },
  {
   "cell_type": "code",
   "execution_count": 6,
   "id": "d47f939f-5a6e-4802-b47e-6b955789f033",
   "metadata": {},
   "outputs": [
    {
     "name": "stdout",
     "output_type": "stream",
     "text": [
      "bcdefg\n"
     ]
    }
   ],
   "source": [
    "# Chapter 2, Unit 10, Pair programming Q2\n",
    "\n",
    "a_list = ['abc', 'bcd', 'bcdefg', 'abba', 'cddc', 'opq']\n",
    "\n",
    "word = a_list[0]\n",
    "\n",
    "for w in a_list:\n",
    "    if len(w) > len(word):\n",
    "        word=w\n",
    "print(word)\n",
    "\n"
   ]
  },
  {
   "cell_type": "code",
   "execution_count": 15,
   "id": "5e24b79e-9042-442f-b9a9-4502a4ba073b",
   "metadata": {},
   "outputs": [
    {
     "name": "stdout",
     "output_type": "stream",
     "text": [
      "The shortest strings:  ['abc', 'abc', 'opq']\n"
     ]
    }
   ],
   "source": [
    "# Chapter 2, Unit 10, Pair programming Q2\n",
    "\n",
    "a_list = ['abc', 'bcd', 'bcdefg', 'abba', 'cddc', 'opq']\n",
    "\n",
    "b_list=[]\n",
    "\n",
    "\n",
    "for a in a_list:\n",
    "    if len(b_list) == 0: b_list.append(a)\n",
    "    else:\n",
    "        word = b_list.pop()\n",
    "        if len(a) < len(word): \n",
    "            b_list.append(a) \n",
    "        elif len(a) == len(word): \n",
    "            b_list.append(word)\n",
    "            b_list.append(a)\n",
    "        else:\n",
    "            b_list.append(word)\n",
    "\n",
    "print(\"The shortest strings: \", b_list)\n",
    "\n"
   ]
  },
  {
   "cell_type": "code",
   "execution_count": null,
   "id": "f17fad5b-1c3d-429b-be85-7e6e0555315f",
   "metadata": {},
   "outputs": [],
   "source": []
  }
 ],
 "metadata": {
  "kernelspec": {
   "display_name": "Python 3 (ipykernel)",
   "language": "python",
   "name": "python3"
  },
  "language_info": {
   "codemirror_mode": {
    "name": "ipython",
    "version": 3
   },
   "file_extension": ".py",
   "mimetype": "text/x-python",
   "name": "python",
   "nbconvert_exporter": "python",
   "pygments_lexer": "ipython3",
   "version": "3.8.19"
  }
 },
 "nbformat": 4,
 "nbformat_minor": 5
}
