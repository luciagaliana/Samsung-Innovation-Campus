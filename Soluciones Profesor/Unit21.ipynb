{
 "cells": [
  {
   "cell_type": "code",
   "execution_count": 1,
   "id": "7b0ef592-869f-4696-82eb-5f04606bfd36",
   "metadata": {},
   "outputs": [
    {
     "data": {
      "text/plain": [
       "'TIGER'"
      ]
     },
     "execution_count": 1,
     "metadata": {},
     "output_type": "execute_result"
    }
   ],
   "source": [
    "tigre = \"tiger\"\n",
    "tigre.upper()"
   ]
  },
  {
   "cell_type": "code",
   "execution_count": 2,
   "id": "313d07c6-e26e-4666-8eac-ee46764fa94f",
   "metadata": {},
   "outputs": [],
   "source": [
    "animals = [\"tiger\", \"cat\", \"dog\"]"
   ]
  },
  {
   "cell_type": "code",
   "execution_count": 3,
   "id": "d42d3723-8ecd-494a-bdca-0dc062368564",
   "metadata": {},
   "outputs": [
    {
     "data": {
      "text/plain": [
       "1283160737856"
      ]
     },
     "execution_count": 3,
     "metadata": {},
     "output_type": "execute_result"
    }
   ],
   "source": [
    "id(animals)"
   ]
  },
  {
   "cell_type": "code",
   "execution_count": 4,
   "id": "53f53877-8ce7-47fa-91fc-9e4b0bd13079",
   "metadata": {},
   "outputs": [
    {
     "data": {
      "text/plain": [
       "1283160737856"
      ]
     },
     "execution_count": 4,
     "metadata": {},
     "output_type": "execute_result"
    }
   ],
   "source": [
    "other = animals\n",
    "id(other)"
   ]
  },
  {
   "cell_type": "code",
   "execution_count": 5,
   "id": "3b45a000-f12a-46e4-a94c-d7903ef39361",
   "metadata": {},
   "outputs": [],
   "source": [
    "animals2 = [\"tiger\", \"cat\", \"dog\"]"
   ]
  },
  {
   "cell_type": "code",
   "execution_count": 6,
   "id": "52db86f3-bd76-4cf1-a4d4-9a4bc054fd46",
   "metadata": {},
   "outputs": [
    {
     "data": {
      "text/plain": [
       "1283160655872"
      ]
     },
     "execution_count": 6,
     "metadata": {},
     "output_type": "execute_result"
    }
   ],
   "source": [
    "id(animals2)"
   ]
  },
  {
   "cell_type": "code",
   "execution_count": 7,
   "id": "b1382d9e-b5c7-494d-bc5a-392b9e558a8f",
   "metadata": {},
   "outputs": [
    {
     "data": {
      "text/plain": [
       "['__add__',\n",
       " '__class__',\n",
       " '__contains__',\n",
       " '__delattr__',\n",
       " '__dir__',\n",
       " '__doc__',\n",
       " '__eq__',\n",
       " '__format__',\n",
       " '__ge__',\n",
       " '__getattribute__',\n",
       " '__getitem__',\n",
       " '__getnewargs__',\n",
       " '__gt__',\n",
       " '__hash__',\n",
       " '__init__',\n",
       " '__init_subclass__',\n",
       " '__iter__',\n",
       " '__le__',\n",
       " '__len__',\n",
       " '__lt__',\n",
       " '__mod__',\n",
       " '__mul__',\n",
       " '__ne__',\n",
       " '__new__',\n",
       " '__reduce__',\n",
       " '__reduce_ex__',\n",
       " '__repr__',\n",
       " '__rmod__',\n",
       " '__rmul__',\n",
       " '__setattr__',\n",
       " '__sizeof__',\n",
       " '__str__',\n",
       " '__subclasshook__',\n",
       " 'capitalize',\n",
       " 'casefold',\n",
       " 'center',\n",
       " 'count',\n",
       " 'encode',\n",
       " 'endswith',\n",
       " 'expandtabs',\n",
       " 'find',\n",
       " 'format',\n",
       " 'format_map',\n",
       " 'index',\n",
       " 'isalnum',\n",
       " 'isalpha',\n",
       " 'isascii',\n",
       " 'isdecimal',\n",
       " 'isdigit',\n",
       " 'isidentifier',\n",
       " 'islower',\n",
       " 'isnumeric',\n",
       " 'isprintable',\n",
       " 'isspace',\n",
       " 'istitle',\n",
       " 'isupper',\n",
       " 'join',\n",
       " 'ljust',\n",
       " 'lower',\n",
       " 'lstrip',\n",
       " 'maketrans',\n",
       " 'partition',\n",
       " 'replace',\n",
       " 'rfind',\n",
       " 'rindex',\n",
       " 'rjust',\n",
       " 'rpartition',\n",
       " 'rsplit',\n",
       " 'rstrip',\n",
       " 'split',\n",
       " 'splitlines',\n",
       " 'startswith',\n",
       " 'strip',\n",
       " 'swapcase',\n",
       " 'title',\n",
       " 'translate',\n",
       " 'upper',\n",
       " 'zfill']"
      ]
     },
     "execution_count": 7,
     "metadata": {},
     "output_type": "execute_result"
    }
   ],
   "source": [
    "dir(\"\")"
   ]
  },
  {
   "cell_type": "code",
   "execution_count": 8,
   "id": "9c52802a-d473-4311-87f2-1cf70a494cc2",
   "metadata": {},
   "outputs": [],
   "source": [
    "class Cat:\n",
    "    def meow(self):\n",
    "        print(\"Miau miau...\")\n",
    "\n",
    "gato1 = Cat()"
   ]
  },
  {
   "cell_type": "code",
   "execution_count": 9,
   "id": "12f747f8-c69c-47c9-84db-de7445cba35a",
   "metadata": {},
   "outputs": [],
   "source": [
    "gato2 = Cat()"
   ]
  },
  {
   "cell_type": "code",
   "execution_count": 10,
   "id": "c8333bad-172a-498f-af59-61f15172418c",
   "metadata": {},
   "outputs": [
    {
     "name": "stdout",
     "output_type": "stream",
     "text": [
      "<__main__.Cat object at 0x0000012AC253E460>\n"
     ]
    }
   ],
   "source": [
    "print(gato1)"
   ]
  },
  {
   "cell_type": "code",
   "execution_count": 11,
   "id": "032293a7-a819-459e-ba63-cd8ba1620419",
   "metadata": {},
   "outputs": [
    {
     "name": "stdout",
     "output_type": "stream",
     "text": [
      "Miau miau...\n"
     ]
    }
   ],
   "source": [
    "gato1.meow()"
   ]
  },
  {
   "cell_type": "code",
   "execution_count": 12,
   "id": "c6ab96a0-478a-4be3-a2d7-a848599885a8",
   "metadata": {},
   "outputs": [
    {
     "name": "stdout",
     "output_type": "stream",
     "text": [
      "Miau miau...\n"
     ]
    }
   ],
   "source": [
    "gato2.meow()"
   ]
  },
  {
   "cell_type": "code",
   "execution_count": 14,
   "id": "dd36a782-bb00-4236-991a-59311486bd8a",
   "metadata": {},
   "outputs": [],
   "source": [
    "class Cat:\n",
    "    def __init__(self, name, color, edad):\n",
    "        self.nombre = name\n",
    "        self.color = color\n",
    "        self.edad = edad\n",
    "    def meow(self):\n",
    "        print(\"Miau miau...\")\n",
    "\n",
    "gato1 = Cat(\"misifu\", \"verde\", 12)"
   ]
  },
  {
   "cell_type": "code",
   "execution_count": 15,
   "id": "83619935-4a87-45da-ab9d-eec4291ba6a7",
   "metadata": {},
   "outputs": [
    {
     "name": "stdout",
     "output_type": "stream",
     "text": [
      "Miau miau...\n"
     ]
    }
   ],
   "source": [
    "gato1.meow()"
   ]
  },
  {
   "cell_type": "code",
   "execution_count": 16,
   "id": "e83298fb-07b8-4350-b55b-ef68815390a5",
   "metadata": {},
   "outputs": [
    {
     "data": {
      "text/plain": [
       "'misifu'"
      ]
     },
     "execution_count": 16,
     "metadata": {},
     "output_type": "execute_result"
    }
   ],
   "source": [
    "gato1.nombre"
   ]
  },
  {
   "cell_type": "code",
   "execution_count": 17,
   "id": "5fc1e417-b3b8-4157-bece-e8cca743a3b7",
   "metadata": {},
   "outputs": [
    {
     "ename": "AttributeError",
     "evalue": "'Cat' object has no attribute 'dueño'",
     "output_type": "error",
     "traceback": [
      "\u001b[1;31m---------------------------------------------------------------------------\u001b[0m",
      "\u001b[1;31mAttributeError\u001b[0m                            Traceback (most recent call last)",
      "Cell \u001b[1;32mIn[17], line 1\u001b[0m\n\u001b[1;32m----> 1\u001b[0m \u001b[43mgato1\u001b[49m\u001b[38;5;241;43m.\u001b[39;49m\u001b[43mdueño\u001b[49m\n",
      "\u001b[1;31mAttributeError\u001b[0m: 'Cat' object has no attribute 'dueño'"
     ]
    }
   ],
   "source": [
    "gato1.dueño"
   ]
  },
  {
   "cell_type": "code",
   "execution_count": 18,
   "id": "fde2e837-4b32-4a46-a0f7-94d40d79b24d",
   "metadata": {},
   "outputs": [
    {
     "data": {
      "text/plain": [
       "'verde'"
      ]
     },
     "execution_count": 18,
     "metadata": {},
     "output_type": "execute_result"
    }
   ],
   "source": [
    "gato1.color"
   ]
  },
  {
   "cell_type": "code",
   "execution_count": 19,
   "id": "a8b793ac-ef14-4730-bb1c-f2624e834f53",
   "metadata": {},
   "outputs": [
    {
     "data": {
      "text/plain": [
       "12"
      ]
     },
     "execution_count": 19,
     "metadata": {},
     "output_type": "execute_result"
    }
   ],
   "source": [
    "gato1.edad"
   ]
  },
  {
   "cell_type": "code",
   "execution_count": 51,
   "id": "c61e9e68-ec0e-45ca-aeac-017498477965",
   "metadata": {},
   "outputs": [],
   "source": [
    "class Perro:\n",
    "    razas = {\n",
    "            \"chiguagua\": 15,\n",
    "            \"pastor aleman\": 20,\n",
    "            \"salchicha\": 12\n",
    "        }\n",
    "    def __init__(self, nombre, raza, edad):\n",
    "        self.nombre = nombre\n",
    "        self.raza = raza\n",
    "        self.edad = edad\n",
    "\n",
    "\n",
    "    def tiempo_para_estirar_la_pata(self):\n",
    "        edad_max = Perro.razas[self.raza]\n",
    "        return edad_max - self.edad\n",
    "\n",
    "    def edad_maxima(self):\n",
    "        return Perro.razas[self.raza]\n",
    "\n",
    "    def __str__(self):\n",
    "        return f\"\"\"Soy un perro llamado {self.nombre}, de la raza {self.raza} y tengo {self.edad} años\n",
    "        y me quedan {self.tiempo_para_estirar_la_pata()} años de vida.\"\"\"\n",
    "\n",
    "\n",
    "perro1 = Perro(\"Bobby\", \"pastor aleman\", 3)\n"
   ]
  },
  {
   "cell_type": "code",
   "execution_count": 52,
   "id": "5d0f8778-3e3a-4673-ad78-0f55be691982",
   "metadata": {},
   "outputs": [
    {
     "data": {
      "text/plain": [
       "'Bobby'"
      ]
     },
     "execution_count": 52,
     "metadata": {},
     "output_type": "execute_result"
    }
   ],
   "source": [
    "perro1.nombre"
   ]
  },
  {
   "cell_type": "code",
   "execution_count": 53,
   "id": "1ba71f28-22d8-4aa9-9526-25025af2fea0",
   "metadata": {},
   "outputs": [
    {
     "data": {
      "text/plain": [
       "17"
      ]
     },
     "execution_count": 53,
     "metadata": {},
     "output_type": "execute_result"
    }
   ],
   "source": [
    "perro1.tiempo_para_estirar_la_pata()"
   ]
  },
  {
   "cell_type": "code",
   "execution_count": 54,
   "id": "378dfad9-1ce8-4b7a-946e-948471215648",
   "metadata": {},
   "outputs": [
    {
     "data": {
      "text/plain": [
       "20"
      ]
     },
     "execution_count": 54,
     "metadata": {},
     "output_type": "execute_result"
    }
   ],
   "source": [
    "perro1.edad_maxima()"
   ]
  },
  {
   "cell_type": "code",
   "execution_count": 55,
   "id": "2971711c-ab3a-4ea7-a928-76ae79eef9c4",
   "metadata": {},
   "outputs": [
    {
     "name": "stdout",
     "output_type": "stream",
     "text": [
      "Soy un perro llamado Bobby, de la raza pastor aleman y tengo 3 años\n",
      "        y me quedan 17 años de vida.\n"
     ]
    }
   ],
   "source": [
    "print(perro1)"
   ]
  },
  {
   "cell_type": "code",
   "execution_count": 56,
   "id": "d56b7ddb-8cc7-4bd4-bf91-2e1185e241b0",
   "metadata": {},
   "outputs": [
    {
     "data": {
      "text/plain": [
       "'Bobby'"
      ]
     },
     "execution_count": 56,
     "metadata": {},
     "output_type": "execute_result"
    }
   ],
   "source": [
    "perro1.nombre"
   ]
  },
  {
   "cell_type": "code",
   "execution_count": 57,
   "id": "f1975c40-7b66-415b-8584-d6b32eb29a48",
   "metadata": {},
   "outputs": [],
   "source": [
    "perro1.nombre = \"Max\""
   ]
  },
  {
   "cell_type": "code",
   "execution_count": 58,
   "id": "38b0cf94-afa0-489b-ae3c-6e991c030a94",
   "metadata": {},
   "outputs": [
    {
     "data": {
      "text/plain": [
       "'Max'"
      ]
     },
     "execution_count": 58,
     "metadata": {},
     "output_type": "execute_result"
    }
   ],
   "source": [
    "perro1.nombre"
   ]
  },
  {
   "cell_type": "code",
   "execution_count": 59,
   "id": "331582d7-e99a-44b7-950a-fa3e0ad2254b",
   "metadata": {},
   "outputs": [
    {
     "name": "stdout",
     "output_type": "stream",
     "text": [
      "Soy un perro llamado Max, de la raza pastor aleman y tengo 3 años\n",
      "        y me quedan 17 años de vida.\n"
     ]
    }
   ],
   "source": [
    "print(perro1)"
   ]
  },
  {
   "cell_type": "code",
   "execution_count": 43,
   "id": "d2ec9112-3fc7-4b50-9ef7-205406703b4b",
   "metadata": {},
   "outputs": [],
   "source": [
    "class Circle:\n",
    "    def __init__(self, name, radius, PI):\n",
    "        self.__name = name\n",
    "        self.__radius = radius\n",
    "        self.__PI = PI\n",
    "\n",
    "    def area(self):\n",
    "        return self.__PI * self.__radius ** 2\n",
    "\n",
    "    "
   ]
  },
  {
   "cell_type": "code",
   "execution_count": 44,
   "id": "79b4e6f6-6e4f-43ae-a25e-9df4dc255d58",
   "metadata": {},
   "outputs": [],
   "source": [
    "c1 = Circle(\"c1\", 3, 3.14)"
   ]
  },
  {
   "cell_type": "code",
   "execution_count": 46,
   "id": "d6ec9146-6be1-4132-93a0-c877b21108aa",
   "metadata": {},
   "outputs": [
    {
     "ename": "AttributeError",
     "evalue": "'Circle' object has no attribute '__name'",
     "output_type": "error",
     "traceback": [
      "\u001b[1;31m---------------------------------------------------------------------------\u001b[0m",
      "\u001b[1;31mAttributeError\u001b[0m                            Traceback (most recent call last)",
      "Cell \u001b[1;32mIn[46], line 1\u001b[0m\n\u001b[1;32m----> 1\u001b[0m \u001b[43mc1\u001b[49m\u001b[38;5;241;43m.\u001b[39;49m\u001b[43m__name\u001b[49m\n",
      "\u001b[1;31mAttributeError\u001b[0m: 'Circle' object has no attribute '__name'"
     ]
    }
   ],
   "source": [
    "c1.__name"
   ]
  },
  {
   "cell_type": "code",
   "execution_count": 47,
   "id": "670d9bab-4391-40d3-8b96-1b80cb4ed655",
   "metadata": {},
   "outputs": [
    {
     "data": {
      "text/plain": [
       "28.26"
      ]
     },
     "execution_count": 47,
     "metadata": {},
     "output_type": "execute_result"
    }
   ],
   "source": [
    "c1.area()"
   ]
  },
  {
   "cell_type": "code",
   "execution_count": 48,
   "id": "0bbc6487-ac71-4a0f-81ee-d8d55115f40d",
   "metadata": {},
   "outputs": [
    {
     "data": {
      "text/plain": [
       "47527.753500000006"
      ]
     },
     "execution_count": 48,
     "metadata": {},
     "output_type": "execute_result"
    }
   ],
   "source": [
    "c2 = Circle(\"c2\", 123, 3.1415)\n",
    "c2.area()"
   ]
  },
  {
   "cell_type": "code",
   "execution_count": 49,
   "id": "84df0387-fd83-486b-96d3-1905de9638d3",
   "metadata": {},
   "outputs": [],
   "source": [
    "class Circle:\n",
    "    PI = 3.1415\n",
    "    def __init__(self, name, radius):\n",
    "        self.__name = name\n",
    "        self.__radius = radius\n",
    "\n",
    "    def area(self):\n",
    "        return Circle.PI * self.__radius ** 2\n"
   ]
  },
  {
   "cell_type": "code",
   "execution_count": 50,
   "id": "5995cb79-6944-486f-b480-92c6b09b209e",
   "metadata": {},
   "outputs": [
    {
     "data": {
      "text/plain": [
       "32.168960000000006"
      ]
     },
     "execution_count": 50,
     "metadata": {},
     "output_type": "execute_result"
    }
   ],
   "source": [
    "c3 = Circle(\"c3\", 3.2)\n",
    "c3.area()"
   ]
  },
  {
   "cell_type": "code",
   "execution_count": 60,
   "id": "1f689a89-fbdd-47ca-80d5-6c5eefd69bed",
   "metadata": {},
   "outputs": [
    {
     "data": {
      "text/plain": [
       "32.168960000000006"
      ]
     },
     "execution_count": 60,
     "metadata": {},
     "output_type": "execute_result"
    }
   ],
   "source": [
    "c3.area()"
   ]
  },
  {
   "cell_type": "code",
   "execution_count": 62,
   "id": "faaec18d-40e7-4a2d-bfad-4b4492f60cce",
   "metadata": {},
   "outputs": [
    {
     "data": {
      "text/plain": [
       "{'_Circle__name': 'c3', '_Circle__radius': 3.2}"
      ]
     },
     "execution_count": 62,
     "metadata": {},
     "output_type": "execute_result"
    }
   ],
   "source": [
    "c3.__dict__"
   ]
  },
  {
   "cell_type": "code",
   "execution_count": 63,
   "id": "0797d228-ab06-4039-9381-42a1bfdb458f",
   "metadata": {},
   "outputs": [
    {
     "data": {
      "text/plain": [
       "{'nombre': 'Max', 'raza': 'pastor aleman', 'edad': 3}"
      ]
     },
     "execution_count": 63,
     "metadata": {},
     "output_type": "execute_result"
    }
   ],
   "source": [
    "perro1.__dict__"
   ]
  },
  {
   "cell_type": "markdown",
   "id": "96f8e827-5a54-4d1f-8aca-7c8cdf430bd7",
   "metadata": {},
   "source": [
    "## Herencia"
   ]
  },
  {
   "cell_type": "code",
   "execution_count": 69,
   "id": "82a88183-1240-45b8-8b53-1d758028c5f3",
   "metadata": {},
   "outputs": [],
   "source": [
    "class A:\n",
    "    PI = 3.1415\n",
    "\n",
    "class B(A):\n",
    "    PI2 = 1.234\n"
   ]
  },
  {
   "cell_type": "code",
   "execution_count": 70,
   "id": "893efc0e-d8f6-4c26-891c-69fcc17b7545",
   "metadata": {},
   "outputs": [],
   "source": [
    "a = A()"
   ]
  },
  {
   "cell_type": "code",
   "execution_count": 71,
   "id": "1fccb515-526f-49f6-bde5-3921ad1d29b2",
   "metadata": {},
   "outputs": [
    {
     "data": {
      "text/plain": [
       "3.1415"
      ]
     },
     "execution_count": 71,
     "metadata": {},
     "output_type": "execute_result"
    }
   ],
   "source": [
    "a.PI"
   ]
  },
  {
   "cell_type": "code",
   "execution_count": 72,
   "id": "48052a08-81c1-4171-af20-4dc759571695",
   "metadata": {},
   "outputs": [],
   "source": [
    "b = B()"
   ]
  },
  {
   "cell_type": "code",
   "execution_count": 73,
   "id": "0ee5834e-251d-4710-b4f8-c2feb7afca41",
   "metadata": {},
   "outputs": [
    {
     "data": {
      "text/plain": [
       "3.1415"
      ]
     },
     "execution_count": 73,
     "metadata": {},
     "output_type": "execute_result"
    }
   ],
   "source": [
    "b.PI"
   ]
  },
  {
   "cell_type": "code",
   "execution_count": 74,
   "id": "88bd2065-facf-4a7c-8bb4-254a4d4af4da",
   "metadata": {},
   "outputs": [
    {
     "data": {
      "text/plain": [
       "1.234"
      ]
     },
     "execution_count": 74,
     "metadata": {},
     "output_type": "execute_result"
    }
   ],
   "source": [
    "b.PI2"
   ]
  },
  {
   "cell_type": "code",
   "execution_count": 75,
   "id": "f496caf2-d6fc-4202-a291-db98b421fab4",
   "metadata": {},
   "outputs": [
    {
     "ename": "AttributeError",
     "evalue": "'A' object has no attribute 'PI2'",
     "output_type": "error",
     "traceback": [
      "\u001b[1;31m---------------------------------------------------------------------------\u001b[0m",
      "\u001b[1;31mAttributeError\u001b[0m                            Traceback (most recent call last)",
      "Cell \u001b[1;32mIn[75], line 1\u001b[0m\n\u001b[1;32m----> 1\u001b[0m \u001b[43ma\u001b[49m\u001b[38;5;241;43m.\u001b[39;49m\u001b[43mPI2\u001b[49m\n",
      "\u001b[1;31mAttributeError\u001b[0m: 'A' object has no attribute 'PI2'"
     ]
    }
   ],
   "source": [
    "a.PI2"
   ]
  },
  {
   "cell_type": "code",
   "execution_count": 76,
   "id": "f34ccf82-940c-465f-b1ae-75c024d0a7f7",
   "metadata": {},
   "outputs": [],
   "source": [
    "class Dog:\n",
    "    def bark(self):\n",
    "        print(\"Woof woof\")\n"
   ]
  },
  {
   "cell_type": "code",
   "execution_count": 77,
   "id": "d38a0249-248b-4fcd-aaad-b1b093c1dad9",
   "metadata": {},
   "outputs": [
    {
     "name": "stdout",
     "output_type": "stream",
     "text": [
      "Woof woof\n"
     ]
    }
   ],
   "source": [
    "my_dog = Dog()\n",
    "my_dog.bark()"
   ]
  },
  {
   "cell_type": "code",
   "execution_count": 87,
   "id": "58ef699a-3286-4ad9-a064-2e4ccbe63c1d",
   "metadata": {},
   "outputs": [],
   "source": [
    "class Dog:\n",
    "    def __init__(self, name):\n",
    "        self.nombre = name\n",
    "    def bark(self):\n",
    "        print(f\"{self.nombre}: Woof woof\")"
   ]
  },
  {
   "cell_type": "code",
   "execution_count": 88,
   "id": "68be6e75-e9ea-4999-9dec-21e947926d51",
   "metadata": {},
   "outputs": [
    {
     "name": "stdout",
     "output_type": "stream",
     "text": [
      "Bingo: Woof woof\n"
     ]
    },
    {
     "data": {
      "text/plain": [
       "'Bingo'"
      ]
     },
     "execution_count": 88,
     "metadata": {},
     "output_type": "execute_result"
    }
   ],
   "source": [
    "my_dog = Dog(\"Bingo\")\n",
    "my_dog.bark()\n",
    "my_dog.nombre"
   ]
  },
  {
   "cell_type": "code",
   "execution_count": 89,
   "id": "79579b88-c867-46ba-a93f-f50ec2aa1e99",
   "metadata": {},
   "outputs": [
    {
     "name": "stdout",
     "output_type": "stream",
     "text": [
      "Bingo: Woof woof\n",
      "Bingo: None\n"
     ]
    }
   ],
   "source": [
    "print(f\"{my_dog.nombre}: {my_dog.bark()}\")"
   ]
  },
  {
   "cell_type": "code",
   "execution_count": 163,
   "id": "bf87f550-530f-4f64-8121-0b6b17f5b966",
   "metadata": {},
   "outputs": [],
   "source": [
    "class Cat:\n",
    "    def __init__(self, name, age):\n",
    "        self.__name = name\n",
    "        self.__age = age\n",
    "\n",
    "    def __lt__(self, other):\n",
    "        return self.__age < other.__age\n",
    "\n",
    "    def __gt__(self, other):\n",
    "        return self.__age > other.__age\n",
    "\n",
    "    #def __le__\n",
    "\n",
    "    #def __ge__\n",
    "\n",
    "    def get_age(self):\n",
    "        return self.__age\n",
    "\n",
    "    def set_age(self, new_age):\n",
    "        if new_age > 0:\n",
    "            self.__age = new_age\n",
    "        else:\n",
    "            print(\"Edad inválida\")"
   ]
  },
  {
   "cell_type": "code",
   "execution_count": 155,
   "id": "36e97fa9-1354-48f2-bd03-f79d84451cb3",
   "metadata": {},
   "outputs": [],
   "source": [
    "cat1 = Cat(\"misifu\", 4)"
   ]
  },
  {
   "cell_type": "code",
   "execution_count": 156,
   "id": "4eb318b4-de87-4d4d-8c17-673a455da8cb",
   "metadata": {},
   "outputs": [
    {
     "data": {
      "text/plain": [
       "4"
      ]
     },
     "execution_count": 156,
     "metadata": {},
     "output_type": "execute_result"
    }
   ],
   "source": [
    "cat1.get_age()"
   ]
  },
  {
   "cell_type": "code",
   "execution_count": 157,
   "id": "3e256d78-c101-4e37-a117-6d7bdf387f1b",
   "metadata": {},
   "outputs": [],
   "source": [
    "cat2 = Cat(\"Mafalda\", 9)"
   ]
  },
  {
   "cell_type": "code",
   "execution_count": 158,
   "id": "a2544569-1da4-40e6-bf72-30cdd8990e38",
   "metadata": {},
   "outputs": [
    {
     "data": {
      "text/plain": [
       "False"
      ]
     },
     "execution_count": 158,
     "metadata": {},
     "output_type": "execute_result"
    }
   ],
   "source": [
    "cat1 > cat2"
   ]
  },
  {
   "cell_type": "code",
   "execution_count": 159,
   "id": "9d2b4888-1f77-42f9-ac70-9cd9dcde096f",
   "metadata": {},
   "outputs": [
    {
     "data": {
      "text/plain": [
       "True"
      ]
     },
     "execution_count": 159,
     "metadata": {},
     "output_type": "execute_result"
    }
   ],
   "source": [
    "cat1 < cat2"
   ]
  },
  {
   "cell_type": "code",
   "execution_count": 162,
   "id": "e7115f41-1ab0-4199-88b1-aa7b784251d6",
   "metadata": {},
   "outputs": [
    {
     "ename": "TypeError",
     "evalue": "'>=' not supported between instances of 'Cat' and 'Cat'",
     "output_type": "error",
     "traceback": [
      "\u001b[1;31m---------------------------------------------------------------------------\u001b[0m",
      "\u001b[1;31mTypeError\u001b[0m                                 Traceback (most recent call last)",
      "Cell \u001b[1;32mIn[162], line 1\u001b[0m\n\u001b[1;32m----> 1\u001b[0m \u001b[43mcat1\u001b[49m\u001b[43m \u001b[49m\u001b[38;5;241;43m>\u001b[39;49m\u001b[38;5;241;43m=\u001b[39;49m\u001b[43m \u001b[49m\u001b[43mcat2\u001b[49m\n",
      "\u001b[1;31mTypeError\u001b[0m: '>=' not supported between instances of 'Cat' and 'Cat'"
     ]
    }
   ],
   "source": [
    "cat1 >= cat2"
   ]
  },
  {
   "cell_type": "code",
   "execution_count": 114,
   "id": "d43b86fa-df1e-4080-84ff-6332c5ca3ef5",
   "metadata": {},
   "outputs": [],
   "source": [
    "cat1.set_age(7)"
   ]
  },
  {
   "cell_type": "code",
   "execution_count": 115,
   "id": "6b48c38d-4782-495c-8059-8087ce75ab23",
   "metadata": {},
   "outputs": [
    {
     "data": {
      "text/plain": [
       "7"
      ]
     },
     "execution_count": 115,
     "metadata": {},
     "output_type": "execute_result"
    }
   ],
   "source": [
    "cat1.get_age()"
   ]
  },
  {
   "cell_type": "code",
   "execution_count": 116,
   "id": "46aa8602-3dcb-4546-b9d0-73354fd1eaa6",
   "metadata": {},
   "outputs": [
    {
     "name": "stdout",
     "output_type": "stream",
     "text": [
      "Edad inválida\n"
     ]
    }
   ],
   "source": [
    "cat1.set_age(-4)"
   ]
  },
  {
   "cell_type": "code",
   "execution_count": 117,
   "id": "e6d6a438-a849-4b36-94aa-55a6be55fb95",
   "metadata": {},
   "outputs": [
    {
     "data": {
      "text/plain": [
       "7"
      ]
     },
     "execution_count": 117,
     "metadata": {},
     "output_type": "execute_result"
    }
   ],
   "source": [
    "cat1.get_age()"
   ]
  },
  {
   "cell_type": "code",
   "execution_count": 118,
   "id": "29bd6e86-547c-4eab-a1d9-40c76deff180",
   "metadata": {},
   "outputs": [
    {
     "ename": "AttributeError",
     "evalue": "'Cat' object has no attribute 'age'",
     "output_type": "error",
     "traceback": [
      "\u001b[1;31m---------------------------------------------------------------------------\u001b[0m",
      "\u001b[1;31mAttributeError\u001b[0m                            Traceback (most recent call last)",
      "Cell \u001b[1;32mIn[118], line 1\u001b[0m\n\u001b[1;32m----> 1\u001b[0m \u001b[43mcat1\u001b[49m\u001b[38;5;241;43m.\u001b[39;49m\u001b[43mage\u001b[49m\n",
      "\u001b[1;31mAttributeError\u001b[0m: 'Cat' object has no attribute 'age'"
     ]
    }
   ],
   "source": [
    "cat1.age"
   ]
  },
  {
   "cell_type": "code",
   "execution_count": 119,
   "id": "aa6fa12a-d36c-4e57-9768-44db380ea134",
   "metadata": {},
   "outputs": [],
   "source": [
    "cat1.age = -4"
   ]
  },
  {
   "cell_type": "code",
   "execution_count": 120,
   "id": "829d8737-2f3c-4ba5-80e0-989f456283ba",
   "metadata": {},
   "outputs": [
    {
     "data": {
      "text/plain": [
       "7"
      ]
     },
     "execution_count": 120,
     "metadata": {},
     "output_type": "execute_result"
    }
   ],
   "source": [
    "cat1.get_age()"
   ]
  },
  {
   "cell_type": "markdown",
   "id": "782937c7-92cd-4b6a-8919-c01747f55912",
   "metadata": {},
   "source": [
    "# Operadores is y is not"
   ]
  },
  {
   "cell_type": "code",
   "execution_count": 121,
   "id": "d497920f-9f44-43ff-82f7-f0e25c48f02b",
   "metadata": {},
   "outputs": [
    {
     "data": {
      "text/plain": [
       "1283196174976"
      ]
     },
     "execution_count": 121,
     "metadata": {},
     "output_type": "execute_result"
    }
   ],
   "source": [
    "list_a = [10, 20, 30]\n",
    "id(list_a)"
   ]
  },
  {
   "cell_type": "code",
   "execution_count": 122,
   "id": "aba64fea-b777-4379-bbc7-332f7856697c",
   "metadata": {},
   "outputs": [
    {
     "data": {
      "text/plain": [
       "1283159698688"
      ]
     },
     "execution_count": 122,
     "metadata": {},
     "output_type": "execute_result"
    }
   ],
   "source": [
    "list_b = [10, 20, 30]\n",
    "id(list_b)"
   ]
  },
  {
   "cell_type": "code",
   "execution_count": 123,
   "id": "03c19494-3059-4e52-b778-afe9a933638f",
   "metadata": {},
   "outputs": [
    {
     "data": {
      "text/plain": [
       "False"
      ]
     },
     "execution_count": 123,
     "metadata": {},
     "output_type": "execute_result"
    }
   ],
   "source": [
    "list_a is list_b"
   ]
  },
  {
   "cell_type": "code",
   "execution_count": 124,
   "id": "e7bcabf3-3709-4a60-8f6a-587ad50e2229",
   "metadata": {},
   "outputs": [
    {
     "data": {
      "text/plain": [
       "True"
      ]
     },
     "execution_count": 124,
     "metadata": {},
     "output_type": "execute_result"
    }
   ],
   "source": [
    "list_a == list_b"
   ]
  },
  {
   "cell_type": "markdown",
   "id": "b6b43639-83b2-4b7f-b9de-677063ff2ee2",
   "metadata": {},
   "source": [
    "# Sobrecarga de operadores"
   ]
  },
  {
   "cell_type": "code",
   "execution_count": 136,
   "id": "75083939-5468-43dd-99af-ffbcae9f4458",
   "metadata": {},
   "outputs": [],
   "source": [
    "class Vector2D:\n",
    "    def __init__(self, x, y):\n",
    "        self.x = x\n",
    "        self.y = y\n",
    "\n",
    "    def suma(self, other_v):\n",
    "        newx = self.x + other_v.x\n",
    "        newy = self.y + other_v.y\n",
    "        return Vector2D(newx, newy)\n",
    "\n",
    "    def __str__(self):\n",
    "        return f\"({self.x}, {self.y})\"\n"
   ]
  },
  {
   "cell_type": "code",
   "execution_count": 137,
   "id": "bd861b56-1ab8-41b1-a907-b8f6e1e8c169",
   "metadata": {},
   "outputs": [
    {
     "name": "stdout",
     "output_type": "stream",
     "text": [
      "(2, 6)\n"
     ]
    }
   ],
   "source": [
    "v1 = Vector2D(2, 6)\n",
    "print(v1)"
   ]
  },
  {
   "cell_type": "code",
   "execution_count": 138,
   "id": "b6c1fbc5-8f34-4df1-a500-a09106662d3e",
   "metadata": {},
   "outputs": [
    {
     "name": "stdout",
     "output_type": "stream",
     "text": [
      "(4, 8)\n"
     ]
    }
   ],
   "source": [
    "v2 = Vector2D(4,8)\n",
    "print(v2)"
   ]
  },
  {
   "cell_type": "code",
   "execution_count": 139,
   "id": "a53f985f-4863-4205-a6b1-6bbc95f6d0e9",
   "metadata": {},
   "outputs": [
    {
     "ename": "TypeError",
     "evalue": "unsupported operand type(s) for +: 'Vector2D' and 'Vector2D'",
     "output_type": "error",
     "traceback": [
      "\u001b[1;31m---------------------------------------------------------------------------\u001b[0m",
      "\u001b[1;31mTypeError\u001b[0m                                 Traceback (most recent call last)",
      "Cell \u001b[1;32mIn[139], line 1\u001b[0m\n\u001b[1;32m----> 1\u001b[0m \u001b[43mv1\u001b[49m\u001b[43m \u001b[49m\u001b[38;5;241;43m+\u001b[39;49m\u001b[43m \u001b[49m\u001b[43mv2\u001b[49m\n",
      "\u001b[1;31mTypeError\u001b[0m: unsupported operand type(s) for +: 'Vector2D' and 'Vector2D'"
     ]
    }
   ],
   "source": [
    "v1 + v2"
   ]
  },
  {
   "cell_type": "code",
   "execution_count": 140,
   "id": "a59ea68f-46a2-4e3c-94eb-17afd055ad52",
   "metadata": {},
   "outputs": [
    {
     "name": "stdout",
     "output_type": "stream",
     "text": [
      "(6, 14)\n"
     ]
    }
   ],
   "source": [
    "v3 = v1.suma(v2)\n",
    "print(v3)"
   ]
  },
  {
   "cell_type": "code",
   "execution_count": 141,
   "id": "9c9107b8-cf52-4f36-84b3-0f09dfe40860",
   "metadata": {},
   "outputs": [
    {
     "name": "stdout",
     "output_type": "stream",
     "text": [
      "(2, 6) (4, 8)\n"
     ]
    }
   ],
   "source": [
    "print(v1, v2)"
   ]
  },
  {
   "cell_type": "code",
   "execution_count": 11,
   "id": "f9232b8d-9f20-4047-9504-b592986d56ed",
   "metadata": {},
   "outputs": [],
   "source": [
    "class Vector2D:\n",
    "    def __init__(self, x, y):\n",
    "        self.x = x\n",
    "        self.y = y\n",
    "\n",
    "    def __add__(self, other_v):\n",
    "        newx = self.x + other_v.x\n",
    "        newy = self.y + other_v.y\n",
    "        return Vector2D(newx, newy)\n",
    "\n",
    "    def __sub__(self, other_v):\n",
    "        newx = self.x - other_v.x\n",
    "        newy = self.y - other_v.y\n",
    "        return Vector2D(newx, newy)\n",
    "\n",
    "    def __eq__(self, other):\n",
    "        return self.x == other.x and self.y == other.y\n",
    "\n",
    "    def __ne__(self, other):\n",
    "        #return self.x != other.x or self.y != other.y\n",
    "        return not self == other\n",
    "\n",
    "    def __str__(self):\n",
    "        return f\"({self.x}, {self.y})\""
   ]
  },
  {
   "cell_type": "code",
   "execution_count": 4,
   "id": "fcd8204c-b697-4827-8d15-2a1d5950648c",
   "metadata": {},
   "outputs": [
    {
     "name": "stdout",
     "output_type": "stream",
     "text": [
      "(7, 9)\n"
     ]
    }
   ],
   "source": [
    "v1 = Vector2D(4,8)\n",
    "v2 = Vector2D(3,1)\n",
    "v3 = v1 + v2\n",
    "print(v3)"
   ]
  },
  {
   "cell_type": "code",
   "execution_count": 5,
   "id": "3f358ef7-b744-409e-ae11-c88be3f6b2ec",
   "metadata": {},
   "outputs": [
    {
     "name": "stdout",
     "output_type": "stream",
     "text": [
      "(1, 7)\n"
     ]
    }
   ],
   "source": [
    "v4 = v1 - v2\n",
    "print(v4)"
   ]
  },
  {
   "cell_type": "code",
   "execution_count": 6,
   "id": "7f19962c-4e38-4793-bad6-fab9e17c3442",
   "metadata": {},
   "outputs": [],
   "source": [
    "v5 = v1 + v2 + v3 + v4"
   ]
  },
  {
   "cell_type": "code",
   "execution_count": 7,
   "id": "014c89be-8a62-4b2b-aa8a-76c199ffd4cc",
   "metadata": {},
   "outputs": [],
   "source": [
    "v6 = Vector2D(4,8)"
   ]
  },
  {
   "cell_type": "code",
   "execution_count": 8,
   "id": "fd2e8d5a-de42-4b80-a576-72076fc387af",
   "metadata": {},
   "outputs": [
    {
     "data": {
      "text/plain": [
       "True"
      ]
     },
     "execution_count": 8,
     "metadata": {},
     "output_type": "execute_result"
    }
   ],
   "source": [
    "v1 == v6"
   ]
  },
  {
   "cell_type": "code",
   "execution_count": 9,
   "id": "bc77bd5c-fd52-4aca-84f1-b6db3fae7c56",
   "metadata": {},
   "outputs": [
    {
     "data": {
      "text/plain": [
       "False"
      ]
     },
     "execution_count": 9,
     "metadata": {},
     "output_type": "execute_result"
    }
   ],
   "source": [
    "v1 != v6"
   ]
  },
  {
   "cell_type": "code",
   "execution_count": 10,
   "id": "3d0ea395-2765-4ee2-99bb-126f28aa3f33",
   "metadata": {},
   "outputs": [
    {
     "data": {
      "text/plain": [
       "True"
      ]
     },
     "execution_count": 10,
     "metadata": {},
     "output_type": "execute_result"
    }
   ],
   "source": [
    "v1 != v2"
   ]
  },
  {
   "cell_type": "code",
   "execution_count": 49,
   "id": "73fa15a6-9547-494a-b093-6794c0556a4c",
   "metadata": {},
   "outputs": [],
   "source": [
    "class Autobus:\n",
    "    def __init__(self):\n",
    "        self.pasajeros = []\n",
    "\n",
    "    def subir_pasajero(self, nombre):\n",
    "        self.pasajeros.append(nombre)\n",
    "        \n",
    "    def __len__(self):\n",
    "        return len(self.pasajeros)\n",
    "\n",
    "    def __getitem__(self, index):\n",
    "        return self.pasajeros[index]\n",
    "\n",
    "    def get_pasajero(self, index):\n",
    "        return self.pasajeros[index]\n",
    "\n",
    "    def __str__(self):\n",
    "        return f\"Soy un bus con {len(self)} pasajeros\"\n",
    "\n",
    "bus = Autobus()\n",
    "bus.subir_pasajero(\"pepe\")"
   ]
  },
  {
   "cell_type": "code",
   "execution_count": 24,
   "id": "70e934bc-1cea-45cf-b47e-b7d03a05bcc6",
   "metadata": {},
   "outputs": [
    {
     "data": {
      "text/plain": [
       "1"
      ]
     },
     "execution_count": 24,
     "metadata": {},
     "output_type": "execute_result"
    }
   ],
   "source": [
    "bus.num_pasajeros"
   ]
  },
  {
   "cell_type": "code",
   "execution_count": 50,
   "id": "f44c58db-3e05-415d-a17f-e94f1a5ab626",
   "metadata": {},
   "outputs": [],
   "source": [
    "bus.subir_pasajero(\"andres\")\n",
    "bus.subir_pasajero(\"juan\")\n",
    "bus.subir_pasajero(\"lolo\")"
   ]
  },
  {
   "cell_type": "code",
   "execution_count": 26,
   "id": "d3feacf6-1365-4bc5-9b4d-07a2d3600df6",
   "metadata": {},
   "outputs": [
    {
     "data": {
      "text/plain": [
       "4"
      ]
     },
     "execution_count": 26,
     "metadata": {},
     "output_type": "execute_result"
    }
   ],
   "source": [
    "bus.num_pasajeros"
   ]
  },
  {
   "cell_type": "code",
   "execution_count": 46,
   "id": "40e6e7dc-351b-451d-af8a-1e7bb125f17c",
   "metadata": {},
   "outputs": [
    {
     "data": {
      "text/plain": [
       "4"
      ]
     },
     "execution_count": 46,
     "metadata": {},
     "output_type": "execute_result"
    }
   ],
   "source": [
    "len(bus)"
   ]
  },
  {
   "cell_type": "code",
   "execution_count": 47,
   "id": "d67411ae-32b4-499b-a105-ba28beff2097",
   "metadata": {},
   "outputs": [
    {
     "data": {
      "text/plain": [
       "'Soy un bus con 4 pasajeros'"
      ]
     },
     "execution_count": 47,
     "metadata": {},
     "output_type": "execute_result"
    }
   ],
   "source": [
    "str(bus)"
   ]
  },
  {
   "cell_type": "code",
   "execution_count": 48,
   "id": "5feec4ca-13a0-4b93-bc9e-744f77064a2c",
   "metadata": {},
   "outputs": [
    {
     "data": {
      "text/plain": [
       "'lolo'"
      ]
     },
     "execution_count": 48,
     "metadata": {},
     "output_type": "execute_result"
    }
   ],
   "source": [
    "bus[3]"
   ]
  },
  {
   "cell_type": "code",
   "execution_count": 51,
   "id": "628f02e0-5a38-4383-a2b7-b7439af93526",
   "metadata": {},
   "outputs": [
    {
     "data": {
      "text/plain": [
       "'lolo'"
      ]
     },
     "execution_count": 51,
     "metadata": {},
     "output_type": "execute_result"
    }
   ],
   "source": [
    "bus.get_pasajero(3)"
   ]
  },
  {
   "cell_type": "code",
   "execution_count": 66,
   "id": "52cbc618-8451-4e9d-9b2b-e3a0b12807c6",
   "metadata": {},
   "outputs": [],
   "source": [
    "\n",
    "class Person:\n",
    "    def __init__(self, name):\n",
    "        self.name = name\n",
    "    def get_name(self):\n",
    "        return self.name\n",
    "\n",
    "class Manager(Person):\n",
    "    def __init__(self, name, position):\n",
    "        super().__init__(name)\n",
    "        self.position = position\n",
    "\n",
    "    def info(self):\n",
    "        return f\"Soy el manager con posicion {self.position} y mi nombre es {self.name}\"\n",
    "\n",
    "class Employee(Person):\n",
    "    def __init__(self, name, staffID):\n",
    "        super().__init__(name)\n",
    "        #Person.__init__(self, name) # equivalente a la linea anterior\n",
    "        self.staffid = staffID\n",
    "\n",
    "    def info(self):\n",
    "        return f\"Soy el empleado #{self.staffid} y me llamo {self.name}\"\n",
    "\n",
    "\n",
    "class Visitante(Person):\n",
    "    def hola(self):\n",
    "        print(\"Hola estoy de visita\")\n",
    "        \n",
    "        "
   ]
  },
  {
   "cell_type": "code",
   "execution_count": 67,
   "id": "f643a37b-bb80-4ad6-af43-34e995c8440c",
   "metadata": {},
   "outputs": [],
   "source": [
    "emp1 = Employee(\"pepe\", 1001)"
   ]
  },
  {
   "cell_type": "code",
   "execution_count": 68,
   "id": "8ec64018-60d6-42de-a052-a94259de9f09",
   "metadata": {},
   "outputs": [
    {
     "data": {
      "text/plain": [
       "'pepe'"
      ]
     },
     "execution_count": 68,
     "metadata": {},
     "output_type": "execute_result"
    }
   ],
   "source": [
    "emp1.name"
   ]
  },
  {
   "cell_type": "code",
   "execution_count": 69,
   "id": "85e89c68-6162-4b5f-93af-32bf3b83047c",
   "metadata": {},
   "outputs": [
    {
     "data": {
      "text/plain": [
       "'pepe'"
      ]
     },
     "execution_count": 69,
     "metadata": {},
     "output_type": "execute_result"
    }
   ],
   "source": [
    "emp1.get_name()"
   ]
  },
  {
   "cell_type": "code",
   "execution_count": 70,
   "id": "914cdf04-5892-4272-8fb4-50e33e986a0f",
   "metadata": {},
   "outputs": [
    {
     "data": {
      "text/plain": [
       "'Soy el empleado #1001 y me llamo pepe'"
      ]
     },
     "execution_count": 70,
     "metadata": {},
     "output_type": "execute_result"
    }
   ],
   "source": [
    "emp1.info()"
   ]
  },
  {
   "cell_type": "code",
   "execution_count": 71,
   "id": "6de31aad-ffe6-43ec-bde1-0a57d68bb601",
   "metadata": {},
   "outputs": [],
   "source": [
    "visi1 = Visitante(\"juani\")"
   ]
  },
  {
   "cell_type": "code",
   "execution_count": 72,
   "id": "53fe70d4-bcd1-4e99-884c-93b63de7479f",
   "metadata": {},
   "outputs": [
    {
     "data": {
      "text/plain": [
       "'juani'"
      ]
     },
     "execution_count": 72,
     "metadata": {},
     "output_type": "execute_result"
    }
   ],
   "source": [
    "visi1.get_name()"
   ]
  },
  {
   "cell_type": "code",
   "execution_count": 73,
   "id": "36a5f03f-384e-4eef-8f23-269096c1c19e",
   "metadata": {},
   "outputs": [
    {
     "name": "stdout",
     "output_type": "stream",
     "text": [
      "Hola estoy de visita\n"
     ]
    }
   ],
   "source": [
    "visi1.hola()"
   ]
  },
  {
   "cell_type": "code",
   "execution_count": 74,
   "id": "c282b51c-2f61-44c7-bf6b-2ab87d3d02dc",
   "metadata": {},
   "outputs": [],
   "source": [
    "man1 = Manager(\"Margarita\", \"jefa de planta\")"
   ]
  },
  {
   "cell_type": "code",
   "execution_count": 75,
   "id": "9ef93af6-4450-41b2-ba6c-0954662012d3",
   "metadata": {},
   "outputs": [
    {
     "data": {
      "text/plain": [
       "'jefa de planta'"
      ]
     },
     "execution_count": 75,
     "metadata": {},
     "output_type": "execute_result"
    }
   ],
   "source": [
    "man1.position"
   ]
  },
  {
   "cell_type": "code",
   "execution_count": 76,
   "id": "34b6bbce-0372-4d43-a6a9-52f7c817d912",
   "metadata": {},
   "outputs": [
    {
     "ename": "AttributeError",
     "evalue": "'Manager' object has no attribute 'staffid'",
     "output_type": "error",
     "traceback": [
      "\u001b[1;31m---------------------------------------------------------------------------\u001b[0m",
      "\u001b[1;31mAttributeError\u001b[0m                            Traceback (most recent call last)",
      "Cell \u001b[1;32mIn[76], line 1\u001b[0m\n\u001b[1;32m----> 1\u001b[0m \u001b[43mman1\u001b[49m\u001b[38;5;241;43m.\u001b[39;49m\u001b[43mstaffid\u001b[49m\n",
      "\u001b[1;31mAttributeError\u001b[0m: 'Manager' object has no attribute 'staffid'"
     ]
    }
   ],
   "source": [
    "man1.staffid"
   ]
  },
  {
   "cell_type": "code",
   "execution_count": 77,
   "id": "45cfdbe3-8a18-4cb9-9f1c-bb27dd145041",
   "metadata": {},
   "outputs": [
    {
     "data": {
      "text/plain": [
       "'Margarita'"
      ]
     },
     "execution_count": 77,
     "metadata": {},
     "output_type": "execute_result"
    }
   ],
   "source": [
    "man1.get_name()"
   ]
  },
  {
   "cell_type": "code",
   "execution_count": 78,
   "id": "5b17fb4f-49c7-4baa-9cb4-c68c2adeb539",
   "metadata": {},
   "outputs": [
    {
     "data": {
      "text/plain": [
       "'Soy el manager con posicion jefa de planta y mi nombre es Margarita'"
      ]
     },
     "execution_count": 78,
     "metadata": {},
     "output_type": "execute_result"
    }
   ],
   "source": [
    "man1.info()"
   ]
  },
  {
   "cell_type": "code",
   "execution_count": 87,
   "id": "389fe1cb-e53d-44ea-8256-e1925de1db51",
   "metadata": {},
   "outputs": [],
   "source": [
    "class A:\n",
    "    def __init__(self,name_list, perro):\n",
    "        if type(name_list) == list:\n",
    "            self.name = name_list\n",
    "        else:\n",
    "            raise Exception(\"El nombre debe ser una lista\")\n"
   ]
  },
  {
   "cell_type": "code",
   "execution_count": 89,
   "id": "c3f8380c-f3ed-402f-b0a2-421d3b996b0b",
   "metadata": {},
   "outputs": [],
   "source": [
    "try:\n",
    "    a = A(\"nombre1\", \"nombre2\")\n",
    "except:\n",
    "    a = A([\"nombre1\"], \"nombre2\")"
   ]
  },
  {
   "cell_type": "code",
   "execution_count": 149,
   "id": "23b554c5-984f-4f15-8e95-aa7bf2487947",
   "metadata": {},
   "outputs": [],
   "source": [
    "\n",
    "\n",
    "class Student:\n",
    "    def __init__(self, name, student_id):\n",
    "        self.name = str(name)\n",
    "        self.student_id = int(student_id)\n",
    "        self.eng_quiz = []\n",
    "        self.math_quiz = []\n",
    "        self.science_quiz = []\n",
    "\n",
    "    def __str__(self):\n",
    "        return f\"\"\"Nombre: {self.name}\\tID: {self.student_id}\n",
    "        Eng: {self.eng_quiz}\n",
    "        Math: {self.math_quiz}\n",
    "        Sciencie: {self.science_quiz}\n",
    "        \"\"\"\n",
    "    def set_eng_quiz(self, nota):\n",
    "        self.eng_quiz.append(nota)\n",
    "\n",
    "    def set_math_quiz(self, nota):\n",
    "        self.math_quiz.append(nota)\n",
    "\n",
    "    def set_science_quiz(self, nota):\n",
    "        self.science_quiz.append(nota)\n",
    "\n",
    "    def get_name(self):\n",
    "        return self.name\n",
    "    def get_student_id(self):\n",
    "        return self.student_id\n",
    "\n",
    "    def get_eng_quiz(self):\n",
    "        if len(self.eng_quiz) >= 1:\n",
    "            nota_eng = self.eng_quiz[-1]\n",
    "        else:\n",
    "            nota_eng = 0\n",
    "        return nota_eng\n",
    "        \n",
    "    def get_math_quiz(self):\n",
    "        if len(self.math_quiz) >= 1:\n",
    "            nota_math = self.math_quiz[-1]\n",
    "        else:\n",
    "            nota_math = 0\n",
    "        return nota_math\n",
    "        \n",
    "    def get_science_quiz(self):\n",
    "        if len(self.science_quiz) >= 1:\n",
    "            nota_science = self.science_quiz[-1]\n",
    "        else:\n",
    "            nota_science = 0\n",
    "        return nota_science\n",
    "\n",
    "    def get_total_score(self):\n",
    "        total = self.get_eng_quiz() + self.get_math_quiz() + self.get_science_quiz()\n",
    "        return total\n",
    "        \n",
    "    def get_avg_score(self):\n",
    "        return self.get_total_score() / 3\n",
    "        \n"
   ]
  },
  {
   "cell_type": "code",
   "execution_count": 150,
   "id": "ef15cc6d-f544-4a29-9927-4c16f8bc9b8b",
   "metadata": {},
   "outputs": [],
   "source": [
    "st1 = Student(\"Manola\", 12345678)"
   ]
  },
  {
   "cell_type": "code",
   "execution_count": 151,
   "id": "47f6fddc-9cd6-4995-9820-c4cf613eca3b",
   "metadata": {},
   "outputs": [],
   "source": [
    "st1.set_eng_quiz(8)\n",
    "st1.set_math_quiz(7.5)\n",
    "st1.set_science_quiz(6)"
   ]
  },
  {
   "cell_type": "code",
   "execution_count": 152,
   "id": "f2b648d5-8ba8-4ca1-bf01-d1ff64a1da55",
   "metadata": {},
   "outputs": [],
   "source": [
    "st1.set_eng_quiz(4)"
   ]
  },
  {
   "cell_type": "code",
   "execution_count": 153,
   "id": "d13abd76-2c08-457e-adc2-0fe7c2937b1e",
   "metadata": {},
   "outputs": [
    {
     "name": "stdout",
     "output_type": "stream",
     "text": [
      "Nombre: Manola\tID: 12345678\n",
      "        Eng: [8, 4]\n",
      "        Math: [7.5]\n",
      "        Sciencie: [6]\n",
      "        \n"
     ]
    }
   ],
   "source": [
    "print(str(st1))"
   ]
  },
  {
   "cell_type": "code",
   "execution_count": 154,
   "id": "9d4593df-9dbf-47ea-9c1d-4c236f02a87a",
   "metadata": {},
   "outputs": [
    {
     "data": {
      "text/plain": [
       "'Manola'"
      ]
     },
     "execution_count": 154,
     "metadata": {},
     "output_type": "execute_result"
    }
   ],
   "source": [
    "st1.get_name()"
   ]
  },
  {
   "cell_type": "code",
   "execution_count": 155,
   "id": "3fc079c1-89d5-4d5f-8d2f-e9070d35aba9",
   "metadata": {},
   "outputs": [
    {
     "data": {
      "text/plain": [
       "12345678"
      ]
     },
     "execution_count": 155,
     "metadata": {},
     "output_type": "execute_result"
    }
   ],
   "source": [
    "st1.get_student_id()"
   ]
  },
  {
   "cell_type": "code",
   "execution_count": 156,
   "id": "0c6b68ea-d5ce-41ae-bfbd-8b98dc44ecfe",
   "metadata": {},
   "outputs": [
    {
     "data": {
      "text/plain": [
       "4"
      ]
     },
     "execution_count": 156,
     "metadata": {},
     "output_type": "execute_result"
    }
   ],
   "source": [
    "st1.get_eng_quiz()"
   ]
  },
  {
   "cell_type": "code",
   "execution_count": 157,
   "id": "8b0bd3e4-63ae-4e76-982a-fcc9b5d1726b",
   "metadata": {},
   "outputs": [
    {
     "data": {
      "text/plain": [
       "7.5"
      ]
     },
     "execution_count": 157,
     "metadata": {},
     "output_type": "execute_result"
    }
   ],
   "source": [
    "st1.get_math_quiz()"
   ]
  },
  {
   "cell_type": "code",
   "execution_count": 158,
   "id": "727e5819-ac34-4705-a2ad-2dde5629e08b",
   "metadata": {},
   "outputs": [
    {
     "data": {
      "text/plain": [
       "6"
      ]
     },
     "execution_count": 158,
     "metadata": {},
     "output_type": "execute_result"
    }
   ],
   "source": [
    "st1.get_science_quiz()"
   ]
  },
  {
   "cell_type": "code",
   "execution_count": 159,
   "id": "28596a6c-effd-4ff3-867e-3c064226c59a",
   "metadata": {},
   "outputs": [
    {
     "data": {
      "text/plain": [
       "17.5"
      ]
     },
     "execution_count": 159,
     "metadata": {},
     "output_type": "execute_result"
    }
   ],
   "source": [
    "st1.get_total_score()"
   ]
  },
  {
   "cell_type": "code",
   "execution_count": 160,
   "id": "795bac46-4770-445a-b160-714304112e53",
   "metadata": {},
   "outputs": [
    {
     "data": {
      "text/plain": [
       "5.833333333333333"
      ]
     },
     "execution_count": 160,
     "metadata": {},
     "output_type": "execute_result"
    }
   ],
   "source": [
    "st1.get_avg_score()"
   ]
  },
  {
   "cell_type": "code",
   "execution_count": 161,
   "id": "57954c9b-f8bc-4cc6-a127-af47f84519e4",
   "metadata": {},
   "outputs": [],
   "source": [
    "st2 = Student(\"Manolo\", 24356719)"
   ]
  },
  {
   "cell_type": "code",
   "execution_count": 162,
   "id": "2a60d0bc-2a94-4376-b4d9-462029cbe0d1",
   "metadata": {},
   "outputs": [
    {
     "data": {
      "text/plain": [
       "0"
      ]
     },
     "execution_count": 162,
     "metadata": {},
     "output_type": "execute_result"
    }
   ],
   "source": [
    "st2.get_total_score()"
   ]
  },
  {
   "cell_type": "code",
   "execution_count": 163,
   "id": "bb423555-cec3-435a-9855-344936a503f0",
   "metadata": {},
   "outputs": [
    {
     "data": {
      "text/plain": [
       "0.0"
      ]
     },
     "execution_count": 163,
     "metadata": {},
     "output_type": "execute_result"
    }
   ],
   "source": [
    "st2.get_avg_score()"
   ]
  },
  {
   "cell_type": "code",
   "execution_count": 164,
   "id": "533d52c0-af31-4a23-b440-f09f9784bc99",
   "metadata": {},
   "outputs": [
    {
     "data": {
      "text/plain": [
       "0"
      ]
     },
     "execution_count": 164,
     "metadata": {},
     "output_type": "execute_result"
    }
   ],
   "source": [
    "st2.get_eng_quiz()"
   ]
  },
  {
   "cell_type": "code",
   "execution_count": null,
   "id": "c6a3934e-fbc1-48b5-aa58-0c2ed1d3d9fa",
   "metadata": {},
   "outputs": [],
   "source": []
  }
 ],
 "metadata": {
  "kernelspec": {
   "display_name": "Python 3 (ipykernel)",
   "language": "python",
   "name": "python3"
  },
  "language_info": {
   "codemirror_mode": {
    "name": "ipython",
    "version": 3
   },
   "file_extension": ".py",
   "mimetype": "text/x-python",
   "name": "python",
   "nbconvert_exporter": "python",
   "pygments_lexer": "ipython3",
   "version": "3.11.7"
  }
 },
 "nbformat": 4,
 "nbformat_minor": 5
}
