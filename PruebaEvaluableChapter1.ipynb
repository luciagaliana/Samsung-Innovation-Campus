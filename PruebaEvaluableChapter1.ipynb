{
 "cells": [
  {
   "cell_type": "markdown",
   "id": "5c55de18-0b3c-4e58-89ac-2a272e19ee4c",
   "metadata": {},
   "source": [
    "## Ejercicio 1\n",
    "\n",
    "La densidad (d) de una sustancia se define como la cantidad de masa (m) que posee por unidad de volumen (v). Por tanto:\n",
    "$d = m/v$ ↔ $m = d × v$ ↔ $v = m/d$\n",
    "\n",
    "Escribe un programa que pida al usuario lo que quiere calcular, densidad (d), masa (m) o volumen (v), después pida los datos necesarios y al final imprima el resultado en la pantalla. El programa debe detectar cuando se intenta dividir por 0 y avisar al usuario del error. También debe lanzar un mensaje de aviso cuando el usuario introduce un valor incorrecto para lo que quiere calcular (algo diferente a “d”, “m”, o “v”)."
   ]
  },
  {
   "cell_type": "code",
   "execution_count": 46,
   "id": "99343438-9aea-4812-b9d7-16d4c2f4d503",
   "metadata": {},
   "outputs": [
    {
     "name": "stdout",
     "output_type": "stream",
     "text": [
      "Qué es lo que quieres calcular, densidad (d), masa (m), volumen (v) \n"
     ]
    },
    {
     "name": "stdin",
     "output_type": "stream",
     "text": [
      "Introduce la letra de la variable que quieres calcular: v\n"
     ]
    },
    {
     "name": "stdout",
     "output_type": "stream",
     "text": [
      "Se procede a calcular el volumen\n"
     ]
    },
    {
     "name": "stdin",
     "output_type": "stream",
     "text": [
      "Introduce el valor del masa: 15\n",
      "Introduce el valor de la densidad: 0\n"
     ]
    },
    {
     "name": "stdout",
     "output_type": "stream",
     "text": [
      "Error: se está intentado dividir con uno de los valores igual a cero\n"
     ]
    }
   ],
   "source": [
    "# Ejercicio 1\n",
    "\n",
    "# Pedir variables\n",
    "print(\"Qué es lo que quieres calcular, densidad (d), masa (m), volumen (v) \")\n",
    "calcular = input(\"Introduce la letra de la variable que quieres calcular:\")\n",
    "\n",
    "# Se quiere calcular la densidad\n",
    "if (calcular == \"d\"):\n",
    "    print(\"Se procede a calcular la densidad\")\n",
    "    m = float(input(\"Introduce el valor de la masa:\"))\n",
    "    v = float(input(\"Introduce el valor del volumen:\"))\n",
    "\n",
    "    if (v==0):\n",
    "        print(\"Error: se está intentado dividir por cero.\")\n",
    "    else:\n",
    "        print(\"La densidad resultante es: \", m/v)\n",
    "    \n",
    "# Se quiere calcular la masa\n",
    "elif(calcular == \"m\"):\n",
    "    print(\"Se procede a calcular la masa\")\n",
    "    d = float(input(\"Introduce el valor de la densidad:\"))\n",
    "    v = float(input(\"Introduce el valor del volumen:\"))\n",
    "\n",
    "    print(\"La masa resultante es: \", d*v)\n",
    "    \n",
    "# Se quiere calcular el volumen\n",
    "elif(calcular == \"v\"):\n",
    "    print(\"Se procede a calcular el volumen\")\n",
    "    m = float(input(\"Introduce el valor del masa:\"))\n",
    "    d = float(input(\"Introduce el valor de la densidad:\"))\n",
    "    \n",
    "    if (d==0):\n",
    "        print(\"Error: se está intentado dividir por cero.\")\n",
    "    else:\n",
    "        print(\"La densidad resultante es: \", m/d)\n",
    "\n",
    "# Se ha introducido un valor incorrecto\n",
    "else:\n",
    "    print(\"Error: el valor\", calcular, \" no es correcto.\")\n",
    "\n",
    "\n",
    "\n",
    "\n"
   ]
  },
  {
   "cell_type": "markdown",
   "id": "15a9bafd-b91c-4e98-b847-e3b43ff892b8",
   "metadata": {},
   "source": [
    "## Ejercicio 2\n",
    "Queremos formatear una lista de la compra para una fiesta con los siguientes productos: cerveza, vino, patatas fritas. Hay que pedir al usuario los precios de los 3 productos (suponemos que siempre son < 10 euros), y las cantidades que quieren comprar (suponemos que siempre son < 100 unidades). Tu programa tiene que devolver la compra desglosada de la siguiente forma:\n",
    "\n",
    "\n",
    "```\n",
    "¿Precio cerveza? 9.99\n",
    "¿Precio vino? 1.05\n",
    "¿Precio patatas fritas? 4\n",
    "¿Cuanta cerveza? 99\n",
    "¿Cuanto vino? 23\n",
    "¿Cuantas patatas fritas? 1\n",
    "\n",
    "Total compra\n",
    "--------------------------------\n",
    "cerveza          99     989.01\n",
    "vino             23      24.15\n",
    "patatas fritas    1       4.00\n",
    "              Total    1017.16\n",
    "```"
   ]
  },
  {
   "cell_type": "code",
   "execution_count": 45,
   "id": "ee8bb3d5-10a4-41ba-9c82-746304e69453",
   "metadata": {},
   "outputs": [
    {
     "name": "stdin",
     "output_type": "stream",
     "text": [
      "¿Precio cerveza? 9.99\n",
      "¿Precio vino? 1.05\n",
      "¿Precio patatas fritas? 4\n",
      "¿Cuanta cerveza? 99\n",
      "¿Cuanta vino? 23\n",
      "¿Cuanta patatas fritas? 1\n"
     ]
    },
    {
     "name": "stdout",
     "output_type": "stream",
     "text": [
      "Total compra\n",
      "-----------------------------------\n",
      "cerveza                 99     989.01\n",
      "vino                    23      24.15\n",
      "patatas fritas           1       4.00\n",
      "                     Total    1017.16\n"
     ]
    }
   ],
   "source": [
    "# ¿Pregunta? Hya que validar si las cantidades son menores de 10 y de 100\n",
    "\n",
    "\n",
    "# Ejercicio 2\n",
    "\n",
    "# Pedir precios\n",
    "pCerveza = float(input(\"¿Precio cerveza?\"))\n",
    "pVino = float(input(\"¿Precio vino?\"))\n",
    "pPatatas = float(input(\"¿Precio patatas fritas?\"))\n",
    "\n",
    "# Pedir cantidades\n",
    "cCerveza = int(input(\"¿Cuanta cerveza?\")) \n",
    "cVino = int(input(\"¿Cuanta vino?\")) \n",
    "cPatatas = int(input(\"¿Cuanta patatas fritas?\")) \n",
    "\n",
    "# Calculamos el total del coste de cada cosa\n",
    "tCerveza = cCerveza * pCerveza\n",
    "tVino = cVino * pVino\n",
    "tPatatas = cPatatas * pPatatas\n",
    "\n",
    "# Calculamos el total de todo\n",
    "total = tCerveza + tVino + tPatatas\n",
    "\n",
    "# Imprimir compra \n",
    "# Con {:<15} lo que estamos haciendo es reservar 15 espacios alineándolo a la izquierda\n",
    "# Con {:>10} lo que estamos haciendo es reservar 10 espacios alineándolo a la derecha\n",
    "# Con {:>10.2f} lo que estamos haciendo es reservar 10 espacios alineándolo a la derecha además de coger dos decimáles\n",
    "print(\"Total compra\")\n",
    "print(\"-----------------------------------\")\n",
    "print(\"{:<15} {:>10} {:>10.2f}\".format(\"cerveza\", cCerveza, tCerveza))\n",
    "print(\"{:<15} {:>10} {:>10.2f}\".format(\"vino\", cVino, tVino))\n",
    "print(\"{:<15} {:>10} {:>10.2f}\".format(\"patatas fritas\", cPatatas, tPatatas))\n",
    "print(\"{:<15} {:>10} {:>10.2f}\".format(\"\", \"Total\", total))\n",
    "\n"
   ]
  },
  {
   "cell_type": "markdown",
   "id": "bd27663a-244d-4e21-89cc-0e664cf1e78a",
   "metadata": {},
   "source": [
    "## Ejercicio 3\n",
    "Realizar un programa para leer 10 números positivos y calcular, independientemente, la suma de los números pares e impares. Si se introduce un número negativo, el programa mostrará un mensaje de error y volverá a pedir el número.\n",
    "\n",
    "Ejemplos de ejecución:\n",
    "```\n",
    "Introduce un número: 4\n",
    "Introduce un número: 5\n",
    "Introduce un número: 6\n",
    "Introduce un número: 7\n",
    "Introduce un número: 8\n",
    "Introduce un número: 9\n",
    "Introduce un número: 12\n",
    "Introduce un número: -4\n",
    "Por favor: solo números positivos\n",
    "Introduce un número: 0\n",
    "Introduce un número: 3\n",
    "Introduce un número: 209\n",
    "Suma de los pares: 30\n",
    "Suma de los impares: 233\n",
    "\n",
    "\n",
    "Introduce un número: -4\n",
    "Por favor: solo números positivos\n",
    "Introduce un número: -0\n",
    "Introduce un número: 4\n",
    "Introduce un número: 4\n",
    "Introduce un número: 5\n",
    "Introduce un número: 5\n",
    "Introduce un número: 6\n",
    "Introduce un número: 6\n",
    "Introduce un número: 7\n",
    "Introduce un número: 7\n",
    "Introduce un número: 8\n",
    "Suma de los pares: 28\n",
    "Suma de los impares: 24\n",
    "\n",
    "\n",
    "Introduce un número: 2\n",
    "Introduce un número: 6\n",
    "Introduce un número: 8\n",
    "Introduce un número: 0\n",
    "Introduce un número: 16\n",
    "Introduce un número: 18\n",
    "Introduce un número: 20\n",
    "Introduce un número: 36\n",
    "Introduce un número: 90\n",
    "Suma de los pares: 200\n",
    "Suma de los impares: 0\n",
    "```"
   ]
  },
  {
   "cell_type": "code",
   "execution_count": 37,
   "id": "af705fd8-f2fb-4ce6-9595-50b06f210cd5",
   "metadata": {},
   "outputs": [
    {
     "name": "stdin",
     "output_type": "stream",
     "text": [
      "Introduce un número -1\n"
     ]
    },
    {
     "name": "stdout",
     "output_type": "stream",
     "text": [
      "Has introducido un número negativo.\n"
     ]
    },
    {
     "name": "stdin",
     "output_type": "stream",
     "text": [
      "Introduce un número positivo -1\n",
      "Introduce un número -1\n"
     ]
    },
    {
     "name": "stdout",
     "output_type": "stream",
     "text": [
      "Has introducido un número negativo.\n"
     ]
    },
    {
     "name": "stdin",
     "output_type": "stream",
     "text": [
      "Introduce un número positivo -1\n",
      "Introduce un número -1\n"
     ]
    },
    {
     "name": "stdout",
     "output_type": "stream",
     "text": [
      "Has introducido un número negativo.\n"
     ]
    },
    {
     "name": "stdin",
     "output_type": "stream",
     "text": [
      "Introduce un número positivo -1\n",
      "Introduce un número -1\n"
     ]
    },
    {
     "name": "stdout",
     "output_type": "stream",
     "text": [
      "Has introducido un número negativo.\n"
     ]
    },
    {
     "name": "stdin",
     "output_type": "stream",
     "text": [
      "Introduce un número positivo -1\n",
      "Introduce un número -1\n"
     ]
    },
    {
     "name": "stdout",
     "output_type": "stream",
     "text": [
      "Has introducido un número negativo.\n"
     ]
    },
    {
     "name": "stdin",
     "output_type": "stream",
     "text": [
      "Introduce un número positivo -1\n",
      "Introduce un número -1\n"
     ]
    },
    {
     "name": "stdout",
     "output_type": "stream",
     "text": [
      "Has introducido un número negativo.\n"
     ]
    },
    {
     "name": "stdin",
     "output_type": "stream",
     "text": [
      "Introduce un número positivo -1\n",
      "Introduce un número -1\n"
     ]
    },
    {
     "name": "stdout",
     "output_type": "stream",
     "text": [
      "Has introducido un número negativo.\n"
     ]
    },
    {
     "name": "stdin",
     "output_type": "stream",
     "text": [
      "Introduce un número positivo -1\n",
      "Introduce un número 2\n",
      "Introduce un número 1\n",
      "Introduce un número 1\n",
      "Introduce un número 1\n",
      "Introduce un número 1\n",
      "Introduce un número 1\n",
      "Introduce un número 1\n",
      "Introduce un número 1\n",
      "Introduce un número 1\n",
      "Introduce un número 1\n"
     ]
    },
    {
     "name": "stdout",
     "output_type": "stream",
     "text": [
      "Suma de los pares: 2\n",
      "Suma de los impares: 9\n"
     ]
    }
   ],
   "source": [
    "# Ejericio 3\n",
    "\n",
    "# Variables\n",
    "numeros=0\n",
    "sumaPares=0\n",
    "sumaImpares=0\n",
    "\n",
    "# Bucle de 10 iteraciones\n",
    "while numeros < 10:\n",
    "    n = int(input(\"Introduce un número\"))\n",
    "\n",
    "    # El número es negativo entonces pedimos le número de nuevo\n",
    "    if n<0:\n",
    "        print(\"Has introducido un número negativo.\")\n",
    "        n = int(input(\"Introduce un número positivo\"))\n",
    "\n",
    "    # El número es poositivo\n",
    "    else:\n",
    "        numeros+=1\n",
    "\n",
    "        # El número introducido es par\n",
    "        if n%2==0 :\n",
    "            sumaPares+=n\n",
    "\n",
    "        # El número introducido es impar\n",
    "        else:\n",
    "            sumaImpares+=n\n",
    "            \n",
    "print(\"Suma de los pares:\" , sumaPares)\n",
    "print(\"Suma de los impares:\" , sumaImpares)"
   ]
  },
  {
   "cell_type": "markdown",
   "id": "0f8ee82f-06fa-4639-9db0-7f840c1ecbae",
   "metadata": {},
   "source": [
    "## Ejercicio 4\n",
    "\n",
    "Escribe un programa que reciba un número entero positivo `n` y dibuje en la consola un marco cuadrado con un tamaño de `N x N`.\n",
    "\n",
    "Entrada: 3\n",
    "Salida:\n",
    "\n",
    "```\n",
    "+ - - + \n",
    "| - - |  \n",
    "+ - - + \n",
    "```\n",
    "\n",
    "Entrada: 4\n",
    "Salida:\n",
    "\n",
    "```\n",
    "+ - - - + \n",
    "| - - - |  \n",
    "| - - - |  \n",
    "+ - - - + \n",
    "```\n",
    "\n",
    "Entrada: 5\n",
    "Salida:\n",
    "\n",
    "```\n",
    "+ - - - + \n",
    "| - - - |  \n",
    "| - - - |  \n",
    "| - - - |  \n",
    "+ - - - + \n",
    "```\n",
    "\n",
    "Entrada: 6\n",
    "Salida:\n",
    "\n",
    "```\n",
    "+ - - - - + \n",
    "| - - - - |  \n",
    "| - - - - |  \n",
    "| - - - - |  \n",
    "| - - - - |  \n",
    "+ - - - - + \n",
    "```"
   ]
  },
  {
   "cell_type": "code",
   "execution_count": 47,
   "id": "0377774d-688c-4bd6-9f74-a17a91641459",
   "metadata": {},
   "outputs": [
    {
     "name": "stdin",
     "output_type": "stream",
     "text": [
      "Introduce un número n: 10\n"
     ]
    },
    {
     "name": "stdout",
     "output_type": "stream",
     "text": [
      "+ - - - - - - - - + \n",
      "| - - - - - - - - | \n",
      "| - - - - - - - - | \n",
      "| - - - - - - - - | \n",
      "| - - - - - - - - | \n",
      "| - - - - - - - - | \n",
      "| - - - - - - - - | \n",
      "| - - - - - - - - | \n",
      "| - - - - - - - - | \n",
      "+ - - - - - - - - + \n"
     ]
    }
   ],
   "source": [
    "# N filas x N-1 columnas\n",
    "\n",
    "# Ejercicio 4\n",
    "n = int(input(\"Introduce un número n:\"))\n",
    "\n",
    "# Bucle para las filas\n",
    "for i in range(n):\n",
    "\n",
    "    # Bucle para las columnas\n",
    "    for j in range(n):\n",
    "\n",
    "        # Estamos en la primera o en la última fila\n",
    "        if i == 0 or i==n-1:\n",
    "            # Estamos primera o en la última columna\n",
    "            if j==0 or j==n-1:\n",
    "                print(\"+\", end=\" \")\n",
    "            else:\n",
    "                print(\"-\", end=\" \")\n",
    "        # Estamos en las filas del medio\n",
    "        else:\n",
    "            # Estamos primera o en la última columna\n",
    "            if j==0 or j==n-1:\n",
    "                print(\"|\", end=\" \")\n",
    "            else:\n",
    "                print(\"-\", end=\" \")\n",
    "    print(\"\")\n",
    "            \n",
    "            \n",
    "            "
   ]
  },
  {
   "cell_type": "code",
   "execution_count": null,
   "id": "95fe5d5c-8cf7-4287-9e7b-2bb922762a40",
   "metadata": {},
   "outputs": [],
   "source": []
  }
 ],
 "metadata": {
  "kernelspec": {
   "display_name": "Python 3 (ipykernel)",
   "language": "python",
   "name": "python3"
  },
  "language_info": {
   "codemirror_mode": {
    "name": "ipython",
    "version": 3
   },
   "file_extension": ".py",
   "mimetype": "text/x-python",
   "name": "python",
   "nbconvert_exporter": "python",
   "pygments_lexer": "ipython3",
   "version": "3.11.7"
  }
 },
 "nbformat": 4,
 "nbformat_minor": 5
}
