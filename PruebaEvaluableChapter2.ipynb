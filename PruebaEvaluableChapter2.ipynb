{
 "cells": [
  {
   "cell_type": "markdown",
   "metadata": {},
   "source": [
    "# Prueba del tema 2"
   ]
  },
  {
   "cell_type": "markdown",
   "metadata": {},
   "source": [
    "Nombre: COMPLETAR"
   ]
  },
  {
   "cell_type": "markdown",
   "metadata": {},
   "source": [
    "### Ejercicio 1\n",
    "\n",
    "Dadas tres listas `l1`,`l2`y `l3`, nos piden obtener una lista en la que cada elemento sea la suma de los tres elementos situados en la misma posición en las listas originales, siempre y cuando la paridad entre los tres elementos coincida. Para el siguiente ejemplo:\n",
    "\n",
    "```\n",
    "l1 = [1, 2, 3, 4, 5, 6]\n",
    "l2 = [3, 3, 5, 6]\n",
    "l3 = [1, 1, 7, 2, 8, 7, 8, 9]\n",
    "```\n",
    "\n",
    "el resultado sería `[5, 15, 12]`, que corresponde a las sumas de:\n",
    "\n",
    "- `5 = 1+3+1` en la posición 0\n",
    "- `15 = 3+5+7` en la posición 2\n",
    "- `12 = 4+6+2` en la posición 3\n",
    "\n",
    "No se suman los valores 2+3+1 de la posición 1 porque 2 es par mientras que 3 y 1 son impares."
   ]
  },
  {
   "cell_type": "code",
   "execution_count": 8,
   "metadata": {},
   "outputs": [
    {
     "name": "stdout",
     "output_type": "stream",
     "text": [
      "4\n",
      "El resultado de las lista es: [5, 15, 12]\n"
     ]
    }
   ],
   "source": [
    "l1 = [1, 2, 3, 4, 5, 6]\n",
    "l2 = [3, 3, 5, 6]\n",
    "l3 = [1, 1, 7, 2, 8, 7, 8, 9]\n",
    "\n",
    "\n",
    "# RESOLVER AQUÍ EL EJERCICIO 1 Normal\n",
    "\n",
    "# Longitud mínima de las listas\n",
    "lenMin= min(len(l1),len(l2),len(l3))\n",
    "listaFinal = []\n",
    "\n",
    "# Recorremos las listas y comparamos los números\n",
    "for i in range(lenMin):\n",
    "    if l1[i]%2==0 and l2[i]%2==0 and l3[i]%2==0:\n",
    "        listaFinal.append(l1[i]+l2[i]+l3[i])\n",
    "    elif l1[i]%2!=0 and l2[i]%2!=0 and l3[i]%2!=0:\n",
    "        listaFinal.append(l1[i]+l2[i]+l3[i])\n",
    "    else:\n",
    "        pass\n",
    "\n",
    "print(\"El resultado de las lista es:\", listaFinal)\n"
   ]
  },
  {
   "cell_type": "markdown",
   "metadata": {},
   "source": [
    "### Ejercicio 2\n",
    "\n",
    "Nos dan una lista de cadenas:\n",
    "\n",
    "```python\n",
    "ls = [\"El blanco oso\", \"El oso blanco\", \"Un día caluroso\", \"Blanco el oso\", \n",
    "      \"O blance loso\", \"No parece algo que tenga que aparecer\"]\n",
    "\n",
    "```\n",
    "\n",
    "Y nos piden devolver otra lista con todas las cadenas de la lista que tengan el mismo número de caracteres de cada tipo (mismo nº 'a', mismo nº de 'b',... incluidos espacios en blanco, comas etc...) que la primera cadena de la lista.\n",
    "\n",
    "A la hora de contar el nº caracteres de cada tipo hay que ignorar que sean mayúsculas o minúsculas. Es decir, \"Aba\" y \"Baa\" se considera que cumplen la condición porque tienen 2 'a' y 1 'b', pero \"Aba\" y \"aBB\" no cumplen la condición.\n",
    "\n",
    "Para el ejemplo de la lista `ls` el resultado sería:\n",
    "\n",
    "```python\n",
    "['El blanco oso', 'El oso blanco', 'Blanco el oso', 'O blance loso']\n",
    "```"
   ]
  },
  {
   "cell_type": "code",
   "execution_count": 76,
   "metadata": {},
   "outputs": [
    {
     "name": "stdout",
     "output_type": "stream",
     "text": [
      "El resultado final es: ['El blanco oso', 'El oso blanco', 'Blanco el oso', 'O blance loso']\n"
     ]
    }
   ],
   "source": [
    "ls = [\"El blanco oso\", \"El oso blanco\", \"Un día caluroso\", \"Blanco el oso\", \"O blance loso\", \"No parece algo que tenga que aparecer\"]\n",
    "\n",
    "# RESOLVER AQUÍ EL EJERCICIO 2\n",
    "\n",
    "cadenaAComparar = ls[0].lower()\n",
    "listaFinal = []\n",
    "\n",
    "# Recorremos la lista\n",
    "for c in ls:\n",
    "    sComparar = set(cadenaAComparar)\n",
    "    sActual = set(c.lower())\n",
    "\n",
    "    # Hacemos la diferencia simétrica para saber si coinciden en todos los carcteres\n",
    "    resDifSimetrica = sComparar^sActual\n",
    "    # Debemos comprobar si las longitudes de las cadenas iniciales son iguales\n",
    "    if len(resDifSimetrica) == 0 and len(c)==len(cadenaAComparar):\n",
    "         listaFinal.append(c)\n",
    "    else:\n",
    "        pass\n",
    "print(\"El resultado final es:\",listaFinal)\n"
   ]
  },
  {
   "cell_type": "markdown",
   "metadata": {},
   "source": [
    "### Ejercicio 3\n",
    "\n",
    "Dado el siguiente conjunto de números enteros:\n",
    "\n",
    "```python\n",
    "cjt = {6, 3, 7, 12}\n",
    "```\n",
    "\n",
    "Se pide realizar un programa que pida al usuario una serie de números enteros separados por coma.\n",
    "\n",
    "Puedes asumir que el usuario no se equivoca al introducir los números.\n",
    "\n",
    "A continuación, el programa mostrará uno de estos mensajes:\n",
    "\n",
    "- `Hay números repetidos` se mostrará cuando el usuario haya introducido más de una vez un mismo número.\n",
    "- `Estan todos`si el usuario ha introducido, sin repetir, los números del cjt.\n",
    "- `Sobran` si el usuario ha introducido todos los nº del cjt y alguno más.\n",
    "- `Faltan` si todos los nº que ha escrito el usuario está en el cjt pero falta alguno.\n",
    "- `Faltan y sobran` en cualquier otro caso.\n",
    "\n",
    "\n",
    "Ejemplo de ejecución:\n",
    "\n",
    "```\n",
    "Introduce nº enteros separados por coma: 3,6,7,7,12\n",
    "Hay numeros repetidos\n",
    "```\n",
    "\n",
    "Otro ejemplo:\n",
    "\n",
    "```\n",
    "Introduce nº enteros separados por coma: 3,12,7,6\n",
    "Estan todos\n",
    "```\n",
    "\n",
    "Otro ejemplo:\n",
    "\n",
    "```\n",
    "Introduce nº enteros separados por coma: 3,6\n",
    "Faltan\n",
    "```\n",
    "\n",
    "Otro ejemplo:\n",
    "\n",
    "```\n",
    "Introduce nº enteros separados por coma: 1,2,3,6,7,12\n",
    "Sobran\n",
    "```\n",
    "\n",
    "Otro ejemplo:\n",
    "\n",
    "```\n",
    "Introduce nº enteros separados por coma: 1,2,3,6\n",
    "Faltan y sobran\n",
    "```\n"
   ]
  },
  {
   "cell_type": "code",
   "execution_count": 73,
   "metadata": {},
   "outputs": [
    {
     "name": "stdin",
     "output_type": "stream",
     "text": [
      "Introduce números separados por comas: 1,2,3,6\n"
     ]
    },
    {
     "name": "stdout",
     "output_type": "stream",
     "text": [
      "Fatan y Sobran.\n"
     ]
    }
   ],
   "source": [
    "cjt = {6, 3, 7, 12}\n",
    "\n",
    "# RESOLVER AQUÍ EL EJERCICIO 3\n",
    "\n",
    "caracteres= input(\"Introduce números separados por comas:\").split(\",\")\n",
    "numeros = [int(c) for c in caracteres]\n",
    "#print(nSet)\n",
    "\n",
    "\n",
    "\n",
    "def compararNumeros2(numeros,cjt):\n",
    "    # Numeros repetidos\n",
    "    nSet = set(numeros)\n",
    "    if len(numeros) > len(nSet):\n",
    "        print(\"Hay números repetidos\")\n",
    "        \n",
    "    # Están todos\n",
    "    elif nSet==cjt:\n",
    "        print(\"Están todos\")\n",
    "        \n",
    "    # Sobran\n",
    "    elif nSet>cjt:\n",
    "        print(\"Sobran.\")\n",
    "        \n",
    "    # Faltan    \n",
    "    elif cjt>nSet:\n",
    "        print(\"Faltan.\")\n",
    "    \n",
    "    # Faltan y sobran\n",
    "    else:\n",
    "        print(\"Fatan y Sobran.\")\n",
    "\n",
    "compararNumeros2(numeros,cjt)\n"
   ]
  },
  {
   "cell_type": "code",
   "execution_count": null,
   "metadata": {},
   "outputs": [],
   "source": []
  }
 ],
 "metadata": {
  "kernelspec": {
   "display_name": "Python 3 (ipykernel)",
   "language": "python",
   "name": "python3"
  },
  "language_info": {
   "codemirror_mode": {
    "name": "ipython",
    "version": 3
   },
   "file_extension": ".py",
   "mimetype": "text/x-python",
   "name": "python",
   "nbconvert_exporter": "python",
   "pygments_lexer": "ipython3",
   "version": "3.11.7"
  }
 },
 "nbformat": 4,
 "nbformat_minor": 4
}
