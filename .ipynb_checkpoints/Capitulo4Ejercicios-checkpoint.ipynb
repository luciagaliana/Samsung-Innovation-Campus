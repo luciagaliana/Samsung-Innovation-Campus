{
 "cells": [
  {
   "cell_type": "markdown",
   "id": "6dc04ab9-02d3-4af0-817b-79cf97e54054",
   "metadata": {},
   "source": [
    "### Ejercicios clase Stack"
   ]
  },
  {
   "cell_type": "code",
   "execution_count": null,
   "id": "4f4e3e2f-212a-4fe8-a302-b738aefa5146",
   "metadata": {},
   "outputs": [],
   "source": [
    "class Stack:\n",
    "    def __init__(self):\n",
    "        self.stack = []\n",
    "\n",
    "    def is_empty(self):\n",
    "        return True if len(self.stack) == 0 else False\n",
    "\n",
    "    def push(self, item):\n",
    "        self.stack.append(item)\n",
    "\n",
    "    def pop(self):\n",
    "        return None if self.is_empty() else self.stack.pop()"
   ]
  },
  {
   "cell_type": "markdown",
   "id": "813b7344-1b5d-44fe-83a8-157dfc90f8d4",
   "metadata": {},
   "source": [
    "### Función que comprueba si están bien los paréntesis"
   ]
  },
  {
   "cell_type": "code",
   "execution_count": 1,
   "id": "ea382850-304d-45a3-99c5-fbeb784ff588",
   "metadata": {},
   "outputs": [],
   "source": [
    "class Stack:\n",
    "    def __init__(self):\n",
    "        self.stack = []\n",
    "\n",
    "    def is_empty(self):\n",
    "        return True if len(self.stack) == 0 else False\n",
    "\n",
    "    def push(self, item):\n",
    "        self.stack.append(item)\n",
    "\n",
    "    def pop(self):\n",
    "        return None if self.is_empty() else self.stack.pop()\n",
    "\n",
    "    def __str__(self):\n",
    "        return \"Stack: {}\".format(self.stack)\n",
    "\n",
    "def check_parentheses(expr):\n",
    "    p_abiertos = \"([{\"\n",
    "    p_cerrados = \")]}\"\n",
    "    pila = Stack()\n",
    "    for c in expr:\n",
    "        if c in p_abiertos:\n",
    "            pila.push(c)\n",
    "        else:\n",
    "            if pila.is_empty():\n",
    "                return False\n",
    "            x = pila.pop()\n",
    "            if p_abiertos.index(x) != p_cerrados.index(c):\n",
    "                return False\n",
    "    # Si la pila está vacía indica que no hay paréntesis desparejados es decir que no hay paréntesis que se abrieron y no se cerraron\n",
    "    return pila.is_empty()\n",
    "                \n",
    "\n",
    "cadena_parentesis = input(\"Introduce la secuencia de paréntesis: \")\n",
    "\n",
    "if comprobar_parentesis(cadena_parentesis):\n",
    "    print(\"La seucencia es correcta\")\n",
    "else:\n",
    "    print(\"La secuencia NO es correcta\")"
   ]
  },
  {
   "cell_type": "markdown",
   "id": "c6b6b420-a580-4746-af74-5b6d91b05c47",
   "metadata": {},
   "source": [
    "### Chapter 4, Unit 22, Pair Programming Q1"
   ]
  },
  {
   "cell_type": "code",
   "execution_count": 18,
   "id": "5a2b6a31-0c9c-41ef-bb2c-e5ddf76ea055",
   "metadata": {},
   "outputs": [
    {
     "name": "stdout",
     "output_type": "stream",
     "text": [
      "Elemento e <html>\n",
      "Pila Stack: ['<html>']\n",
      "Elemento e <body>\n",
      "Pila Stack: ['<html>', '<body>']\n",
      "Elemento e <h1>\n",
      "Pila Stack: ['<html>', '<body>', '<h1>']\n",
      "Elemento e </h1>\n",
      "Abierto h1\n",
      "Cerrado h1\n",
      "False 3: False\n",
      "Elemento e </body>\n",
      "Abierto body\n",
      "Cerrado body\n",
      "False 3: False\n",
      "Elemento e </html>\n",
      "Abierto html\n",
      "Cerrado html\n",
      "False 3: True\n"
     ]
    },
    {
     "data": {
      "text/plain": [
       "True"
      ]
     },
     "execution_count": 18,
     "metadata": {},
     "output_type": "execute_result"
    }
   ],
   "source": [
    "cadena = \"<html><body><h1>Hello World</h1></body></html>\"\n",
    "\n",
    "\n",
    "class Stack:\n",
    "    def __init__(self):\n",
    "        self.stack = []\n",
    "\n",
    "    def is_empty(self):\n",
    "        return True if len(self.stack) == 0 else False\n",
    "\n",
    "    def push(self, item):\n",
    "        self.stack.append(item)\n",
    "\n",
    "    def pop(self):\n",
    "        return None if self.is_empty() else self.stack.pop()\n",
    "\n",
    "    def __str__(self):\n",
    "        return \"Stack: {}\".format(self.stack)\n",
    "\n",
    "\n",
    "\n",
    "def extraer_tags(cadena):\n",
    "    lista = [] \n",
    "    start = cadena.find(\"<\")\n",
    "    while start != -1:\n",
    "        end = cadena.find('>', start + 1)\n",
    "        tag = cadena[start:end + 1]\n",
    "        lista.append(tag)\n",
    "        #print(tag, end = \"\")\n",
    "        start = cadena.find('<', end + 1)\n",
    "    return lista\n",
    "\n",
    "extraer_tags(cadena)\n",
    "\n",
    "def matching_tags(cadena):\n",
    "    pila = Stack()\n",
    "    etiquetas = extraer_tags(cadena)\n",
    "    \n",
    "    if etiquetas != []:\n",
    "        for e in etiquetas:\n",
    "            if e.find(\"/\")==-1: \n",
    "                pila.push(e)\n",
    "            else:\n",
    "                if pila.is_empty():\n",
    "                    return False\n",
    "                else:\n",
    "                    x = pila.pop()\n",
    "                    abierto = x[1:-1]\n",
    "                    cerrado = e[2:-1]\n",
    "                    if abierto != cerrado :\n",
    "                        return False\n",
    "                \n",
    "        return pila.is_empty()\n",
    "    else:\n",
    "        return False        \n",
    "\n",
    "\n",
    "matching_tags(cadena)"
   ]
  },
  {
   "cell_type": "markdown",
   "id": "16452a15-8bd9-46f8-a781-5facb8e35191",
   "metadata": {},
   "source": [
    "### Chapter 4, Unit 23, Ejercicios clase"
   ]
  },
  {
   "cell_type": "code",
   "execution_count": null,
   "id": "f8ef8700-246e-4907-bbe3-451ae37c08b6",
   "metadata": {},
   "outputs": [],
   "source": [
    "\n",
    "class Queue:\n",
    "    def __init__(self):\n",
    "        self.queue = []\n",
    "\n",
    "    def is_empty(self):\n",
    "        return len(sel.queue) == 0\n",
    "\n",
    "    def enqueue(self, item):\n",
    "        self.queue.append(item)\n",
    "\n",
    "    def dequeue(self):\n",
    "        return None if self.is_empty() else self.queue.pop(0)\n",
    "\n",
    "    def size(self):\n",
    "        return len(sel.queue)\n",
    "\n",
    "def josephus_sequence(N,k):\n",
    "    secuencia = []\n",
    "    cola = Queue()\n",
    "    for i in range(1,N+1):\n",
    "        cola.enqueue(i)\n",
    "    \n",
    "    contador = 0\n",
    "    while not cola.is_empty():\n",
    "        elemento = cola.dequeue()\n",
    "        j = j + 1\n",
    "        if j % k == 0:\n",
    "            secuencia.append(elemento)\n",
    "        else:\n",
    "            cola.enqueue(elemento)\n",
    "    return secuencia\n",
    "\n",
    "def josephus_sequence(N,k):\n",
    "    secuencia = []\n",
    "    cola = Queue()\n",
    "    for i in range(1,N+1):\n",
    "        cola.enqueue(i)\n",
    "    while not cola.is_empty():\n",
    "        for i in range(1,k-1)\n",
    "            elemento = cola.dequeue()\n",
    "            cola.enqueue(elemento)\n",
    "        secuencia.append(cola.dequeue())\n",
    "    return secuencia\n",
    "\n",
    "\n",
    "\n",
    "N = int(input(\"Introduce el número de personas:\"))\n",
    "k = int(input(\"Introduce el valor a saltar:\"))\n",
    "print(josephus_sequence(N,k))\n",
    "\n",
    "print(josephus_sequence(N,k))"
   ]
  },
  {
   "cell_type": "markdown",
   "id": "685a0661-f184-4ab2-aaa0-8c0adbacfc45",
   "metadata": {},
   "source": [
    "### Chapter 4, Unit 23, Ejercicios clase"
   ]
  },
  {
   "cell_type": "code",
   "execution_count": null,
   "id": "3d7f60c2-03ed-46a5-9252-46d3059f8e6c",
   "metadata": {},
   "outputs": [],
   "source": [
    "class Deque:\n",
    "    def __init__(self):\n",
    "        self.queue = []\n",
    "\n",
    "    def is_empty(self):\n",
    "        return len(self.)"
   ]
  }
 ],
 "metadata": {
  "kernelspec": {
   "display_name": "Python 3 (ipykernel)",
   "language": "python",
   "name": "python3"
  },
  "language_info": {
   "codemirror_mode": {
    "name": "ipython",
    "version": 3
   },
   "file_extension": ".py",
   "mimetype": "text/x-python",
   "name": "python",
   "nbconvert_exporter": "python",
   "pygments_lexer": "ipython3",
   "version": "3.11.7"
  }
 },
 "nbformat": 4,
 "nbformat_minor": 5
}
