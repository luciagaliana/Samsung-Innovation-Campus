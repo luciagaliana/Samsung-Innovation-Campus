{
 "cells": [
  {
   "cell_type": "code",
   "execution_count": 2,
   "id": "000fcd8a-ebed-4c19-ba99-0cb0187a58d7",
   "metadata": {},
   "outputs": [
    {
     "name": "stdout",
     "output_type": "stream",
     "text": [
      "5050\n",
      "100\n"
     ]
    }
   ],
   "source": [
    "\n",
    "a =\"50\"\n",
    "b = 50\n",
    "print(a + str(b))\n",
    "print(int(a) + b)"
   ]
  },
  {
   "cell_type": "code",
   "execution_count": 7,
   "id": "cddb9425-70a7-49b3-b4f8-9407363b5bf6",
   "metadata": {},
   "outputs": [
    {
     "name": "stdout",
     "output_type": "stream",
     "text": [
      "1000\n"
     ]
    }
   ],
   "source": [
    "a = '1'\n",
    "b = '0'\n",
    "c = '0'\n",
    "d = '0'\n",
    "\n",
    "e=int(a + b + c + d)\n",
    "print(e)"
   ]
  },
  {
   "cell_type": "code",
   "execution_count": 19,
   "id": "8b29fa2a-5b95-45ad-87b7-d430b7e78ba2",
   "metadata": {},
   "outputs": [
    {
     "name": "stdout",
     "output_type": "stream",
     "text": [
      "hola\n"
     ]
    },
    {
     "data": {
      "text/plain": [
       "1"
      ]
     },
     "execution_count": 19,
     "metadata": {},
     "output_type": "execute_result"
    }
   ],
   "source": [
    "# Ejercicio de factorial\n",
    "a = 5\n",
    "b = 10\n",
    "sum = 0\n",
    "\n",
    "def factorial (num): \n",
    "    if num <= 1:\n",
    "        return num\n",
    "    else: \n",
    "        sum = num * factorial (num-1)\n",
    "    return sum    \n",
    "factorial(1)"
   ]
  },
  {
   "cell_type": "code",
   "execution_count": 20,
   "id": "47011df3-b9c5-44a9-9935-9cc3251a0f56",
   "metadata": {},
   "outputs": [
    {
     "name": "stdout",
     "output_type": "stream",
     "text": [
      "100\n",
      "200\n"
     ]
    }
   ],
   "source": [
    "x , y = 100, 200\n",
    "print(x)\n",
    "print(y)"
   ]
  },
  {
   "cell_type": "code",
   "execution_count": 22,
   "id": "a46c0d7e-334a-408f-92cb-fb3d29d4d49d",
   "metadata": {},
   "outputs": [
    {
     "name": "stdout",
     "output_type": "stream",
     "text": [
      "Dinero: hola\n"
     ]
    },
    {
     "ename": "ValueError",
     "evalue": "invalid literal for int() with base 10: 'hola'",
     "output_type": "error",
     "traceback": [
      "\u001b[1;31m---------------------------------------------------------------------------\u001b[0m",
      "\u001b[1;31mValueError\u001b[0m                                Traceback (most recent call last)",
      "Cell \u001b[1;32mIn[22], line 1\u001b[0m\n\u001b[1;32m----> 1\u001b[0m \u001b[38;5;28;43mint\u001b[39;49m\u001b[43m(\u001b[49m\u001b[38;5;28;43minput\u001b[39;49m\u001b[43m(\u001b[49m\u001b[38;5;124;43m\"\u001b[39;49m\u001b[38;5;124;43mDinero:\u001b[39;49m\u001b[38;5;124;43m\"\u001b[39;49m\u001b[43m)\u001b[49m\u001b[43m)\u001b[49m\n",
      "\u001b[1;31mValueError\u001b[0m: invalid literal for int() with base 10: 'hola'"
     ]
    }
   ],
   "source": [
    "int(input(\"Dinero:\"))"
   ]
  },
  {
   "cell_type": "code",
   "execution_count": 28,
   "id": "f3d63964-a6e6-40b3-8895-4f8c8a0d935b",
   "metadata": {},
   "outputs": [
    {
     "data": {
      "text/plain": [
       "1800"
      ]
     },
     "execution_count": 28,
     "metadata": {},
     "output_type": "execute_result"
    }
   ],
   "source": [
    "width = 30 \n",
    "heigth = 60 \n",
    "def areaRectangulo(width,heigth):\n",
    "    area = width * heigth\n",
    "    return area\n",
    "areaRectangulo(width,heigth)"
   ]
  },
  {
   "cell_type": "code",
   "execution_count": 34,
   "id": "751633ef-9915-45b2-ac5e-fa6591ad9c8d",
   "metadata": {},
   "outputs": [
    {
     "name": "stdout",
     "output_type": "stream",
     "text": [
      "Base:  10\n",
      "Altura:  7\n"
     ]
    },
    {
     "data": {
      "text/plain": [
       "12.206555615733702"
      ]
     },
     "execution_count": 34,
     "metadata": {},
     "output_type": "execute_result"
    }
   ],
   "source": [
    "base=int(input(\"Base: \")) #10\n",
    "altura=int(input(\"Altura: \")) #7\n",
    "\n",
    "def pitagoras(base,altura):\n",
    "    hiportenusaElevada = base**2 + altura**2\n",
    "    hiportenusa = hiportenusaElevada ** 0.5\n",
    "    return hiportenusa\n",
    "\n",
    "pitagoras(base,altura)"
   ]
  },
  {
   "cell_type": "code",
   "execution_count": 29,
   "id": "99ffeb0b-b0c6-4ec4-9492-5a87259181b8",
   "metadata": {},
   "outputs": [
    {
     "ename": "IndentationError",
     "evalue": "unindent does not match any outer indentation level (<tokenize>, line 4)",
     "output_type": "error",
     "traceback": [
      "\u001b[1;36m  File \u001b[1;32m<tokenize>:4\u001b[1;36m\u001b[0m\n\u001b[1;33m    while a <= 6:\u001b[0m\n\u001b[1;37m    ^\u001b[0m\n\u001b[1;31mIndentationError\u001b[0m\u001b[1;31m:\u001b[0m unindent does not match any outer indentation level\n"
     ]
    }
   ],
   "source": [
    "# Charpter 1, Unit 4, Pair Programming Q2\n",
    "def cuadradoNum(a,n):\n",
    "    print(\"a\", \"n\", \"a**n\", sep=\"\\t\")\n",
    "    while a <= 6:\n",
    "        print(a, n, a**n, sep=\"\\t\")\n",
    "        a += 1\n",
    "\n",
    "cuadradoNum(2,2)\n",
    "\n"
   ]
  },
  {
   "cell_type": "code",
   "execution_count": 9,
   "id": "1a749af4-f18e-41c6-9fbe-b9731d5e07b9",
   "metadata": {},
   "outputs": [
    {
     "name": "stdout",
     "output_type": "stream",
     "text": [
      "a\tn\ta**n\n",
      "2\t2\t4\n",
      "3\t2\t9\n",
      "4\t2\t16\n",
      "5\t2\t25\n",
      "6\t2\t36\n"
     ]
    }
   ],
   "source": [
    "# Chapter 1, Unit 4, Pair Programming Q2\n",
    "def cuadradoNum(a, n):\n",
    "    print(\"a\", \"n\", \"a**n\", sep=\"\\t\")\n",
    "    while a <= 6:\n",
    "        print(a, n, a**n, sep=\"\\t\")\n",
    "        a += 1\n",
    "\n",
    "cuadradoNum(2, 2)"
   ]
  },
  {
   "cell_type": "code",
   "execution_count": 33,
   "id": "2e21540a-52ed-4069-b081-bf5a28fbd193",
   "metadata": {},
   "outputs": [
    {
     "name": "stdout",
     "output_type": "stream",
     "text": [
      "Introduce el valor de n:  21\n"
     ]
    },
    {
     "name": "stdout",
     "output_type": "stream",
     "text": [
      "Is the integer odd?:\n"
     ]
    },
    {
     "data": {
      "text/plain": [
       "True"
      ]
     },
     "execution_count": 33,
     "metadata": {},
     "output_type": "execute_result"
    }
   ],
   "source": [
    "# Charpter 1, Unit 5, Paper coding Q1\n",
    "n = int(input(\"Introduce el valor de n: \"))\n",
    "\n",
    "def odd(n):\n",
    "    if (n==20 or n==21):\n",
    "        print(\"Is the integer odd?:\")\n",
    "    \n",
    "    if(n%2==0): return False\n",
    "    else: return True\n",
    "        \n",
    "odd(n)\n"
   ]
  },
  {
   "cell_type": "code",
   "execution_count": 36,
   "id": "15c15eac-2524-48e8-bd0a-02784fbe9269",
   "metadata": {},
   "outputs": [
    {
     "name": "stdout",
     "output_type": "stream",
     "text": [
      "Enter an integer:  35\n"
     ]
    },
    {
     "name": "stdout",
     "output_type": "stream",
     "text": [
      "Is teh input value integer between 0 and 100? \n"
     ]
    },
    {
     "data": {
      "text/plain": [
       "True"
      ]
     },
     "execution_count": 36,
     "metadata": {},
     "output_type": "execute_result"
    }
   ],
   "source": [
    "# Charpter 1, Unit 5, Paper coding Q2\n",
    "n = int(input(\"Enter an integer: \"))\n",
    "\n",
    "def odd(n):\n",
    "    print(\"Is teh input value integer between 0 and 100? \")\n",
    "    if (n>=0 and n<=100):\n",
    "       if(n%2!=0): return True\n",
    "       else: return False \n",
    "    else: return False   \n",
    "           \n",
    "odd(n)\n"
   ]
  },
  {
   "cell_type": "code",
   "execution_count": 41,
   "id": "3a13fe2d-7c34-4f60-9871-35c961517b49",
   "metadata": {},
   "outputs": [
    {
     "name": "stdout",
     "output_type": "stream",
     "text": [
      "Enter an integer:  345\n"
     ]
    },
    {
     "name": "stdout",
     "output_type": "stream",
     "text": [
      "The number is 345\n"
     ]
    },
    {
     "data": {
      "text/plain": [
       "True"
      ]
     },
     "execution_count": 41,
     "metadata": {},
     "output_type": "execute_result"
    }
   ],
   "source": [
    "# Charpter 1, Unit 5, Pair programming Q1\n",
    "n = int(input(\"Enter an integer: \"))\n",
    "\n",
    "def thridDigit(n):\n",
    "    if(n // 100 == 3):\n",
    "        print(\"The number is\", n)\n",
    "        return True\n",
    "    else: \n",
    "        print(\"The digit is not correct.\") \n",
    "        return False\n",
    "\n",
    "thridDigit(n)"
   ]
  },
  {
   "cell_type": "code",
   "execution_count": 45,
   "id": "64c92d7b-2efa-472c-be92-5d219394e100",
   "metadata": {},
   "outputs": [
    {
     "name": "stdout",
     "output_type": "stream",
     "text": [
      "Enter an integer:  3\n"
     ]
    },
    {
     "data": {
      "text/plain": [
       "False"
      ]
     },
     "execution_count": 45,
     "metadata": {},
     "output_type": "execute_result"
    }
   ],
   "source": [
    "# Charpter 1, Unit 5, Pair programming Q2\n",
    "n = int(input(\"Enter an integer: \"))\n",
    "\n",
    "def num5(n):\n",
    "    if(n%5==0): return True\n",
    "    else: return False\n",
    "\n",
    "num5(n)\n"
   ]
  },
  {
   "cell_type": "code",
   "execution_count": 2,
   "id": "558b51b2-db1f-4433-8d16-66b5b9d6812e",
   "metadata": {},
   "outputs": [
    {
     "name": "stdout",
     "output_type": "stream",
     "text": [
      "Enter an integer:  2000\n"
     ]
    },
    {
     "name": "stdout",
     "output_type": "stream",
     "text": [
      "game_score = 2000\n"
     ]
    }
   ],
   "source": [
    "# Charpter 1, Unit 6, Paper coding Q1\n",
    "\n",
    "score = int(input(\"Enter an integer: \"))\n",
    "\n",
    "def gameScore(s):\n",
    "    print(\"game_score =\", s)\n",
    "    if(s>=1500): \n",
    "        print(\"You are a monster\")\n",
    "gameScore(score)"
   ]
  },
  {
   "cell_type": "code",
   "execution_count": 5,
   "id": "7ce5c1e9-ea20-43d2-87fc-47c6ae662066",
   "metadata": {},
   "outputs": [
    {
     "name": "stdout",
     "output_type": "stream",
     "text": [
      "Enter an integer:  0\n"
     ]
    },
    {
     "name": "stdout",
     "output_type": "stream",
     "text": [
      "The number is: 0\n",
      "Is a natural number\n"
     ]
    }
   ],
   "source": [
    "# Charpter 1, Unit 6, Paper coding Q2\n",
    "\n",
    "num = int(input(\"Enter an integer: \"))\n",
    "\n",
    "def numNatural(num):   \n",
    "    if(num>=-100 or num<=100):\n",
    "        print(\"The number is:\",num)\n",
    "        if(num>0):\n",
    "            # Number cero is not a natural number.\n",
    "            print(\"Is a natural number\")\n",
    "    else:\n",
    "        print(\"The number\",num, \"is not correct\")\n",
    "\n",
    "numNatural(num)"
   ]
  },
  {
   "cell_type": "code",
   "execution_count": null,
   "id": "2c331039",
   "metadata": {},
   "outputs": [],
   "source": [
    "# Charpter 1, Unit 6, Pair programming Q1.\n",
    "\n",
    "age = int(input(\"Enter your age:\"))\n",
    "\n",
    "def checkAge(age):\n",
    "    if age >= 20: print(\"Adult\")\n",
    "    else:\n",
    "        if age>=10: print(\"Youth\")\n",
    "        else: print(\"kid\")\n",
    "\n",
    "checkAge(age)"
   ]
  },
  {
   "cell_type": "code",
   "execution_count": 3,
   "id": "b759fbe7",
   "metadata": {},
   "outputs": [
    {
     "name": "stdout",
     "output_type": "stream",
     "text": [
      "o Is a vocal\n"
     ]
    },
    {
     "data": {
      "text/plain": [
       "'o'"
      ]
     },
     "execution_count": 3,
     "metadata": {},
     "output_type": "execute_result"
    }
   ],
   "source": [
    "# Charpter 1, Unit 7, Paper coding Q1\n",
    "\n",
    "letter = input(\"Enter a letter:\")\n",
    "\n",
    "def letters(l):\n",
    "    if l in [\"a\",\"e\",\"i\",\"o\",\"u\"]: \n",
    "        print(l,\"Is a vocal\")\n",
    "        return l\n",
    "    else: \n",
    "        print(l,\"Is a consonant.\")\n",
    "        return l\n",
    "\n",
    "letters(letter)"
   ]
  },
  {
   "cell_type": "code",
   "execution_count": 5,
   "id": "9fecc8c5",
   "metadata": {},
   "outputs": [
    {
     "name": "stdout",
     "output_type": "stream",
     "text": [
      "15 is a multiple of b 5\n"
     ]
    }
   ],
   "source": [
    "# Charpter 1, Unit 7, Paper coding Q2\n",
    "\n",
    "a = int(input(\"Enter the first number:\"))\n",
    "b = int(input(\"Enter the second number:\"))\n",
    "\n",
    "\n",
    "def multiple(a,b):\n",
    "    if(a%b==0): print(a, \"is a multiple of b\", b)\n",
    "\n",
    "multiple(a,b)"
   ]
  },
  {
   "cell_type": "code",
   "execution_count": 7,
   "id": "4ffea46d",
   "metadata": {},
   "outputs": [
    {
     "name": "stdout",
     "output_type": "stream",
     "text": [
      "1) Adition\t2) Subtraction\t3) Multiplication\t4) Division\n"
     ]
    },
    {
     "data": {
      "text/plain": [
       "0"
      ]
     },
     "execution_count": 7,
     "metadata": {},
     "output_type": "execute_result"
    }
   ],
   "source": [
    "# Charpter 1, Unit 7, Pair programming Q1\n",
    "print(\"1) Adition\", \"2) Subtraction\", \"3) Multiplication\", \"4) Division\", sep=\"\\t\")\n",
    "\n",
    "op = int(input(\"Enter the desired number of operation:\"))\n",
    "num1 = int(input(\"Enter the first number:\"))\n",
    "num2 = int(input(\"Enter the second number:\"))\n",
    "\n",
    "addition = 1\n",
    "substraction = 2\n",
    "multiplication = 3\n",
    "division = 4 \n",
    "\n",
    "\n",
    "def calculator(op,num1,num2):\n",
    "    if op == addition: return num1 + num2\n",
    "    elif op == substraction: return num1 - num2\n",
    "    elif op == multiplication : return num1 * num2\n",
    "    elif op == division: return num1/num2\n",
    "    else: print(\"The operator is not correct, enter again\")\n",
    "\n",
    "\n",
    "calculator(op,num1,num2)\n"
   ]
  },
  {
   "cell_type": "code",
   "execution_count": 2,
   "id": "cab0c987",
   "metadata": {},
   "outputs": [
    {
     "name": "stdout",
     "output_type": "stream",
     "text": [
      "In the fourth quadrant\n"
     ]
    }
   ],
   "source": [
    "# Charpter 1, Unit 7, Pair programming Q2\n",
    "\n",
    "x = int(input(\"Enter x:\"))\n",
    "y = int(input(\"Enter y:\"))\n",
    "\n",
    "def positionXY(x,y):\n",
    "    if x > 0 and y > 0:\n",
    "        # We are in the first quadrant\n",
    "        print(\"In the first quadrant\")\n",
    "    elif y > 0 and x < 0:\n",
    "        # We are in the second quadrant\n",
    "        print(\"In the second quadrant\")\n",
    "    elif y > 0 and x < 0:\n",
    "        # We are in the third quadrant\n",
    "        print(\"In the third quadrant\")\n",
    "    else: \n",
    "        # We are in the fourth quadrant \n",
    "        print(\"In the fourth quadrant\")\n",
    "\n",
    "positionXY(x,y)\n",
    "    "
   ]
  },
  {
   "cell_type": "code",
   "execution_count": 4,
   "id": "b7a1cfcc",
   "metadata": {},
   "outputs": [
    {
     "name": "stdout",
     "output_type": "stream",
     "text": [
      "Welcome to the yummy restaurant. Here is the menu.\n",
      "          - Burger(enter b)\n",
      "          - Chicken(enter c)\n",
      "          - Pizza(enter p)   \n",
      "          \n",
      "Please enter the menu again\n"
     ]
    }
   ],
   "source": [
    "# Charpter 1, Unit 7, Pair programming Q3\n",
    "\n",
    "\n",
    "def restaurant():\n",
    "    print(\"\"\"Welcome to the yummy restaurant. Here is the menu.\n",
    "          - Burger(enter b)\n",
    "          - Chicken(enter c)\n",
    "          - Pizza(enter p)   \n",
    "          \"\"\")\n",
    "    menu = input(\"Choose a menu (enter b,c,p):\")\n",
    "\n",
    "    if menu==\"b\": print(\"Your choose burger\")\n",
    "    elif menu==\"c\": print(\"You choose chicken\")\n",
    "    elif menu==\"p\": print(\"You choose pizza\")\n",
    "    else: print(\"Please enter the menu again\")\n",
    "\n",
    "restaurant()\n",
    "\n"
   ]
  },
  {
   "cell_type": "code",
   "execution_count": 11,
   "id": "ae574bb4",
   "metadata": {},
   "outputs": [
    {
     "name": "stdout",
     "output_type": "stream",
     "text": [
      "V\n",
      "J-Hope\n",
      "RM\n",
      "Jungkook\n",
      "Jin\n",
      "Jimin\n",
      "Suga\n"
     ]
    }
   ],
   "source": [
    "# Charpter 1, Unit 8, Paper coding Q1\n",
    "\n",
    "bts=['V', 'J-Hope', 'RM', 'Jungkook', 'Jin', 'Jimin', 'Suga']\n",
    "\n",
    "for word in bts:\n",
    "    print(word)"
   ]
  },
  {
   "cell_type": "code",
   "execution_count": 18,
   "id": "3c7704c7",
   "metadata": {},
   "outputs": [
    {
     "name": "stdout",
     "output_type": "stream",
     "text": [
      "5050\n"
     ]
    }
   ],
   "source": [
    "# Charpter 1, Unit 8, Paper coding Q2\n",
    "sum=0\n",
    "\n",
    "for i in range(101):\n",
    "        sum=sum+i\n",
    "print(sum)"
   ]
  },
  {
   "cell_type": "code",
   "execution_count": 20,
   "id": "9963afc0",
   "metadata": {},
   "outputs": [
    {
     "name": "stdout",
     "output_type": "stream",
     "text": [
      "2550\n"
     ]
    }
   ],
   "source": [
    "# Charpter 1, Unit 8, Paper coding Q3\n",
    "\n",
    "sum=0\n",
    "\n",
    "for i in range(101):\n",
    "    if i%2==0: sum=sum+i\n",
    "print(sum)"
   ]
  },
  {
   "cell_type": "code",
   "execution_count": 19,
   "id": "f954ab05",
   "metadata": {},
   "outputs": [
    {
     "name": "stdout",
     "output_type": "stream",
     "text": [
      "2500\n"
     ]
    }
   ],
   "source": [
    "# Charpter 1, Unit 8, Paper coding Q4\n",
    "sum=0\n",
    "\n",
    "for i in range(101):\n",
    "    if i%2!=0: sum=sum+i\n",
    "print(sum)"
   ]
  },
  {
   "cell_type": "code",
   "execution_count": 5,
   "id": "52261da2",
   "metadata": {},
   "outputs": [
    {
     "name": "stdout",
     "output_type": "stream",
     "text": [
      "Enter n: 5\n"
     ]
    },
    {
     "name": "stdout",
     "output_type": "stream",
     "text": [
      "   1    2    3    4    5 \n",
      "\n",
      "  10    9    8    7    6 \n",
      "\n",
      "  11   12   13   14   15 \n",
      "\n",
      "  20   19   18   17   16 \n",
      "\n"
     ]
    }
   ],
   "source": [
    "# Charpter 1, Unit 8, Pair programming Q1 Version buena\n",
    "\n",
    "n = int(input(\"Enter n:\"))\n",
    "\n",
    "def seats(n):\n",
    "    count=0\n",
    "    for i in range(1,n*n+1):\n",
    "        count+=1\n",
    "        print(i, end=\"\\t\")\n",
    "        if count==n: \n",
    "            print(\"\\n\")\n",
    "            count = 0      \n",
    "\n",
    "#seats(n)\n",
    "\n",
    "def asientos(n):\n",
    "    inicio=1\n",
    "    fin=n\n",
    "\n",
    "    for i in range(1,n):\n",
    "        if i % 2 != 0:\n",
    "            for z in range(inicio, fin + 1, +1):\n",
    "                print(\"{:4d}\".format(z), end=\" \")\n",
    "            print(\"\\n\")\n",
    "            fin+=n\n",
    "            inicio+=n\n",
    "        else: # Total es 10\n",
    "            for j in range(fin, inicio - 1, -1):\n",
    "                print(\"{:4d}\".format(j), end=\" \")\n",
    "            print(\"\\n\")\n",
    "            fin+=n\n",
    "            inicio+=n\n",
    "        i+=1\n",
    "\n",
    "asientos(n)\n"
   ]
  },
  {
   "cell_type": "code",
   "execution_count": 4,
   "id": "6b54b61b",
   "metadata": {},
   "outputs": [
    {
     "name": "stdout",
     "output_type": "stream",
     "text": [
      "Enter n: 5\n"
     ]
    },
    {
     "name": "stdout",
     "output_type": "stream",
     "text": [
      "   1    2    3    4    5 \n",
      "\n",
      "  10    9    8    7    6 \n",
      "\n",
      "  11   12   13   14   15 \n",
      "\n",
      "  20   19   18   17   16 \n",
      "\n",
      "  21   22   23   24   25 \n",
      "\n"
     ]
    }
   ],
   "source": [
    "# Charpter 1, Unit 8, Pair programming Q1 Version mejorada\n",
    "n = int(input(\"Enter n:\"))\n",
    "\n",
    "def seats2(n):\n",
    "    lista = []\n",
    "    count=0\n",
    "    fila=0\n",
    "\n",
    "    for i in range(1,n*n+1):\n",
    "        count+=1\n",
    "        lista.append(i)\n",
    "        if count==n:\n",
    "            if fila % 2 == 0: \n",
    "                for item in lista:\n",
    "                    print(\"{:4d}\".format(item), end=\" \")\n",
    "            else:\n",
    "                for item2 in reversed(lista):\n",
    "                    print(\"{:4d}\".format(item2),  end=\" \")\n",
    "            count=0\n",
    "            lista=[]\n",
    "            fila+=1\n",
    "            print(\"\\n\")\n",
    "        else: pass   \n",
    "        \n",
    "seats2(n) "
   ]
  },
  {
   "cell_type": "code",
   "execution_count": 6,
   "id": "40128021",
   "metadata": {},
   "outputs": [
    {
     "name": "stdout",
     "output_type": "stream",
     "text": [
      "Piedra papel o tijera l\n",
      "Piedra papel o tijera l\n",
      "Piedra papel o tijera tijera\n"
     ]
    },
    {
     "name": "stdout",
     "output_type": "stream",
     "text": [
      "Valor introducido:  tijera\n"
     ]
    }
   ],
   "source": [
    "continuar = True\n",
    "\n",
    "\n",
    "while continuar:\n",
    "    palabra = input(\"Piedra papel o tijera\")\n",
    "    if palabra in [\"piedra\", \"papel\", \"tijera\"]: continuar = False\n",
    "    \n",
    "print(\"Valor introducido: \", palabra)    \n",
    "\n"
   ]
  },
  {
   "cell_type": "code",
   "execution_count": 8,
   "id": "7e103ddc-ab84-4b91-8e54-b15b45a146a0",
   "metadata": {},
   "outputs": [
    {
     "name": "stdout",
     "output_type": "stream",
     "text": [
      "h\n",
      "l\n"
     ]
    }
   ],
   "source": [
    "continuar = True\n",
    "cadena=\"hola\"\n",
    "\n",
    "while continuar:\n",
    "    for l in cadena:\n",
    "        if l in [\"a\", \"e\", \"i\", \"o\", \"u\"]:\n",
    "            continuar=False\n",
    "        else:\n",
    "            print(l)\n",
    "\n"
   ]
  },
  {
   "cell_type": "code",
   "execution_count": 11,
   "id": "c3fb6bb9-3cf3-4091-b355-e796dc4e5765",
   "metadata": {},
   "outputs": [
    {
     "name": "stdout",
     "output_type": "stream",
     "text": [
      "Enter a number: 2\n"
     ]
    },
    {
     "name": "stdout",
     "output_type": "stream",
     "text": [
      "2 * 1  =  2\n",
      "2 * 2  =  4\n",
      "2 * 3  =  6\n",
      "2 * 4  =  8\n",
      "2 * 5  =  10\n",
      "2 * 6  =  12\n",
      "2 * 7  =  14\n",
      "2 * 8  =  16\n",
      "2 * 9  =  18\n"
     ]
    }
   ],
   "source": [
    "# Charpter 1, Unit 9, Paper coding Q1\n",
    "\n",
    "num = int(input(\"Enter a number:\"))\n",
    "\n",
    "i=1\n",
    "\n",
    "while i<10:\n",
    "    print(num, \"*\", i, \" = \", num*i)\n",
    "    i+=1"
   ]
  },
  {
   "cell_type": "code",
   "execution_count": 15,
   "id": "616cb769-b680-4749-a407-1f5d53c51ba3",
   "metadata": {},
   "outputs": [
    {
     "name": "stdout",
     "output_type": "stream",
     "text": [
      "Enter a number: 2\n"
     ]
    },
    {
     "name": "stdout",
     "output_type": "stream",
     "text": [
      "1 * 1  =  2\n",
      "1 * 2  =  4\n",
      "1 * 3  =  6\n",
      "1 * 4  =  8\n",
      "1 * 5  =  10\n",
      "1 * 6  =  12\n",
      "1 * 7  =  14\n",
      "1 * 8  =  16\n",
      "1 * 9  =  18\n",
      "2 * 1  =  2\n",
      "2 * 2  =  4\n",
      "2 * 3  =  6\n",
      "2 * 4  =  8\n",
      "2 * 5  =  10\n",
      "2 * 6  =  12\n",
      "2 * 7  =  14\n",
      "2 * 8  =  16\n",
      "2 * 9  =  18\n"
     ]
    }
   ],
   "source": [
    "# Charpter 1, Unit 9, Paper coding Q2\n",
    "\n",
    "num = int(input(\"Enter a number:\"))\n",
    "\n",
    "i=1\n",
    "j=1\n",
    "\n",
    "while i<=num:\n",
    "    while j<10:\n",
    "        print(i, \"*\", j, \" = \", num*j)\n",
    "        j+=1\n",
    "        \n",
    "    j=1\n",
    "    i+=1\n"
   ]
  },
  {
   "cell_type": "code",
   "execution_count": 86,
   "id": "23b4ca32-70cc-4e4e-ba23-b4d3b5033fb7",
   "metadata": {},
   "outputs": [
    {
     "name": "stdin",
     "output_type": "stream",
     "text": [
      "Introduce un número entero:  12345\n"
     ]
    },
    {
     "name": "stdout",
     "output_type": "stream",
     "text": [
      "12345 no es un número palíndromo\n"
     ]
    }
   ],
   "source": [
    "# Charpter 1, Unit 9, Pair programming Q1\n",
    "\n",
    "def es_palindromo(numero):\n",
    "    # Convertimos el número a cadena para poder comparar de forma directa\n",
    "    return numero == numero[::-1]\n",
    "\n",
    "# Solicitar al usuario que introduzca un número\n",
    "numero = input(\"Introduce un número entero: \")\n",
    "\n",
    "# Verificar si el número es un palíndromo\n",
    "if es_palindromo(numero):\n",
    "    print(f\"{numero} es un número palíndromo\")\n",
    "else:\n",
    "    print(f\"{numero} no es un número palíndromo\")\n"
   ]
  },
  {
   "cell_type": "code",
   "execution_count": 85,
   "id": "6e47e55b-3d41-4770-b7ce-304a9361786e",
   "metadata": {},
   "outputs": [
    {
     "name": "stdout",
     "output_type": "stream",
     "text": [
      "Guess a number between 1 to 100!\n"
     ]
    },
    {
     "name": "stdin",
     "output_type": "stream",
     "text": [
      "Enter a number:  50\n"
     ]
    },
    {
     "name": "stdout",
     "output_type": "stream",
     "text": [
      "Higher!\n"
     ]
    },
    {
     "name": "stdin",
     "output_type": "stream",
     "text": [
      "Enter a number:  70\n"
     ]
    },
    {
     "name": "stdout",
     "output_type": "stream",
     "text": [
      "Higher!\n"
     ]
    },
    {
     "name": "stdin",
     "output_type": "stream",
     "text": [
      "Enter a number:  80\n"
     ]
    },
    {
     "name": "stdout",
     "output_type": "stream",
     "text": [
      "Lower!\n"
     ]
    },
    {
     "name": "stdin",
     "output_type": "stream",
     "text": [
      "Enter a number:  75\n"
     ]
    },
    {
     "name": "stdout",
     "output_type": "stream",
     "text": [
      "Higher!\n"
     ]
    },
    {
     "name": "stdin",
     "output_type": "stream",
     "text": [
      "Enter a number:  77\n"
     ]
    },
    {
     "name": "stdout",
     "output_type": "stream",
     "text": [
      "Higher!\n"
     ]
    },
    {
     "name": "stdin",
     "output_type": "stream",
     "text": [
      "Enter a number:  76\n"
     ]
    },
    {
     "name": "stdout",
     "output_type": "stream",
     "text": [
      "Higher!\n"
     ]
    },
    {
     "name": "stdin",
     "output_type": "stream",
     "text": [
      "Enter a number:  78\n"
     ]
    },
    {
     "name": "stdout",
     "output_type": "stream",
     "text": [
      "Higher!\n"
     ]
    },
    {
     "name": "stdin",
     "output_type": "stream",
     "text": [
      "Enter a number:  79\n"
     ]
    },
    {
     "name": "stdout",
     "output_type": "stream",
     "text": [
      "Congratulations. Total try =  8\n"
     ]
    }
   ],
   "source": [
    "# Charpter 1, Unit 9, Pair programming Q2\n",
    "import random as rd\n",
    "\n",
    "print(\"Guess a number between 1 to 100!\")\n",
    "\n",
    "numAdivinar=rd.randint(1, 100)\n",
    "numIntroducir=int(input(\"Enter a number: \"))\n",
    "cont=0\n",
    "\n",
    "while numAdivinar!=numIntroducir:\n",
    "    cont+=1\n",
    "    if cont > 5:\n",
    "        print(\"You have tried 5 times, sorry! \")\n",
    "    else:\n",
    "        if numIntroducir < 1 or numIntroducir > 1: \n",
    "            print(\"The number is out of range!\")\n",
    "        else: \n",
    "            if numIntroducir > numAdivinar: print(\"Lower!\")\n",
    "            elif numIntroducir < numAdivinar: print(\"Higher!\")\n",
    "            numIntroducir=int(input(\"Enter a number: \"))\n",
    "        \n",
    "print(\"Congratulations.\", \"Total try = \", cont+1)"
   ]
  },
  {
   "cell_type": "code",
   "execution_count": null,
   "id": "d3d49a98-7e07-4bb9-a725-eda2ac77659d",
   "metadata": {},
   "outputs": [],
   "source": []
  }
 ],
 "metadata": {
  "kernelspec": {
   "display_name": "Python 3 (ipykernel)",
   "language": "python",
   "name": "python3"
  },
  "language_info": {
   "codemirror_mode": {
    "name": "ipython",
    "version": 3
   },
   "file_extension": ".py",
   "mimetype": "text/x-python",
   "name": "python",
   "nbconvert_exporter": "python",
   "pygments_lexer": "ipython3",
   "version": "3.8.19"
  }
 },
 "nbformat": 4,
 "nbformat_minor": 5
}
