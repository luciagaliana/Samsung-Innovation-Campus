{
 "cells": [
  {
   "cell_type": "markdown",
   "id": "0f4f0c57-e39b-48ea-891c-ca8fd807dd22",
   "metadata": {},
   "source": [
    "# Examen Python 21-Jul-24"
   ]
  },
  {
   "cell_type": "markdown",
   "id": "914b7a3d-62e4-4f6b-8d07-1d5872225246",
   "metadata": {},
   "source": [
    "### Nombre: **Lucía Galiana Arrieta**"
   ]
  },
  {
   "cell_type": "markdown",
   "id": "1e4fe9b9-ce5b-4303-a860-cd37f11f3189",
   "metadata": {},
   "source": [
    "## Ejercicio 1 (1 punto)"
   ]
  },
  {
   "cell_type": "markdown",
   "id": "c610d07d-b7a6-40dc-8de5-6e56ec36dcf2",
   "metadata": {},
   "source": [
    "Implementar una función llamada `eliminar_espacios(frase)` que tome como parámetro una **frase** en forma de cadena de caracteres y devuelva esa misma frase **sin los espacios** (si los hay) entre las palabras.\n",
    "\n",
    "Pruebas de verificación:\n",
    "```\n",
    "eliminar_espacios(\"Galicia es hermosa\")\n",
    "Galiciaeshermosa\n",
    "\n",
    "eliminar_espacios(\"Me llevaré mi bicicleta!\")\n",
    "Mellevarémibicicleta!\n",
    "```"
   ]
  },
  {
   "cell_type": "code",
   "execution_count": 9,
   "id": "40737a53-da54-4ca4-a2af-1a975aae31b0",
   "metadata": {},
   "outputs": [
    {
     "data": {
      "text/plain": [
       "'Mellevarémibicicleta!'"
      ]
     },
     "execution_count": 9,
     "metadata": {},
     "output_type": "execute_result"
    }
   ],
   "source": [
    "def eliminar_espacios(frase):\n",
    "    res=\"\"\n",
    "    for c in frase:\n",
    "        if c != \" \":\n",
    "          res+=c \n",
    "    return res\n",
    "eliminar_espacios(\"Me llevaré mi bicicleta!\")\n"
   ]
  },
  {
   "cell_type": "markdown",
   "id": "5a9d1043-61a7-48d2-8024-9a36186e2472",
   "metadata": {},
   "source": [
    "## Ejercicio 2 (1 punto)"
   ]
  },
  {
   "cell_type": "markdown",
   "id": "42572cc7-9f44-4ee8-934d-ab3847e78372",
   "metadata": {},
   "source": [
    "Escribir el código de la función `suma_sublista(L, i, j)` que toma tres parámetros: una **lista L** que contiene números, un **índice de inicio de cálculo i**, y un **índice de fin de cálculo j**. La función debe devolver la **suma de los números que se encuentran entre los índices i y j** de la lista, ambos inclusive. Puedes considerar que ```i``` y ```j``` son índices válidos para la lista ```L```.\n",
    "\n",
    "Pruebas de verificación:\n",
    "```\n",
    "suma_sublista([4, 10, 12, 16, 18], 2, 4)\n",
    "46\n",
    "\n",
    "suma_sublista([2, 4, 6, 8, 10, 12], 0, 2)\n",
    "12\n",
    "```"
   ]
  },
  {
   "cell_type": "code",
   "execution_count": 17,
   "id": "6b481916-0a03-4c51-b0fe-bbbe15fffc27",
   "metadata": {},
   "outputs": [
    {
     "name": "stdout",
     "output_type": "stream",
     "text": [
      "[12, 16, 18]\n",
      "[2, 4, 6]\n"
     ]
    },
    {
     "data": {
      "text/plain": [
       "12"
      ]
     },
     "execution_count": 17,
     "metadata": {},
     "output_type": "execute_result"
    }
   ],
   "source": [
    "def suma_sublista(L,i,j):\n",
    "    sublista = L[i:j+1]\n",
    "    print(sublista)\n",
    "    res=0\n",
    "    for n in sublista:\n",
    "        res+=n\n",
    "    return res\n",
    "\n",
    "suma_sublista([4,10,12,16,18],2,4) \n",
    "suma_sublista([2,4,6,8,10,12],0,2) "
   ]
  },
  {
   "cell_type": "markdown",
   "id": "fdfe8ed4-4788-4dd6-b785-062d16f505ee",
   "metadata": {},
   "source": [
    "## Ejercicio 3 (1.5 puntos)"
   ]
  },
  {
   "cell_type": "markdown",
   "id": "0f7acd84-3959-4ee6-811f-6823c4b98ba5",
   "metadata": {},
   "source": [
    "Diseñar dos clases:\n",
    "\n",
    "* **Rectangulo**: Representa un rectángulo en un plano 2D.\n",
    "* **Paralelepipedo**: Representa un paralelepípedo (una figura 3D con seis caras rectangulares) que herede de la clase **Rectangulo**.\n",
    "\n",
    "Cada clase debe incluir los siguientes elementos:\n",
    "\n",
    "1. Constructores para inicializar los objetos.\n",
    "1. Métodos para calcular el **área**, y también el **volumen** en el caso del paralelepípedo. Recordatorio: el área ($A$) de un rectángulo es $A = a * b$. El área ($A$) de un paralelepípedo es $A=2(ab+ac+bc)$. El volumen ($V$) de un paralelepípedo es $V = a*b*c$\n",
    "1. Método `__str__` para imprimir correctamente las instancias.\n",
    "1. Sobrecarga de operadores para sumar áreas y volúmenes:\n",
    "    1. Sobrecargar el operador + para sumar las áreas de dos rectángulos.\n",
    "    1. Sobrecargar el operador - para restar las áreas de dos rectángulos.\n",
    "    1. Sobrecargar el operador + para sumar los volúmenes de dos paralelepípedos.\n",
    "    1. Sobrecargar el operador - para restar los volúmenes de dos paralelepípedos.\n",
    "\n",
    "*Pruebas de verificación*:\n",
    "\n",
    "```\n",
    "rect1 = Rectangulo(10, 15)\n",
    "rect1.area()\n",
    "150\n",
    "\n",
    "rect2 = Rectangulo(20, 4)\n",
    "rect2.area()\n",
    "80\n",
    "\n",
    "rect1-rect2\n",
    "70\n",
    "\n",
    "para1 = Paralelepipedo(9, 5, 2)\n",
    "para1.volumen()\n",
    "90\n",
    "\n",
    "para2 = Paralelepipedo(7, 3, 5)\n",
    "para2.volumen()\n",
    "105\n",
    "\n",
    "para1 + para2\n",
    "195\n",
    "\n",
    "print(rect1)\n",
    "Rectangulo(base=10, altura=15)\n",
    "\n",
    "print(para1)\n",
    "Paralelepipedo(base=9, altura=5, profundidad=2)\n",
    "```"
   ]
  },
  {
   "cell_type": "code",
   "execution_count": 48,
   "id": "7108364f-3bc7-4d69-9b78-a00eb25a71a5",
   "metadata": {},
   "outputs": [
    {
     "name": "stdout",
     "output_type": "stream",
     "text": [
      "105\n",
      "195\n",
      "Rectangulo(base=10,altura=15)\n",
      "\n",
      "            Paralelepipedo(base=9,altura=5, profundidad=2)\n",
      "        \n"
     ]
    }
   ],
   "source": [
    "class Rectangulo:\n",
    "    def __init__(self,base,altura):\n",
    "        self.base = base\n",
    "        self.altura = altura\n",
    "\n",
    "    def area(self):\n",
    "       return self.base * self.altura\n",
    "\n",
    "    def __add__(self,other_r):\n",
    "        return self.area() + other_r.area()\n",
    "\n",
    "    def __sub__(self,other_r):\n",
    "        return self.area() - other_r.area()\n",
    "\n",
    "    def __str__(self):\n",
    "        return f\"Rectangulo(base={self.base},altura={self.altura})\"\n",
    "        \n",
    "\n",
    "\n",
    "class Paralelepipedo(Rectangulo):\n",
    "    \n",
    "    def __init__(self,base,altura,profundidad):\n",
    "        super().__init__(base,altura)\n",
    "        self.profundidad = profundidad\n",
    "\n",
    "    def area(self):\n",
    "        b = self.base\n",
    "        a = self.altura\n",
    "        c = self.profundidad\n",
    "        area = 2*(a*b + a*c + b*c)\n",
    "        return area\n",
    "        \n",
    "    \n",
    "    def volumen(self):\n",
    "        b = self.base\n",
    "        a = self.altura\n",
    "        c = self.profundidad\n",
    "        volumen = a*b*c\n",
    "        return volumen\n",
    "\n",
    "    def __add__(self, other_p):\n",
    "        return self.volumen() + other_p.volumen()\n",
    "\n",
    "    def __sub__(self, other_p):\n",
    "        return self.volumen() - other_p.volumen()\n",
    "\n",
    "    def __str__(self):\n",
    "         return f\"Paralelepipedo(base={self.base},altura={self.altura}, profundidad={self.profundidad})\"\n"
   ]
  },
  {
   "cell_type": "markdown",
   "id": "72d41310-7161-4629-9a40-5b73087ba018",
   "metadata": {},
   "source": [
    "## Ejercicio 4 (1.5 puntos)"
   ]
  },
  {
   "cell_type": "markdown",
   "id": "6ff6473d-977a-4a4f-899f-3d6aa925f0e1",
   "metadata": {},
   "source": [
    "Diseñar una función **recursiva** denominada ```suma_diccionario_anidado``` que recorra un diccionario anidado y calcule la suma de todos los valores numéricos presentes en él. La función:\n",
    "\n",
    "1. Inicialmente recibirá un diccionario como argumento.\n",
    "2. Debe recorrer el diccionario, sumando aquellos valores que sean enterios, así como todos los que haya en sus estructuras anidadas (que pueden ser listas u otros diccionarios). A su vez, cualquier lista o diccionario puede incluir otras listas o diccionarios entre sus valores.\n",
    "3. Es decir, debe recorrer todas las estructuras anidadas que encuentre (listas o diccionarios) y devolver la suma total de los números enteros que haya en ellas. En el caso de los diccionarios, sumará los valores, ignorando las claves.\n",
    "\n",
    "(**Pista:** el parámetro de la función recursiva puede ser de tipos distintos).\n",
    "\n",
    "\n",
    "*Pruebas de verificacion*:\n",
    "\n",
    "```\n",
    "dic1 = {\n",
    "    'a': 5,\n",
    "    'b': {\n",
    "        'c': 10,\n",
    "        'd': [1, 2, {'e': 3}, [2, 3]]\n",
    "    },\n",
    "    'f': 4\n",
    "}\n",
    "\n",
    "suma_diccionario_anidado(dic1)\n",
    "30\n",
    "```"
   ]
  },
  {
   "cell_type": "code",
   "execution_count": 115,
   "id": "01a42d2a-289a-4293-b62f-9c48f4a907c6",
   "metadata": {},
   "outputs": [
    {
     "data": {
      "text/plain": [
       "42"
      ]
     },
     "execution_count": 115,
     "metadata": {},
     "output_type": "execute_result"
    }
   ],
   "source": [
    "dic1 = {\n",
    "    'a': 5,\n",
    "    'b': {\n",
    "        'c': 10,\n",
    "        'd': [1, 2, {'e': 3}, [2, 3]]\n",
    "    },\n",
    "    'f': 4\n",
    "}\n",
    "\n",
    "\n",
    "def suma_diccionario_anidado(dic):\n",
    "    if len(dic)==0:\n",
    "        return 0\n",
    "    else:\n",
    "        \n",
    "        # Comprobamos si lo que recibimos es una lista o un diccionario\n",
    "        if type(dic)==dict:\n",
    "            clave, valor = dic.popitem()\n",
    "        elif type(dic)==list:\n",
    "            valor = dic.pop()\n",
    "\n",
    "        # Si el valor es de tipo entero lo sumamos\n",
    "        if type(valor)==int:\n",
    "            return valor + suma_diccionario_anidado(dic)   \n",
    "        else: \n",
    "            return suma_diccionario_anidado(valor) + suma_diccionario_anidado(dic)\n",
    "        \n",
    "suma_diccionario_anidado(dic1) #30\n"
   ]
  }
 ],
 "metadata": {
  "kernelspec": {
   "display_name": "Python 3 (ipykernel)",
   "language": "python",
   "name": "python3"
  },
  "language_info": {
   "codemirror_mode": {
    "name": "ipython",
    "version": 3
   },
   "file_extension": ".py",
   "mimetype": "text/x-python",
   "name": "python",
   "nbconvert_exporter": "python",
   "pygments_lexer": "ipython3",
   "version": "3.11.7"
  }
 },
 "nbformat": 4,
 "nbformat_minor": 5
}
