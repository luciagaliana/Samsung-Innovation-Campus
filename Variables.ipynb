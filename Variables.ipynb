{
 "cells": [
  {
   "cell_type": "markdown",
   "metadata": {},
   "source": [
    "# Ejercicios sobre variables"
   ]
  },
  {
   "cell_type": "code",
   "execution_count": null,
   "metadata": {},
   "outputs": [],
   "source": []
  },
  {
   "cell_type": "markdown",
   "metadata": {},
   "source": [
    "### Ejercicio 1\n",
    "La mayor parte de los programas que implementamos hacen 3 cosas:\n",
    "\n",
    "1. Recibir datos de entrada (input data) (por ejemplo, a través del teclado).\n",
    "2. Hacer algo con estos datos, por ejemplo, realizar algún tipo de computación.\n",
    "3. Mostrar el resultado como una salida (output data) (por ejemplo, a través de la pantalla).\n",
    "\n",
    "1. La entrada de datos se realiza mediante la instrucción `input` como en el siguiente ejemplo:\n",
    "\n",
    "   ```python\n",
    "   a = int(input(\"Introduce un valor para a: \"))\n",
    "   ```\n",
    "   Mediante esta instrucción pedimos al usuario de introducir un dato por teclado. Evidentemente, el dato introducido por teclado habrá que almacenarlo en algún sitio de la memoria, es decir, en una variable. La instrucción anterior indica que el dato introducido por consola se interpretará como un número entero (`int`) y será almacenado en la variable `a`.\n",
    "\n",
    "2. Calcular el cuadrado del número en `a` es un ejemplo de una computación:\n",
    "\n",
    "   ```python\n",
    "   cuadrado = a * a\n",
    "   ```\n",
    "   Esta instrucción calcula el cuadrado de `a` y guarda el resultado en la variable `cuadrado`.\n",
    "\n",
    "3. Mostrar un resultado se puede hacer con la instrucción `print`, como, por ejemplo:\n",
    "\n",
    "   ```python\n",
    "   print(\"El cuadrado es: \", cuadrado)\n",
    "   ```\n",
    "\n",
    "   Ejecutar este programa en la consola, podemos obtener, por ejemplo:\n",
    "\n",
    "   ```python\n",
    "   Introduce un numero: 5\n",
    "   El cuadrado es: 25\n",
    "   ```\n",
    "\n",
    "Ten en cuenta que el programa debe funcionar para cualquier número introducido por el usuario. Cuando escribimos programas con los que podemos interactuar a través de la consola, podemos testear nuestro programa ingresando datos de entrada de prueba a través del teclado y verificando la salida resultante en la pantalla. Para hacer tests con nuestro programa y ver si también funciona para otros números, podríamos ejecutar las siguientes pruebas a través de la consola:\n",
    "\n",
    "```\n",
    "Introduce un numero: 0\n",
    "El cuadrado es: 0\n",
    "\n",
    "Introduce un numero: -6\n",
    "El cuadrado es: 36\n",
    "\n",
    "Introduce un numero: 1000000\n",
    "El cuadrado es: 1000000000000\n",
    "```"
   ]
  },
  {
   "cell_type": "code",
   "execution_count": 2,
   "metadata": {},
   "outputs": [
    {
     "name": "stdin",
     "output_type": "stream",
     "text": [
      "Introduce un número: 5\n"
     ]
    },
    {
     "name": "stdout",
     "output_type": "stream",
     "text": [
      "El cuadrado es  25\n"
     ]
    }
   ],
   "source": [
    "a = int(input(\"Introduce un número:\"))\n",
    "\n",
    "print(\"El cuadrado es \", a*a)"
   ]
  },
  {
   "cell_type": "markdown",
   "metadata": {},
   "source": [
    "### Ejercicio 2\n",
    "La instrucción de asignación (=) puede que sea la más importante, probablemente porque, en realidad, es la única instrucción que existe. Miraremos la ejecución de la siguiente instrucción de asignación:\n",
    "\n",
    "```python\n",
    "a = b + c\n",
    "```\n",
    "La ejecución supone lo siguiente:\n",
    "1. El procesador obtiene de las variables `b` y `c` sus contenidos.\n",
    "2. El procesador realiza los cálculos, es decir, realización de la suma de los contenidos de `b` y `c`.\n",
    "3. El procesador transfiere el resultado del cálculo a la memoria para almacenar lo calculado, es decir, el procesador introduce en la variable `a` el resultado de la operación.\n",
    "\n",
    "Por lo tanto, a la hora de trabajar con la instrucción de asignación, hay que tener en cuenta lo siguiente:\n",
    "1. El procesador leerá todas las variables que aparecen a la derecha del símbolo de asignación (=). Estas variables solo serán leídas y deberán tener un valor válido, lo que significa que en algún momento se les habrá dado un valor, bien desde el propio programa o por consola.\n",
    "2. A la derecha de la asignación puede aparecer una única constante (`a=2`), una única variable (`a=b`), o una expresión más compleja que involucre la utilización de varios operadores y variables.\n",
    "3. A la izquierda de la asignación solo aparecerá una variable, la variable que recibirá el resultado de la expresión de la derecha. Es obligatorio mantener este orden."
   ]
  },
  {
   "cell_type": "markdown",
   "metadata": {},
   "source": [
    "### Ejercicio 3\n",
    "Imagina que tu programa tiene dos variables `a` y `b`. Realiza un programa en Python que permita al usuario introducir dos valores para estas variables. Después tu programa tiene que intercambiar los valores de estas dos variables, usando una variable auxiliar para temporalmente guardar el valor de una de las variables. Después hay que mostrar los valores por pantalla. La ejecución debe dar lugar a lo siguiente:\n",
    "\n",
    "```\n",
    "Introduce el valor de la variable a: 4\n",
    "Introduce el valor de la variable b: 2\n",
    "Después de intercambiarlos:\n",
    "El valor de la variable a es 2\n",
    "El valor de la variable b es 4\n",
    "```\n",
    "\n",
    "Ejecuta pruebas a través de la consola y verifica la salida. ¿Tu programa funciona con números negativos? ¿Funciona con letras? ¿Funciona con números reales? ¿Las variables `a` y `b` pueden tener tipos diferentes? ¿Debería funcionar para todos estos casos?\n",
    "\n",
    "Ejecuta más tests de tu programa para verificar su correcto funcionamiento."
   ]
  },
  {
   "cell_type": "code",
   "execution_count": 4,
   "metadata": {},
   "outputs": [
    {
     "name": "stdin",
     "output_type": "stream",
     "text": [
      "Introduce el valor de la variable a: 4\n",
      "Introduce el valor de la variable b: 5\n"
     ]
    },
    {
     "name": "stdout",
     "output_type": "stream",
     "text": [
      "Después de intercambiarlos:\n",
      "El valor de la variable a es  5\n",
      "El valor de la variable b es  4\n"
     ]
    }
   ],
   "source": [
    "a  = input(\"Introduce el valor de la variable a:\")\n",
    "b = input(\"Introduce el valor de la variable b:\")\n",
    "\n",
    "c=b\n",
    "b=a\n",
    "a=c\n",
    "\n",
    "print(\"Después de intercambiarlos:\")\n",
    "\n",
    "print(\"El valor de la variable a es \", a)\n",
    "print(\"El valor de la variable b es \", b)"
   ]
  },
  {
   "cell_type": "markdown",
   "metadata": {},
   "source": [
    "### Ejercicio 4\n",
    "Realizar un programa en Python que recibe valores para tres variables `a`, `b` y `c`, intercambie entre sí sus valores del modo siguiente:\n",
    "\n",
    "1. `b` tome el valor de `a`\n",
    "2. `c` tome el valor de `b`\n",
    "3. `a` tome el valor de `c`\n",
    "\n",
    "Esto hay que hacerlo SIN utilizar variables auxiliares, es decir, una variable adicional de ayuda que no es `a`, `b` o `c` y utilizas para guardar uno de los valores.\n",
    "\n",
    "Ejecute pruebas a través de la consola y verifique la salida. ¿Tu programa funciona con números negativos? ¿Funciona con letras? ¿Funciona con números reales? ¿Las variables `a`, `b` y `c` pueden tener tipos diferentes? ¿Debería su programa funcionar para todos estos casos?"
   ]
  },
  {
   "cell_type": "code",
   "execution_count": 5,
   "metadata": {},
   "outputs": [
    {
     "name": "stdin",
     "output_type": "stream",
     "text": [
      "Introduce el valor de la variable a: 1\n",
      "Introduce el valor de la variable b: 2\n",
      "Introduce el valor de la variable c: 3\n"
     ]
    },
    {
     "name": "stdout",
     "output_type": "stream",
     "text": [
      "El valor de la variable a es  3\n",
      "El valor de la variable b es  1\n",
      "El valor de la variable b es  2\n"
     ]
    }
   ],
   "source": [
    "a  = input(\"Introduce el valor de la variable a:\")\n",
    "b = input(\"Introduce el valor de la variable b:\")\n",
    "c = input(\"Introduce el valor de la variable c:\")\n",
    "\n",
    "# Aquí lo que estamos haciendo es crear una tupla \n",
    "a, b, c = c, a, b\n",
    "\n",
    "print(\"El valor de la variable a es \", a)\n",
    "print(\"El valor de la variable b es \", b)\n",
    "print(\"El valor de la variable c es \", c)\n",
    "\n"
   ]
  },
  {
   "cell_type": "markdown",
   "metadata": {},
   "source": [
    "### Ejercicio 5\n",
    "Las expresiones a la derecha de la asignación pueden ser todo lo complejas que deseemos. Implementar un programa que lea dos números reales, calcule e imprima su suma (+), resta (-), producto (*) y división (/).\n",
    "\n",
    "Ejemplo de ejecución:\n",
    "\n",
    "```\n",
    "Introduce un numero real: 2.5\n",
    "Introduce otro numero real: 34.903\n",
    "La suma es: 37.403\n",
    "La resta es: -32.403\n",
    "El producto es: 87.2575\n",
    "La division es: 0.07162708076669627\n",
    "```"
   ]
  },
  {
   "cell_type": "code",
   "execution_count": null,
   "metadata": {},
   "outputs": [],
   "source": [
    "n1 = float(input(\"Introduce un numero real:\"))\n",
    "n2 = float(input(\"Introduce otro numero real:\"))\n",
    "\n",
    "\n",
    "print(\"La suma es: \", n1+n2)\n",
    "print(\"La resta es: \", n1-n2)\n",
    "print(\"El producto es: \", n1*n2)\n",
    "print(\"La division es: \", n1/n2)"
   ]
  },
  {
   "cell_type": "markdown",
   "metadata": {},
   "source": [
    "### Ejercicio 6\n",
    "Copiar y probar el siguiente programa:\n",
    "\n",
    "```python\n",
    "a = int(input(\"Introduce un valor para la a = \"))\n",
    "a = a + 1\n",
    "print(\"El valor de la variable a es ahora\", a)\n",
    "```\n",
    "\n",
    "Como puede comprobarse, una misma variable puede aparecer tanto como operando como operador. Esta es una situación normal y muy recurrida en programación por lo que conviene acostumbrarse a ello. Sustituid ahora la instrucción `a = a + 1` por `a += 1`."
   ]
  },
  {
   "cell_type": "code",
   "execution_count": null,
   "metadata": {},
   "outputs": [],
   "source": [
    "a = int(input(\"Introduce un valor para la a = \"))\n",
    "a += 1\n",
    "print(\"El valor de la variable a es ahora\", a)\n",
    "\n",
    "\n"
   ]
  },
  {
   "cell_type": "markdown",
   "metadata": {},
   "source": [
    "### Ejercicio 7\n",
    "Implementar un programa que calcule el salario bruto y neto de un empleado. El programa solicitará como datos: el numero de horas trabajadas (`nh` entero), el precio de la hora (`ph` float) y la retención aplicable en tanto por cien (`r`). El salario bruto (SB) y neto (SN) se calcula como:\n",
    "\n",
    "1. SB = nh * ph\n",
    "2. SN = SB - (r/100 * SB)\n",
    "\n",
    "Ejemplo de ejecución:\n",
    "\n",
    "```\n",
    "Introduce el numero de horas trabajadas: 56\n",
    "Introduce el precio de la hora: 10\n",
    "Introduce la retencion aplicable en %: 25\n",
    "El salario bruto es: 560.0\n",
    "El salario neto es: 420.0\n",
    "```\n",
    "\n",
    "Para testear vuestro programa puedes probar con los siguientes casos de test:\n",
    "\n",
    "| Test Case ID | nh (horas) | ph (euro/hora) | r (%) | salario bruto (euros) | salario neto (euros) |\n",
    "|--------------|------------|----------------|-------|------------------------|----------------------|\n",
    "| 1            | 56         | 10             | 25    | 560                    | 420                  |\n",
    "| 2            | 2.5        | 20.4           | 25.6  | 51                     | 37.944               |\n",
    "| 3            | 1          | 25             | 0.1   | 25                     | 24.975               |\n",
    "| 4            | 125        | 20             | 0     | 2500                   | 2500                 |"
   ]
  },
  {
   "cell_type": "code",
   "execution_count": 6,
   "metadata": {},
   "outputs": [
    {
     "name": "stdin",
     "output_type": "stream",
     "text": [
      "Introduce el número de horas trabajadas: 56\n",
      "Introduce el precio de la hora: 10\n",
      "Introduce la retención aplicable en %:  25\n"
     ]
    },
    {
     "name": "stdout",
     "output_type": "stream",
     "text": [
      "El salario bruto es:  560.0\n",
      "El salario neto es:  420.0\n"
     ]
    }
   ],
   "source": [
    "nh = int(input(\"Introduce el número de horas trabajadas:\"))\n",
    "ph = float(input(\"Introduce el precio de la hora:\"))\n",
    "r = float(input(\"Introduce la retención aplicable en %: \"))\n",
    "\n",
    "def salarioBrutoNeto(nh,ph,r):\n",
    "\n",
    "    SB = nh * ph\n",
    "    SN = SB - (r/100*SB)\n",
    "    print(\"El salario bruto es: \", SB)    \n",
    "    print(\"El salario neto es: \", SN)\n",
    "\n",
    "salarioBrutoNeto(nh,ph,r)"
   ]
  },
  {
   "cell_type": "code",
   "execution_count": null,
   "metadata": {},
   "outputs": [],
   "source": []
  }
 ],
 "metadata": {
  "kernelspec": {
   "display_name": "Python 3 (ipykernel)",
   "language": "python",
   "name": "python3"
  },
  "language_info": {
   "codemirror_mode": {
    "name": "ipython",
    "version": 3
   },
   "file_extension": ".py",
   "mimetype": "text/x-python",
   "name": "python",
   "nbconvert_exporter": "python",
   "pygments_lexer": "ipython3",
   "version": "3.8.19"
  }
 },
 "nbformat": 4,
 "nbformat_minor": 4
}
