{
 "cells": [
  {
   "cell_type": "markdown",
   "metadata": {},
   "source": [
    "# Programación efectiva (Capítulo 3) - Ejercicios difíciles"
   ]
  },
  {
   "cell_type": "markdown",
   "metadata": {},
   "source": [
    "## Sección 1: Funciones"
   ]
  },
  {
   "cell_type": "markdown",
   "metadata": {},
   "source": [
    "**Ejercicio 1:**\n",
    "Escribe una función llamada `mezclar_listas` que reciba dos listas de igual longitud y devuelva una nueva lista intercalando los elementos de ambas listas.\n",
    "\n",
    "Casos de prueba:\n",
    "```python\n",
    "mezclar_listas([1, 3, 5], [2, 4, 6]))       ==> [1, 2, 3, 4, 5, 6]\n",
    "mezclar_listas([4, 2, 1, 8], [3, 5, 9, 6])  ==> [4, 3, 2, 5, 1, 9, 8, 6]\n",
    "print(mezclar_listas([6], [1]))             ==> [6, 1]\n",
    "```"
   ]
  },
  {
   "cell_type": "code",
   "execution_count": null,
   "metadata": {},
   "outputs": [],
   "source": []
  },
  {
   "cell_type": "markdown",
   "metadata": {},
   "source": [
    "**Ejercicio 2:**\n",
    "Escribe una función llamada `contar_palabras` que reciba una cadena y devuelva un diccionario con la frecuencia de cada palabra en la cadena.\n",
    "\n",
    "Casos de prueba:\n",
    "```python\n",
    "contar_palabras(\"hola mundo hola\"))                       ==> {'hola': 2, 'mundo': 1}\n",
    "print(contar_palabras(\"\"))                                ==> {}\n",
    "print(contar_palabras(\"esto y lo otro y lo de más allá\")) ==> {'esto': 1, 'y': 2, 'lo': 2, 'otro': 1, 'de': 1, 'más': 1, 'allá': 1}\n",
    "```"
   ]
  },
  {
   "cell_type": "code",
   "execution_count": null,
   "metadata": {},
   "outputs": [],
   "source": []
  },
  {
   "cell_type": "markdown",
   "metadata": {},
   "source": [
    "**Ejercicio 3:**\n",
    "Escribe una función llamada `ordenar_diccionario` que reciba un diccionario y lo devuelva ordenado crecientemente por sus valores.\n",
    "\n",
    "Casos de prueba:\n",
    "```python\n",
    "ordenar_diccionario({'a': 3, 'b': 1, 'c': 2}))  ==> {'b': 1, 'c': 2, 'a': 3}\n",
    "ordenar_diccionario({1: 'm', 2: 'z', 3 : 'd'})  ==> {3: 'd', 1: 'm', 2: 'z'}\n",
    "```"
   ]
  },
  {
   "cell_type": "code",
   "execution_count": null,
   "metadata": {},
   "outputs": [],
   "source": []
  },
  {
   "cell_type": "markdown",
   "metadata": {},
   "source": [
    "**Ejercicio 4:**\n",
    "Escribe una función llamada `comprimir` que implemente la denominada compresión RLE (Run Length Encoding) para una cadena de caracteres.\n",
    "\n",
    "**Nota:** La compresión RLE (Run Length Encoding), o codificación por longitud de carrera, es un método simple de compresión de datos que es eficiente para datos que contienen muchas secuencias repetitivas. El método RLE comprime los datos almacenando las secuencias repetitivas como un solo valor y una cuenta de cuántas veces se repite ese valor.\n",
    "\n",
    "Por ejemplo:\n",
    "```\n",
    "AAAAABBBCCCCCCDDDD ==> 5A3B6C4D\n",
    "```\n",
    "* 5A indica que la letra A se repite 5 veces.\n",
    "* 3B indica que la letra B se repite 3 veces.\n",
    "* 6C indica que la letra C se repite 6 veces.\n",
    "* 4D indica que la letra D se repite 4 veces.\n",
    "\n",
    "Casos de prueba:\n",
    "```python\n",
    "comprimir(\"aaabbcccc\")     ==> \"a3b2c4\"\n",
    "comprimir(\"beeerrsbbaaac\") ==> \"b1e3r2s1b2a3c1\"\n",
    "comprimir(\"xyz\")           ==> \"x1y1z1\"\n",
    "comprimir(\"\")              ==> \"\"\n",
    "```"
   ]
  },
  {
   "cell_type": "code",
   "execution_count": null,
   "metadata": {},
   "outputs": [],
   "source": []
  },
  {
   "cell_type": "markdown",
   "metadata": {},
   "source": [
    "**Ejercicio 5:**\n",
    "Escribe una función llamada `expandir` que decodifique una cadena comprimida usando RLE, es decir, que dada una cadena ya comprimida con esta estrategia, obtenga la cadena original.\n",
    "\n",
    "Casos de prueba:\n",
    "```python\n",
    "expandir(\"a3b2c4\")     ==> \"aaabbcccc\"\n",
    "expandir(\"s3f17n5\")    ==> \"sssfffffffffffffffffnnnnn\"\n",
    "expandir(\"a4g2d8t3\")   ==> \"aaaaggddddddddttt\"\n",
    "expandir(\"a1\")         ==> \"a\"\n",
    "```"
   ]
  },
  {
   "cell_type": "code",
   "execution_count": null,
   "metadata": {},
   "outputs": [],
   "source": []
  },
  {
   "cell_type": "markdown",
   "metadata": {},
   "source": [
    "## Sección 2: Funciones Recursivas"
   ]
  },
  {
   "cell_type": "markdown",
   "metadata": {},
   "source": [
    "**Ejercicio 6:**\n",
    "Escribe una función recursiva llamada `sumar_digitos` que reciba un número y devuelva la suma de sus dígitos.\n",
    "\n",
    "Casos de prueba:\n",
    "```python\n",
    "sumar_digitos(1234)    ==> 10\n",
    "sumar_digitos(4292323) ==> 25\n",
    "sumar_digitos(0)       ==> 0\n",
    "\n",
    "```"
   ]
  },
  {
   "cell_type": "code",
   "execution_count": null,
   "metadata": {},
   "outputs": [],
   "source": []
  },
  {
   "cell_type": "markdown",
   "metadata": {},
   "source": [
    "**Ejercicio 7:**\n",
    "Escribe una función recursiva llamada `mcd` que reciba dos números y devuelva su máximo común divisor.\n",
    "\n",
    "**Nota:** El máximo común divisor (MCD) de dos números es el mayor número que divide a ambos sin dejar residuo. Uno de los métodos más eficientes para calcular el MCD es el algoritmo de Euclides, que se puede implementar de manera recursiva.\n",
    "\n",
    "*Algoritmo de Euclides*: \n",
    "El algoritmo de Euclides se basa en la siguiente observación: el MCD de dos números a y b es el mismo que el MCD de b y a % b (donde % es el operador de módulo que da el resto de la división de a por b). Este proceso se repite hasta que b se convierte en 0. En ese punto, el MCD es a.\n",
    "\n",
    "*Pasos del algoritmo*\n",
    "1. Si b es 0, entonces el MCD es a.\n",
    "1. Si b no es 0, calcula el MCD de b y a % b.\n",
    "\n",
    "Casos de prueba:\n",
    "```python\n",
    "mcd(48, 18)   ==> 6\n",
    "mcd(76, 24)   ==> 4\n",
    "mcd(100, 50)  ==> 50\n",
    "mcd(39, 17)   ==> 1\n",
    "```"
   ]
  },
  {
   "cell_type": "code",
   "execution_count": null,
   "metadata": {},
   "outputs": [],
   "source": []
  },
  {
   "cell_type": "markdown",
   "metadata": {},
   "source": [
    "**Ejercicio 8:**\n",
    "Escribe una función recursiva llamada `decimal_a_binario` que reciba un número decimal y lo convierta a binario. La función debe devolver un cadena de caracteres que representa dicho número en código binario.\n",
    "\n",
    "Para convertir un número decimal a binario de forma recursiva, seguiremos estos pasos:\n",
    "\n",
    "1. Dividir el número decimal entre 2 y obtener el cociente y el resto.\n",
    "1. El resto será el bit menos significativo (el bit más a la derecha) del número binario.\n",
    "1. Continuar dividiendo el cociente entre 2 de forma recursiva hasta que el cociente sea 0.\n",
    "1. Al reunir todos los residuos en orden inverso se obtiene el número binario.\n",
    "\n",
    "Casos de prueba:\n",
    "```python\n",
    "decimal_a_binario(10)   ==> \"1010\"\n",
    "decimal_a_binario(1)    ==> \"1\"\n",
    "decimal_a_binario(0)    ==> \"0\"\n",
    "decimal_a_binario(7)    ==> \"111\"\n",
    "decimal_a_binario(128)  ==> \"10000000\"\n",
    "```"
   ]
  },
  {
   "cell_type": "code",
   "execution_count": null,
   "metadata": {},
   "outputs": [],
   "source": []
  },
  {
   "cell_type": "markdown",
   "metadata": {},
   "source": [
    "**Ejercicio 9:**\n",
    "Escribe una función recursiva llamada `potencia` que reciba dos números, base y exponente, y devuelva la base elevada al exponente.\n",
    "\n",
    "Casos de prueba:\n",
    "```python\n",
    "potencia(2, 3)   ==> 8\n",
    "potencia(5, 0)   ==> 1\n",
    "potencia(7, 1)   ==> 7\n",
    "potencia(10, 3)  ==> 1000\n",
    "```"
   ]
  },
  {
   "cell_type": "code",
   "execution_count": null,
   "metadata": {},
   "outputs": [],
   "source": []
  },
  {
   "cell_type": "markdown",
   "metadata": {},
   "source": [
    "## Sección 3: Funciones Lambda"
   ]
  },
  {
   "cell_type": "markdown",
   "metadata": {},
   "source": [
    "**Ejercicio 10:**\n",
    "Usa una función lambda para convertir una lista de cadenas a mayúsculas.\n",
    "\n",
    "Casos de prueba:\n",
    "```python\n",
    "cadenas = [\"hola\", \"mundo\", \"python\"]   ==> ['HOLA', 'MUNDO', 'PYTHON']\n",
    "cadenas = [\"e\"]                         ==> ['E']\n",
    "cadenas = []                            ==> []\n",
    "```"
   ]
  },
  {
   "cell_type": "code",
   "execution_count": null,
   "metadata": {},
   "outputs": [],
   "source": []
  },
  {
   "cell_type": "markdown",
   "metadata": {},
   "source": [
    "**Ejercicio 11:**\n",
    "Usa una función lambda para filtrar una lista de números y quedarte solo con los números impares.\n",
    "\n",
    "Casos de prueba:\n",
    "```python\n",
    "numeros = [1, 2, 3, 4, 5, 6, 7, 8, 9, 10]  ==> [1, 3, 5, 7, 9]\n",
    "numeros = [-5, 0, 1, -4, 2, 8, 10, -3, 1]  ==> [-5, 1, -3, 1]\n",
    "numeros = [6, 2, 8, 2]                     ==> []\n",
    "\n",
    "```"
   ]
  },
  {
   "cell_type": "code",
   "execution_count": null,
   "metadata": {},
   "outputs": [],
   "source": []
  },
  {
   "cell_type": "markdown",
   "metadata": {},
   "source": [
    "**Ejercicio 12:**\n",
    "Usa una función lambda para ordenar una lista de diccionarios, cada uno de los cuales representa cierta información de una persona. En particular, considera que cada diccionario tiene dos claves, `nombre` y `edad`. La función debe ordenar la lista según el valor de la clave `edad`.\n",
    "\n",
    "Casos de prueba:\n",
    "```python\n",
    "personas = [{'nombre': 'Juan', 'edad': 30}, {'nombre': 'Ana', 'edad': 25}, {'nombre': 'Luis', 'edad': 35}] \n",
    "            ==> \n",
    "            [{'nombre': 'Ana', 'edad': 25}, {'nombre': 'Juan', 'edad': 30}, {'nombre': 'Luis', 'edad': 35}]\n",
    "```"
   ]
  },
  {
   "cell_type": "code",
   "execution_count": null,
   "metadata": {},
   "outputs": [],
   "source": []
  },
  {
   "cell_type": "markdown",
   "metadata": {},
   "source": [
    "**Ejercicio 13:**\n",
    "Usa una función lambda para calcular el producto de una lista de números (no vacía).\n",
    "\n",
    "Casos de prueba:\n",
    "```python\n",
    "numeros = [1, 2, 3, 4, 5]    ==> 120\n",
    "numeros = [10, 5, 20, 30]    ==> 30000\n",
    "numeros = [3]                ==> 3\n",
    "\n",
    "```"
   ]
  },
  {
   "cell_type": "code",
   "execution_count": null,
   "metadata": {},
   "outputs": [],
   "source": []
  },
  {
   "cell_type": "markdown",
   "metadata": {},
   "source": [
    "**Ejercicio 14:**\n",
    "Usa una función lambda para crear una función que divida dos números, pero lanza una excepción si el divisor es cero. En este caso, considera que \"lanzar una excepción\" consiste en devolver una cadena informando del error producido, en lugar del resultado de la división.\n",
    "\n",
    "Casos de prueba:\n",
    "```python\n",
    "division(10, 2)   ==> 5.0\n",
    "division(10, 0)   ==> \"División por cero no permitida\"\n",
    "```"
   ]
  },
  {
   "cell_type": "code",
   "execution_count": null,
   "metadata": {},
   "outputs": [],
   "source": []
  },
  {
   "cell_type": "markdown",
   "metadata": {},
   "source": [
    "## Sección 4: Clases y Objetos"
   ]
  },
  {
   "cell_type": "markdown",
   "metadata": {},
   "source": [
    "**Ejercicio 15:**\n",
    "Define una clase `Empleado` con los atributos `nombre`, `puesto` y `salario`. Incluye un método que calcule el salario anual.\n",
    "\n",
    "Casos de prueba:\n",
    "```python\n",
    "empleado = Empleado(\"Ana\", \"Ingeniera Informática\", 3000)\n",
    "print(empleado.salario_anual())                             ==> 36000\n",
    "```"
   ]
  },
  {
   "cell_type": "code",
   "execution_count": null,
   "metadata": {},
   "outputs": [],
   "source": []
  },
  {
   "cell_type": "markdown",
   "metadata": {},
   "source": [
    "**Ejercicio 16:**\n",
    "Define una clase `Circulo` con el atributo `radio`. Incluye métodos para calcular el área y la circunferencia del círculo.\n",
    "\n",
    "Casos de prueba:\n",
    "```python\n",
    "circulo = Circulo(5)\n",
    "print(circulo.area())               ==> 78.53981633974483\n",
    "print(circulo.circunferencia())     ==> 31.41592653589793\n",
    "```"
   ]
  },
  {
   "cell_type": "code",
   "execution_count": null,
   "metadata": {},
   "outputs": [],
   "source": []
  },
  {
   "cell_type": "markdown",
   "metadata": {},
   "source": [
    "**Ejercicio 17:**\n",
    "Define una clase `Vector` que represente un vector en un espacio 3D con atributos `x`, `y` y `z` que representen sus coordenadas. Incluye métodos para calcular la magnitud del vector y para sumar y restar dos vectores.\n",
    "\n",
    "**Nota:** la magnitud de un vector de 3 componentes (a, b, c) se calcula como Magnitud = √(a² + b² + c²). La suma y la resta de dos vectores se realiza componente a componente, es decir, (1, 2, 3) + (4, 5, 6) = (5, 7, 9).\n",
    "\n",
    "Casos de prueba:\n",
    "```python\n",
    "vector1 = Vector(1, 2, 3)\n",
    "vector2 = Vector(4, 5, 6)\n",
    "print(vector1.magnitud())          ==> 3.7416573867739413\n",
    "suma = vector1.sumar(vector2)\n",
    "resta = vector1.restar(vector2)\n",
    "print(suma.x, suma.y, suma.z)      ==> 5 7 9\n",
    "print(resta.x, resta.y, resta.z)   ==> -3 -3 -3\n",
    "```"
   ]
  },
  {
   "cell_type": "code",
   "execution_count": null,
   "metadata": {},
   "outputs": [],
   "source": []
  },
  {
   "cell_type": "markdown",
   "metadata": {},
   "source": [
    "**Ejercicio 18:**\n",
    "Define una clase `Banco` que maneje cuentas bancarias. La clase debe tener métodos para abrir una cuenta, depositar dinero, retirar dinero y consultar el saldo.\n",
    "\n",
    "Casos de prueba:\n",
    "```python\n",
    "banco = Banco()\n",
    "banco.abrir_cuenta(\"12345\", 1000)\n",
    "banco.depositar(\"12345\", 500)\n",
    "print(banco.consultar_saldo(\"12345\"))  ==> 1500\n",
    "banco.retirar(\"12345\", 200)\n",
    "print(banco.consultar_saldo(\"12345\"))  ==> 1300\n",
    "```"
   ]
  },
  {
   "cell_type": "code",
   "execution_count": null,
   "metadata": {},
   "outputs": [],
   "source": []
  }
 ],
 "metadata": {
  "kernelspec": {
   "display_name": "Python 3 (ipykernel)",
   "language": "python",
   "name": "python3"
  },
  "language_info": {
   "codemirror_mode": {
    "name": "ipython",
    "version": 3
   },
   "file_extension": ".py",
   "mimetype": "text/x-python",
   "name": "python",
   "nbconvert_exporter": "python",
   "pygments_lexer": "ipython3",
   "version": "3.11.7"
  }
 },
 "nbformat": 4,
 "nbformat_minor": 4
}
